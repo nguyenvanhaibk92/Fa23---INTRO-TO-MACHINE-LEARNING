{
 "cells": [
  {
   "cell_type": "markdown",
   "metadata": {
    "colab_type": "text",
    "id": "i_f5u2x9nn6I",
    "slideshow": {
     "slide_type": "slide"
    }
   },
   "source": [
    "# Lecture 19: Tools for Diagnosing Model Performance\n",
    "\n",
    "Adapted from Applied Machine Learning Lecture Notes of Volodymyr Kuleshov, Cornel Tech\n",
    "\n",
    "__Instructor Tan Bui__\n"
   ]
  },
  {
   "cell_type": "markdown",
   "metadata": {
    "slideshow": {
     "slide_type": "slide"
    }
   },
   "source": [
    "# Practical Considerations When Applying Machine Learning\n",
    "\n",
    "Suppose you trained an image classifier with 80% accuracy. What's next?"
   ]
  },
  {
   "cell_type": "markdown",
   "metadata": {
    "slideshow": {
     "slide_type": "fragment"
    }
   },
   "source": [
    "* Add more data?\n",
    "* Train the algorithm for longer?\n",
    "* Use a bigger model?\n",
    "* Add regularization?\n",
    "* Add new features?"
   ]
  },
  {
   "cell_type": "markdown",
   "metadata": {
    "slideshow": {
     "slide_type": "fragment"
    }
   },
   "source": [
    "We will next learn how to prioritize these decisions when applying ML."
   ]
  },
  {
   "cell_type": "markdown",
   "metadata": {
    "slideshow": {
     "slide_type": "slide"
    }
   },
   "source": [
    "# Part 1: Learning Curves\n",
    "\n",
    "Learning curves are a common and useful tool for performing bias/variance analysis in a deeper way.\n",
    "\n",
    "This section is mostly based on [materials](https://www.deeplearning.ai/machine-learning-yearning/) from an e-book by Andrew Ng."
   ]
  },
  {
   "cell_type": "markdown",
   "metadata": {
    "slideshow": {
     "slide_type": "slide"
    }
   },
   "source": [
    "# Review: Overfitting (Variance)\n",
    "\n",
    "Overfitting is one of the most common failure modes of machine learning.\n",
    "* A very expressive model (a high degree polynomial) fits the training dataset perfectly.\n",
    "* The model also makes wildly incorrect prediction outside this dataset, and doesn't generalize.\n",
    "\n",
    "Models that overfit are said to be __high variance__."
   ]
  },
  {
   "cell_type": "markdown",
   "metadata": {
    "slideshow": {
     "slide_type": "slide"
    }
   },
   "source": [
    "# Review: Underfitting (Bias)\n",
    "\n",
    "Underfitting is another common problem in machine learning.\n",
    "* The model is too simple to fit the data well (e.g., approximating a high degree polynomial with linear regression).\n",
    "* As a result, the model is not accurate on training data and is not accurate on new data.\n",
    "\n",
    "Because the model cannot fit the data, we say it's __high bias__."
   ]
  },
  {
   "cell_type": "markdown",
   "metadata": {
    "slideshow": {
     "slide_type": "slide"
    }
   },
   "source": [
    "# Learning Curves\n",
    "\n",
    "Learning curves show performance as a function of __training set size__.\n",
    "<center><img width=60% src=\"img/learning_curve1.png\"></center>\n",
    "\n",
    "Learning curves are defined for __fixed hyperparameters__. Observe that dev set error decreases as we give the model more data."
   ]
  },
  {
   "cell_type": "markdown",
   "metadata": {
    "slideshow": {
     "slide_type": "slide"
    }
   },
   "source": [
    "# Visualizing Ideal Performance\n",
    "\n",
    "It is often very useful to have a target upper bound on performance (e.g., human accuracy); it can also be visualized on the learning curve.\n",
    "<center><img width=60% src=\"img/learning_curve2.png\"></center>\n",
    "Extrapolating the red curve suggests how much additional data we need."
   ]
  },
  {
   "cell_type": "markdown",
   "metadata": {
    "slideshow": {
     "slide_type": "subslide"
    }
   },
   "source": [
    "In the example below, the dev error has plateaued and we know that adding more data will not be useful.\n",
    "<center><img width=80% src=\"img/learning_curve3.png\"></center>"
   ]
  },
  {
   "cell_type": "markdown",
   "metadata": {
    "slideshow": {
     "slide_type": "slide"
    }
   },
   "source": [
    "# Learning Curves for the Training Set\n",
    "\n",
    "We can further augment this plot with training set performance.\n",
    "<center><img width=70% src=\"img/learning_curve4.png\"></center>\n",
    "The blue curve shows training error as a function of training set size."
   ]
  },
  {
   "cell_type": "markdown",
   "metadata": {
    "slideshow": {
     "slide_type": "subslide"
    }
   },
   "source": [
    "A few observations can be made here:\n",
    "* Training error is normally less that dev set error: the training set is easier to fit.\n",
    "* Training error *increases* with training set size because our model overfits small datasets."
   ]
  },
  {
   "cell_type": "markdown",
   "metadata": {
    "slideshow": {
     "slide_type": "slide"
    }
   },
   "source": [
    "# Diagnosing High Bias\n",
    "\n",
    "Learning curves can reveal when we have a bias problem.\n",
    "<center><img width=60% src=\"img/learning_curve5.png\"></center>\n",
    "Here, the model can't fit larger datasets, hence it's underfitting."
   ]
  },
  {
   "cell_type": "markdown",
   "metadata": {
    "slideshow": {
     "slide_type": "subslide"
    }
   },
   "source": [
    "In practice, in can be hard to visually assess if the dev error has plateaued. Adding the training error makes this easier.\n",
    "<center><img width=60% src=\"img/learning_curve6.png\"></center>\n",
    "Here, adding data can no longer help: the blue error can only increase and thus dev error cannot decrease."
   ]
  },
  {
   "cell_type": "markdown",
   "metadata": {
    "slideshow": {
     "slide_type": "skip"
    }
   },
   "source": [
    "# Relationship to Bias/Variance Analysis\n",
    "\n",
    "Bias/variance analysis correspond to looking at the very last point on the learning curves.\n",
    "<center><img width=60% src=\"img/learning_curve6.png\"></center>\n",
    "Looking at the entire curve ensures a more reliable diagnosis."
   ]
  },
  {
   "cell_type": "markdown",
   "metadata": {
    "slideshow": {
     "slide_type": "slide"
    }
   },
   "source": [
    "# Diagnosing High Variance\n",
    "\n",
    "The following plot shows we have high variance.\n",
    "<center><img width=70% src=\"img/learning_curve7.png\"></center>\n",
    "Training error is small (near optimal), but dev set error is large. We can address this by adding more data."
   ]
  },
  {
   "cell_type": "markdown",
   "metadata": {
    "slideshow": {
     "slide_type": "subslide"
    }
   },
   "source": [
    "In this plot, we have both high variance and high bias.\n",
    "<center><img width=70% src=\"img/learning_curve8.png\"></center>\n",
    "The training error significantly exceeds desired performance, and the dev set error is even higher."
   ]
  },
  {
   "cell_type": "markdown",
   "metadata": {
    "slideshow": {
     "slide_type": "skip"
    }
   },
   "source": [
    "# Practical Considerations\n",
    "\n",
    "In practice, the following tricks are useful.\n",
    "* When data is small, performance estimates are noisy, and curves are non-smooth.\n",
    "* The solution is to average over multiple models trained on random subsets of $m$ points, for each $m$.\n",
    "* If classes are imbalanced, choose metrics that account for this."
   ]
  },
  {
   "cell_type": "markdown",
   "metadata": {
    "slideshow": {
     "slide_type": "slide"
    }
   },
   "source": [
    "# Learning Curves: An Example\n",
    "\n",
    "To further illustrate the idea of learning curves, consider the following example."
   ]
  },
  {
   "cell_type": "markdown",
   "metadata": {
    "slideshow": {
     "slide_type": "subslide"
    }
   },
   "source": [
    "We will use the `sklearn` digits dataset, a downscaled version of MNIST."
   ]
  },
  {
   "cell_type": "code",
   "execution_count": 16,
   "metadata": {
    "slideshow": {
     "slide_type": "fragment"
    }
   },
   "outputs": [],
   "source": [
    "# Example from https://scikit-learn.org/stable/auto_examples/model_selection/plot_learning_curve.html\n",
    "from sklearn.datasets import load_digits\n",
    "X, y = load_digits(return_X_y=True)"
   ]
  },
  {
   "cell_type": "markdown",
   "metadata": {
    "slideshow": {
     "slide_type": "subslide"
    }
   },
   "source": [
    "We can visualize these digits as follows:"
   ]
  },
  {
   "cell_type": "code",
   "execution_count": 17,
   "metadata": {
    "slideshow": {
     "slide_type": "fragment"
    }
   },
   "outputs": [
    {
     "data": {
      "text/plain": [
       "<Figure size 576x1152 with 0 Axes>"
      ]
     },
     "metadata": {},
     "output_type": "display_data"
    },
    {
     "data": {
      "image/png": "[encoded data removed]",
      "text/plain": [
       "<Figure size 432x288 with 10 Axes>"
      ]
     },
     "metadata": {
      "needs_background": "light"
     },
     "output_type": "display_data"
    }
   ],
   "source": [
    "from matplotlib import pyplot as plt\n",
    "\n",
    "plt.figure(figsize=(8,16))\n",
    "_, axes = plt.subplots(2, 5)\n",
    "images_and_labels = list(zip(digits.images, digits.target))\n",
    "for ax, (image, label) in zip(axes.flatten(), images_and_labels[:10]):\n",
    "    ax.set_axis_off()\n",
    "    ax.imshow(image, cmap=plt.cm.gray_r, interpolation='nearest')\n",
    "    ax.set_title('Digit %i' % label)"
   ]
  },
  {
   "cell_type": "markdown",
   "metadata": {
    "slideshow": {
     "slide_type": "slide"
    }
   },
   "source": [
    "This is boilerplate code for visualizing learning curves and it's not essential to understand this example."
   ]
  },
  {
   "cell_type": "code",
   "execution_count": 30,
   "metadata": {
    "slideshow": {
     "slide_type": "fragment"
    }
   },
   "outputs": [],
   "source": [
    "import numpy as np\n",
    "from sklearn.model_selection import learning_curve\n",
    "\n",
    "def plot_learning_curve(estimator, title, X, y, axes=None, ylim=None, cv=None,\n",
    "                        n_jobs=None, train_sizes=np.linspace(.1, 1.0, 5)):\n",
    "    \"\"\"Generate learning curves for an algorithm.\"\"\"\n",
    "    if axes is None:\n",
    "        _, axes = plt.subplots(1, 3, figsize=(20, 5))\n",
    "\n",
    "    axes[0].set_title(title)\n",
    "    if ylim is not None:\n",
    "        axes[0].set_ylim(*ylim)\n",
    "    axes[0].set_xlabel(\"Training examples\")\n",
    "    axes[0].set_ylabel(\"Score\")\n",
    "\n",
    "    train_sizes, train_scores, test_scores, fit_times, _ = \\\n",
    "        learning_curve(estimator, X, y, cv=cv, n_jobs=n_jobs,\n",
    "                       train_sizes=train_sizes,\n",
    "                       return_times=True)\n",
    "    train_scores_mean = np.mean(train_scores, axis=1)\n",
    "    train_scores_std = np.std(train_scores, axis=1)\n",
    "    test_scores_mean = np.mean(test_scores, axis=1)\n",
    "    test_scores_std = np.std(test_scores, axis=1)\n",
    "    fit_times_mean = np.mean(fit_times, axis=1)\n",
    "    fit_times_std = np.std(fit_times, axis=1)\n",
    "\n",
    "    # Plot learning curve\n",
    "    axes[0].grid()\n",
    "    axes[0].fill_between(train_sizes, train_scores_mean - train_scores_std,\n",
    "                         train_scores_mean + train_scores_std, alpha=0.1,\n",
    "                         color=\"r\")\n",
    "    axes[0].fill_between(train_sizes, test_scores_mean - test_scores_std,\n",
    "                         test_scores_mean + test_scores_std, alpha=0.1,\n",
    "                         color=\"g\")\n",
    "    axes[0].plot(train_sizes, train_scores_mean, 'o-', color=\"r\",\n",
    "                 label=\"Training Accuracy\")\n",
    "    axes[0].plot(train_sizes, test_scores_mean, 'o-', color=\"g\",\n",
    "                 label=\"Dev Set Accuracy\")\n",
    "    axes[0].legend(loc=\"best\")\n",
    "\n",
    "    return plt"
   ]
  },
  {
   "cell_type": "markdown",
   "metadata": {
    "slideshow": {
     "slide_type": "subslide"
    }
   },
   "source": [
    "We visualize learning curves for two algorithms:\n",
    "* Gaussian Naive Bayes model, a version of Naive Bayes for continuous inputs $x$\n",
    "* A support vector machine with a radial basis function (RBF) kernel"
   ]
  },
  {
   "cell_type": "code",
   "execution_count": 31,
   "metadata": {
    "slideshow": {
     "slide_type": "fragment"
    }
   },
   "outputs": [
    {
     "data": {
      "text/plain": [
       "<module 'matplotlib.pyplot' from '/Users/kuleshov/work/env/aml/lib/python3.6/site-packages/matplotlib/pyplot.py'>"
      ]
     },
     "execution_count": 31,
     "metadata": {},
     "output_type": "execute_result"
    },
    {
     "data": {
      "image/png": "[encoded data removed]",
      "text/plain": [
       "<Figure size 720x360 with 2 Axes>"
      ]
     },
     "metadata": {
      "needs_background": "light"
     },
     "output_type": "display_data"
    }
   ],
   "source": [
    "from sklearn.model_selection import ShuffleSplit\n",
    "from sklearn.naive_bayes import GaussianNB\n",
    "from sklearn.svm import SVC\n",
    "\n",
    "fig, axes = plt.subplots(1, 2, figsize=(10, 5))\n",
    "\n",
    "# This is a technical detail, but we will obtain dev set performance via\n",
    "# cross-valation rather that via a dev set.\n",
    "# Cross validation is a technique that emulates a separate dev set with small data.\n",
    "# We also use 100 iterations to get smoother mean test and train curves,\n",
    "# each time with 20% data randomly selected as a validation set.\n",
    "cv = ShuffleSplit(n_splits=100, test_size=0.2, random_state=0)\n",
    "\n",
    "title = \"Learning Curves (Naive Bayes)\"\n",
    "plot_learning_curve(GaussianNB(), title, X, y, axes=[axes[0]], ylim=(0.7, 1.01), cv=cv, n_jobs=4)\n",
    "\n",
    "cv = ShuffleSplit(n_splits=10, test_size=0.2, random_state=0)\n",
    "title = r\"Learning Curves (SVM, RBF kernel, $\\gamma=0.001$)\"\n",
    "plot_learning_curve(SVC(gamma=0.001), title, X, y, axes=[axes[1]], ylim=(0.7, 1.01),cv=cv, n_jobs=4)"
   ]
  },
  {
   "cell_type": "markdown",
   "metadata": {
    "slideshow": {
     "slide_type": "subslide"
    }
   },
   "source": [
    "We can draw a few takeways:\n",
    "* The Gaussian model is very simple for this task: performance saturates after ~1,400 examples.\n",
    "* The SVM is much more expressive: it keeps improving in dev set performance as we give it more data."
   ]
  },
  {
   "cell_type": "markdown",
   "metadata": {
    "slideshow": {
     "slide_type": "slide"
    }
   },
   "source": [
    "# Limitations of Learning Curves\n",
    "\n",
    "The main limitations of learning curves include:\n",
    "1. Computational time needed to learn the curves.\n",
    "2. Learning curves can be noisy and require human intuition to read."
   ]
  },
  {
   "cell_type": "markdown",
   "metadata": {
    "slideshow": {
     "slide_type": "slide"
    }
   },
   "source": [
    "# Part 2: Loss Curves\n",
    "\n",
    "Another way to understand the performance of the model is to visualize its objective as we train the model.\n",
    "\n",
    "This section is based on [materials](https://cs231n.github.io/neural-networks-3/) by Andrej Karpathy."
   ]
  },
  {
   "cell_type": "markdown",
   "metadata": {
    "slideshow": {
     "slide_type": "slide"
    }
   },
   "source": [
    "# Review: Model Development Workflow\n",
    "\n",
    "The machine learning development workflow has three steps:\n",
    "1. __Training:__ Try a new model and fit it on the training set."
   ]
  },
  {
   "cell_type": "markdown",
   "metadata": {
    "slideshow": {
     "slide_type": "fragment"
    }
   },
   "source": [
    "2. __Model Selection__: Estimate performance on the development set using metrics. Based on results, try a new model idea in step #1."
   ]
  },
  {
   "cell_type": "markdown",
   "metadata": {
    "slideshow": {
     "slide_type": "fragment"
    }
   },
   "source": [
    "3. __Evaluation__: Finally, estimate real-world performance on test set."
   ]
  },
  {
   "cell_type": "markdown",
   "metadata": {
    "slideshow": {
     "slide_type": "slide"
    }
   },
   "source": [
    "# Loss Curves\n",
    "\n",
    "Many algorithms minimize a loss function using an iterative optimization procedure like gradient descent."
   ]
  },
  {
   "cell_type": "markdown",
   "metadata": {
    "slideshow": {
     "slide_type": "fragment"
    }
   },
   "source": [
    "Loss curves plot the __training objective__ as a function of the number of __training steps__ on training or development datasets."
   ]
  },
  {
   "cell_type": "markdown",
   "metadata": {
    "slideshow": {
     "slide_type": "slide"
    }
   },
   "source": [
    "# Diagnosing Bias and Variance\n",
    "\n",
    "Loss curves provide another way to diagnose bias and variance.\n",
    "<center><img width=60% src=\"img/loss_curve1.png\"></center>"
   ]
  },
  {
   "cell_type": "markdown",
   "metadata": {
    "slideshow": {
     "slide_type": "subslide"
    }
   },
   "source": [
    "A few observations can be made here:\n",
    "* As we train the model for more epochs, training accuracy improves.\n",
    "* When we are *not overfitting* (green), validation accuracy tracks training accuracy."
   ]
  },
  {
   "cell_type": "markdown",
   "metadata": {
    "slideshow": {
     "slide_type": "fragment"
    }
   },
   "source": [
    "* When we *overfit* (blue), validation and training accuracies have a large gap, and validation accuracy eventually even decreases."
   ]
  },
  {
   "cell_type": "markdown",
   "metadata": {
    "slideshow": {
     "slide_type": "slide"
    }
   },
   "source": [
    "# Overtraining\n",
    "\n",
    "A failure mode of some machine learning algorithms is *overtraining*.\n",
    "<center><img width=50% src=\"img/loss_curve3.png\"></center>\n",
    "Model performance worsens after some number of training steps. The solution is to train for less or preferrably to regularize the model."
   ]
  },
  {
   "cell_type": "markdown",
   "metadata": {
    "slideshow": {
     "slide_type": "subslide"
    }
   },
   "source": [
    "A closely related problem is __undertraining__: not training the model for long enough.\n",
    "\n",
    "This can be diagnosed via a learning curve that shows that dev set performance is still on an improving trajectory."
   ]
  },
  {
   "cell_type": "markdown",
   "metadata": {
    "slideshow": {
     "slide_type": "slide"
    }
   },
   "source": [
    "# Diagnosing Optimization Issues\n",
    "\n",
    "Loss curves also enable diagnosing optimization problems.\n",
    "<center><img width=50% src=\"img/loss_curve2.png\"></center>\n",
    "Here, we show training set accuracy for different learning rates."
   ]
  },
  {
   "cell_type": "markdown",
   "metadata": {
    "slideshow": {
     "slide_type": "subslide"
    }
   },
   "source": [
    "Each line is a loss curve with a different learning rate (LR).\n",
    "* The blue training is still decreasing at the end: the LR is too low.\n",
    "* The green line plateaus too soon and too high indicating a high LR.\n",
    "* The yellow curve explodes: the LR was soo high that parameters took a step into a very bad direction.\n",
    "\n",
    "The red loss curve is not too fast and not too slow."
   ]
  },
  {
   "cell_type": "markdown",
   "metadata": {
    "slideshow": {
     "slide_type": "slide"
    }
   },
   "source": [
    "# Pros and Cons of Loss Curves\n",
    "\n",
    "Advantages of using loss curves include the following.\n",
    "1. Producing loss curves doesn't require extra computation.\n",
    "2. Loss curves can detect optimization problems and overtraining.\n",
    "\n",
    "Loss curves don't diagnose the utility of adding more data; when bias/variance diagnosis is ambiguous, use learning curves."
   ]
  },
  {
   "cell_type": "markdown",
   "metadata": {
    "slideshow": {
     "slide_type": "slide"
    }
   },
   "source": [
    "# Part 3: Validation Curves\n",
    "\n",
    "Validation curves help us understand the effects of different hyper-parameters."
   ]
  },
  {
   "cell_type": "markdown",
   "metadata": {
    "slideshow": {
     "slide_type": "slide"
    }
   },
   "source": [
    "# Review: Model Development Workflow\n",
    "\n",
    "The machine learning development workflow has three steps:\n",
    "1. __Training:__ Try a new model and fit it on the training set."
   ]
  },
  {
   "cell_type": "markdown",
   "metadata": {
    "slideshow": {
     "slide_type": "fragment"
    }
   },
   "source": [
    "2. __Model Selection__: Estimate performance on the development set using metrics. Based on results, try a new model idea in step #1."
   ]
  },
  {
   "cell_type": "markdown",
   "metadata": {
    "slideshow": {
     "slide_type": "fragment"
    }
   },
   "source": [
    "3. __Evaluation__: Finally, estimate real-world performance on test set."
   ]
  },
  {
   "cell_type": "markdown",
   "metadata": {
    "slideshow": {
     "slide_type": "slide"
    }
   },
   "source": [
    "# Validation Curves\n",
    "\n",
    "ML models normally have hyper-parameters, e.g. L2 regularization strength, neural net layer size, number of K-Means clusters, etc."
   ]
  },
  {
   "cell_type": "markdown",
   "metadata": {
    "slideshow": {
     "slide_type": "fragment"
    }
   },
   "source": [
    "Loss curves plot __model peformance__ as a function of __hyper-parameter values__ on training or development datasets."
   ]
  },
  {
   "cell_type": "markdown",
   "metadata": {
    "slideshow": {
     "slide_type": "slide"
    }
   },
   "source": [
    "# Validation Curve: An Example\n",
    "\n",
    "Consider the following example, in which we train a Ridge model on the digits dataset."
   ]
  },
  {
   "cell_type": "markdown",
   "metadata": {
    "slideshow": {
     "slide_type": "subslide"
    }
   },
   "source": [
    "Recall the digits dataset introduced earlier in this lecture."
   ]
  },
  {
   "cell_type": "code",
   "execution_count": 3,
   "metadata": {
    "slideshow": {
     "slide_type": "fragment"
    }
   },
   "outputs": [
    {
     "data": {
      "text/plain": [
       "<Figure size 576x1152 with 0 Axes>"
      ]
     },
     "metadata": {},
     "output_type": "display_data"
    },
    {
     "data": {
      "image/png": "[encoded data removed]",
      "text/plain": [
       "<Figure size 432x288 with 10 Axes>"
      ]
     },
     "metadata": {
      "needs_background": "light"
     },
     "output_type": "display_data"
    }
   ],
   "source": [
    "from matplotlib import pyplot as plt\n",
    "\n",
    "plt.figure(figsize=(8,16))\n",
    "_, axes = plt.subplots(2, 5)\n",
    "images_and_labels = list(zip(digits.images, digits.target))\n",
    "for ax, (image, label) in zip(axes.flatten(), images_and_labels[:10]):\n",
    "    ax.set_axis_off()\n",
    "    ax.imshow(image, cmap=plt.cm.gray_r, interpolation='nearest')\n",
    "    ax.set_title('Digit %i' % label)"
   ]
  },
  {
   "cell_type": "markdown",
   "metadata": {
    "slideshow": {
     "slide_type": "subslide"
    }
   },
   "source": [
    "We can train an SVM with and RBF kernel for different values of bandwidth $\\gamma$ using the `validation_curve` function."
   ]
  },
  {
   "cell_type": "code",
   "execution_count": 32,
   "metadata": {
    "slideshow": {
     "slide_type": "fragment"
    }
   },
   "outputs": [],
   "source": [
    "from sklearn.model_selection import validation_curve\n",
    "\n",
    "# https://scikit-learn.org/stable/auto_examples/model_selection/plot_validation_curve.html\n",
    "param_range = np.logspace(-6, -1, 5)\n",
    "train_scores, test_scores = validation_curve(\n",
    "    SVC(), X, y, param_name=\"gamma\", param_range=param_range,\n",
    "    scoring=\"accuracy\", n_jobs=1)\n",
    "train_scores_mean = np.mean(train_scores, axis=1)\n",
    "train_scores_std = np.std(train_scores, axis=1)\n",
    "test_scores_mean = np.mean(test_scores, axis=1)\n",
    "test_scores_std = np.std(test_scores, axis=1)"
   ]
  },
  {
   "cell_type": "markdown",
   "metadata": {
    "slideshow": {
     "slide_type": "slide"
    }
   },
   "source": [
    "We visualize this as follows."
   ]
  },
  {
   "cell_type": "code",
   "execution_count": 34,
   "metadata": {
    "slideshow": {
     "slide_type": "fragment"
    }
   },
   "outputs": [
    {
     "data": {
      "text/plain": [
       "<matplotlib.legend.Legend at 0x12cce2f98>"
      ]
     },
     "execution_count": 34,
     "metadata": {},
     "output_type": "execute_result"
    },
    {
     "data": {
      "image/png": "[encoded data removed]",
      "text/plain": [
       "<Figure size 432x288 with 1 Axes>"
      ]
     },
     "metadata": {
      "needs_background": "light"
     },
     "output_type": "display_data"
    }
   ],
   "source": [
    "plt.title(\"Validation Curve with SVM\")\n",
    "plt.xlabel(r\"$\\gamma$\")\n",
    "plt.ylabel(\"Score\")\n",
    "plt.ylim(0.0, 1.1)\n",
    "lw = 2\n",
    "plt.semilogx(param_range, train_scores_mean, label=\"Training accuracy\",\n",
    "             color=\"darkorange\", lw=lw)\n",
    "plt.fill_between(param_range, train_scores_mean - train_scores_std,\n",
    "                 train_scores_mean + train_scores_std, alpha=0.2,\n",
    "                 color=\"darkorange\", lw=lw)\n",
    "plt.semilogx(param_range, test_scores_mean, label=\"Validation accuracy\",\n",
    "             color=\"navy\", lw=lw)\n",
    "plt.fill_between(param_range, test_scores_mean - test_scores_std,\n",
    "                 test_scores_mean + test_scores_std, alpha=0.2,\n",
    "                 color=\"navy\", lw=lw)\n",
    "plt.legend(loc=\"best\")"
   ]
  },
  {
   "cell_type": "markdown",
   "metadata": {
    "slideshow": {
     "slide_type": "subslide"
    }
   },
   "source": [
    "This shows that the SVM:\n",
    "* Underfits for small values of $\\gamma < 10^{-5}$\n",
    "* Overfits for large values of $\\gamma > 10^{-3}$ and the training and validation curves diverge.\n",
    "\n",
    "Medium values of $\\gamma$ are just right."
   ]
  },
  {
   "cell_type": "markdown",
   "metadata": {
    "slideshow": {
     "slide_type": "slide"
    }
   },
   "source": [
    "# Part 4: Distribution Mismatch\n",
    "\n",
    "So far, we assumed that the distributions across different datasets are relatively similar.\n",
    "\n",
    "When that is not the case, we may run into errors."
   ]
  },
  {
   "cell_type": "markdown",
   "metadata": {
    "slideshow": {
     "slide_type": "slide"
    }
   },
   "source": [
    "# Review: Datasets for Model Development\n",
    "\n",
    "When developing machine learning models, it is customary to work with three datasets:\n",
    "* __Training set__: Data on which we train the models.\n",
    "* __Development set__ (validation or hold-out set): Data used for tuning models.\n",
    "* __Test set__: Data for evaluating the final performance of our model."
   ]
  },
  {
   "cell_type": "markdown",
   "metadata": {
    "slideshow": {
     "slide_type": "slide"
    }
   },
   "source": [
    "# Review: Choosing Dev and Test Sets\n",
    "\n",
    "The development and test sets should be from the data distribution we will see in production."
   ]
  },
  {
   "cell_type": "markdown",
   "metadata": {
    "slideshow": {
     "slide_type": "fragment"
    }
   },
   "source": [
    "* This is because we want to be optimizing performance in deployment (e.g., classification accuracy on dog images).\n",
    "* The training data could potentially be from a different distribution (e.g., include other types of animal images)."
   ]
  },
  {
   "cell_type": "markdown",
   "metadata": {
    "slideshow": {
     "slide_type": "slide"
    }
   },
   "source": [
    "# Distribution Mismatch\n",
    "\n",
    "We talk about distribution mismatch when the previously stated conditions don't hold, i.e. we have the following:\n",
    "1. Our dev and test sets are no longer representative.\n",
    "2. Our training set is too different from the dev set."
   ]
  },
  {
   "cell_type": "markdown",
   "metadata": {
    "slideshow": {
     "slide_type": "skip"
    }
   },
   "source": [
    "# Considerations For The Training Set\n",
    "\n",
    "When adding more data to the training set,\n",
    "1. The new data needs to be useful, e.g., images of animals (but probably not cars!) for a cats classifier.\n",
    "2. The model needs to be expressive to be accurate on all types of input data."
   ]
  },
  {
   "cell_type": "markdown",
   "metadata": {
    "slideshow": {
     "slide_type": "slide"
    }
   },
   "source": [
    "# The Training Dev Set\n",
    "\n",
    "In order to diagnose mismatch problems between the training and dev sets, we may create a new dataset."
   ]
  },
  {
   "cell_type": "markdown",
   "metadata": {
    "slideshow": {
     "slide_type": "fragment"
    }
   },
   "source": [
    "The __training dev set__ is a random subset of the training set used as a second validation set."
   ]
  },
  {
   "cell_type": "markdown",
   "metadata": {
    "slideshow": {
     "slide_type": "slide"
    }
   },
   "source": [
    "# Diagnosing Bias and Variance\n",
    "\n",
    "We may use this new dataset to diagnose distribution mismatch. Suppose dev set error is high.\n",
    "* If the training error is low, but training dev and standard dev errors are high, we are overfitting.\n",
    "* If the training and training dev errors are low, but dev error are high, we have distribution mismatch."
   ]
  },
  {
   "cell_type": "markdown",
   "metadata": {
    "slideshow": {
     "slide_type": "subslide"
    }
   },
   "source": [
    "As an example, suppose are building a cat image classifier.\n",
    "* The training set consists of cats and other animals.\n",
    "* The traning dev set also containts cats and other animals.\n",
    "* The dev and test sets only contain cats."
   ]
  },
  {
   "cell_type": "markdown",
   "metadata": {
    "slideshow": {
     "slide_type": "subslide"
    }
   },
   "source": [
    "Consider the following example:\n",
    "* Our training set error is 2%.\n",
    "* Our training dev set error is 6%.\n",
    "* Our dev set error is 6%.\n",
    "\n",
    "This is a typical example of __high variance__ (overfitting)."
   ]
  },
  {
   "cell_type": "markdown",
   "metadata": {
    "slideshow": {
     "slide_type": "subslide"
    }
   },
   "source": [
    "Next, consider another example:\n",
    "* Our training set error is 10%.\n",
    "* Our training dev set error is 11%.\n",
    "* Our dev set error is 12%.\n",
    "* Human error is 1%.\n",
    "\n",
    "This looks like an example of __high avoidable bias__ (underfitting)."
   ]
  },
  {
   "cell_type": "markdown",
   "metadata": {
    "slideshow": {
     "slide_type": "subslide"
    }
   },
   "source": [
    "Finally, suppose you see the following:\n",
    "* Our training set error is 4%.\n",
    "* Our training dev set error is 5%.\n",
    "* Our dev set error is 13%.\n",
    "\n",
    "This is a model that is generalizing to the training dev set, but not the standard dev set. Distribution mismatch is a problem."
   ]
  },
  {
   "cell_type": "markdown",
   "metadata": {
    "slideshow": {
     "slide_type": "slide"
    }
   },
   "source": [
    "# Quantifying Distribution Mismatch\n",
    "\n",
    "We may quantify this issue more precisely using the following decomposition.\n",
    "\n",
    "\\begin{align*}\n",
    "\\text{dev error} & = \n",
    "(\\underbrace{\\text{dev error} - \\text{dev train error}}_\\text{distribution mismatch}) \\\\\n",
    "& + (\\underbrace{\\text{dev train error} - \\text{train error}}_\\text{variance})\n",
    "+ (\\underbrace{\\text{train error} - \\text{opt error}}_\\text{avoidable bias}) \\\\\n",
    "& + \\underbrace{\\text{opt error}}_\\text{unavoidable bias}\n",
    "\\end{align*}"
   ]
  },
  {
   "cell_type": "markdown",
   "metadata": {
    "slideshow": {
     "slide_type": "slide"
    }
   },
   "source": [
    "# Beyond the Training Set\n",
    "\n",
    "We may also apply this analysis to the dev and test sets to determine if they're stale.\n",
    "1. First, collect additional real-world data.\n",
    "2. If the model generalizes well the current dev and test sets but not the real-world data, the current data is stale!"
   ]
  },
  {
   "cell_type": "markdown",
   "metadata": {
    "slideshow": {
     "slide_type": "slide"
    }
   },
   "source": [
    "# Addressing Data Mismatch\n",
    "\n",
    "Correcting data mismatch requires:\n",
    "1. Understanding the properties of the data that cause the mismatch.\n",
    "2. Removing mismatching data and adding data that matches better.\n",
    "\n",
    "The best way to understand data mismatch is using error analysis."
   ]
  }
 ],
 "metadata": {
  "accelerator": "GPU",
  "celltoolbar": "Slideshow",
  "colab": {
   "collapsed_sections": [],
   "name": "neural-ode.ipynb",
   "provenance": []
  },
  "kernelspec": {
   "display_name": "Python 3 (ipykernel)",
   "language": "python",
   "name": "python3"
  },
  "language_info": {
   "codemirror_mode": {
    "name": "ipython",
    "version": 3
   },
   "file_extension": ".py",
   "mimetype": "text/x-python",
   "name": "python",
   "nbconvert_exporter": "python",
   "pygments_lexer": "ipython3",
   "version": "3.11.4"
  },
  "rise": {
   "controlsTutorial": false,
   "height": 900,
   "help": false,
   "margin": 0,
   "maxScale": 2,
   "minScale": 0.2,
   "progress": true,
   "scroll": true,
   "theme": "simple",
   "width": 1200
  }
 },
 "nbformat": 4,
 "nbformat_minor": 4
}
