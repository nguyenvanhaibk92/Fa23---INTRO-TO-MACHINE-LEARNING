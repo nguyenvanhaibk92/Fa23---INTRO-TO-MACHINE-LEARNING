{
 "cells": [
  {
   "cell_type": "markdown",
   "metadata": {
    "colab_type": "text",
    "id": "i_f5u2x9nn6I",
    "slideshow": {
     "slide_type": "slide"
    }
   },
   "source": [
    "\n",
    "# Lecture 11: Kernels\n",
    "Adapted from Applied Machine Learning Lecture Notes of Volodymyr Kuleshov, Cornel Tech\n",
    "\n",
    "__Instructor Tan Bui__\n",
    "\n",
    "$\\newcommand{\\bs}[1]{\\boldsymbol{#1}}$"
   ]
  },
  {
   "cell_type": "markdown",
   "metadata": {
    "slideshow": {
     "slide_type": "slide"
    }
   },
   "source": [
    "# Part 1: The Kernel Trick: Motivation\n",
    "\n",
    "So far, the majority of the machine learning models we have seen have been *linear*.\n",
    "\n",
    "In this lecture, we will see a general way to make many of these models *non-linear*. We willl use a new idea called *kernels*."
   ]
  },
  {
   "cell_type": "markdown",
   "metadata": {
    "slideshow": {
     "slide_type": "slide"
    }
   },
   "source": [
    "# Review: Linear Regression\n",
    "\n",
    "Recall that a linear model has the form\n",
    "$$ f(\\bs{x}) = \\sum_{j=0}^d {\\bs{\\theta}}_j \\cdot {x}_j = \\bs{\\theta}^\\top \\bs{x}. $$\n",
    "where $\\bs{x}$ is a vector of features and we used the notation ${x}_0 = 1$."
   ]
  },
  {
   "cell_type": "markdown",
   "metadata": {
    "slideshow": {
     "slide_type": "fragment"
    }
   },
   "source": [
    "We pick $\\bs{\\theta}$ to minimize the (L2-regularized) mean squared error (MSE):\n",
    "$$J(\\bs{\\theta})= \\frac{1}{2n} \\sum_{i=1}^n(y^{(i)} - \\bs{\\theta}^\\top \\bs{x}^{(i)})^2 + \\frac{\\lambda}{2}\\sum_{j=1}^d {\\theta}_j^2$$"
   ]
  },
  {
   "cell_type": "markdown",
   "metadata": {
    "slideshow": {
     "slide_type": "skip"
    }
   },
   "source": [
    "# Review: Polynomials\n",
    "\n",
    "Recall that a polynomial of degree $p$ is a function of the form\n",
    "$$\n",
    "a_p x^p + a_{p-1} x^{p-1} + ... + a_{1} x + a_0.\n",
    "$$\n",
    "\n",
    "Below are some examples of polynomial functions."
   ]
  },
  {
   "cell_type": "markdown",
   "metadata": {
    "slideshow": {
     "slide_type": "skip"
    }
   },
   "source": [
    "# Review: Polynomial Regression\n",
    "\n",
    "Specifically, given a one-dimensional continuous variable $x$, we can defining a feature function $\\bs{\\phi} : \\mathbb{R} \\to \\mathbb{R}^{p+1}$ as\n",
    "$$ \\bs{\\phi}(\\bs{x}) = \\begin{bmatrix}\n",
    "1 \\\\\n",
    "x \\\\\n",
    "x^2 \\\\\n",
    "\\vdots \\\\\n",
    "x^p\n",
    "\\end{bmatrix}.\n",
    "$$"
   ]
  },
  {
   "cell_type": "markdown",
   "metadata": {
    "slideshow": {
     "slide_type": "skip"
    }
   },
   "source": [
    "The class of models of the form\n",
    "$$ f_\\theta(\\bs{x}) :=  \\bs{\\theta}^\\top \\bs{\\phi}(\\bs{x}) $$\n",
    "with parameters $\\bs{\\theta}$ and polynomial features $\\bs{\\phi}$ is the set of $p$-degree polynomials."
   ]
  },
  {
   "cell_type": "markdown",
   "metadata": {
    "slideshow": {
     "slide_type": "slide"
    }
   },
   "source": [
    "# Towards General Non-Linear Features\n",
    "\n",
    "Any non-linear feature map $\\bs{\\phi}(\\bs{x}) : \\mathbb{R}^d \\to \\mathbb{R}^p$ can be used to obtain general models of the form\n",
    "$$ f_\\theta(\\bs{x}) := \\bs{\\theta}^\\top \\bs{\\phi}(\\bs{x}) $$\n",
    "that are highly non-linear in $\\bs{x}$ but linear in $\\bs{\\theta}$."
   ]
  },
  {
   "cell_type": "markdown",
   "metadata": {
    "slideshow": {
     "slide_type": "slide"
    }
   },
   "source": [
    "# The Featurized Design Matrix\n",
    "\n",
    "It is useful to represent the featurized dataset as a matrix $\\Phi \\in \\mathbb{R}^{n \\times p}$:\n",
    "\n",
    "$$ \\Phi = \\begin{bmatrix}\n",
    "\\bs{\\phi}(\\bs{x}^{(1)})_1 & \\bs{\\phi}(\\bs{x}^{(1)})_2 & \\ldots & \\bs{\\phi}(\\bs{x}^{(1)})_p \\\\\n",
    "\\bs{\\phi}(\\bs{x}^{(2)})_1 & \\bs{\\phi}(\\bs{x}^{(2)})_2 & \\ldots & \\bs{\\phi}(\\bs{x}^{(2)})_p \\\\\n",
    "\\vdots \\\\\n",
    "\\bs{\\phi}(\\bs{x}^{(n)})_1 & \\bs{\\phi}(\\bs{x}^{(n)})_2 & \\ldots & \\bs{\\phi}(\\bs{x}^{(n)})_p\n",
    "\\end{bmatrix}\n",
    "=\n",
    "\\begin{bmatrix}\n",
    "- & \\bs{\\phi}(\\bs{x}^{(1)})^\\top & - \\\\\n",
    "- & \\bs{\\phi}(\\bs{x}^{(2)})^\\top & - \\\\\n",
    "& \\vdots & \\\\\n",
    "- & \\bs{\\phi}(\\bs{x}^{(n)})^\\top & - \\\\\n",
    "\\end{bmatrix}\n",
    ".$$"
   ]
  },
  {
   "cell_type": "markdown",
   "metadata": {
    "slideshow": {
     "slide_type": "slide"
    }
   },
   "source": [
    "# Featurized Normal Equations\n",
    "\n",
    "The normal equations provide a closed-form solution for $\\bs{\\theta}$:\n",
    "$$ \\bs{\\theta} = ({X}^\\top {X}  + \\lambda \\bs{I})^{-1} {X}^\\top \\bs{y}.$$\n",
    "\n",
    "When the vectors of attributes $\\bs{x}^{(i)}$ are featurized, we can write this as\n",
    "$$ \\bs{\\theta} = (\\Phi^\\top \\Phi + \\lambda \\bs{I})^{-1} {\\Phi}^\\top \\bs{y}.$$"
   ]
  },
  {
   "cell_type": "markdown",
   "metadata": {
    "slideshow": {
     "slide_type": "slide"
    }
   },
   "source": [
    "# Push-Through Matrix Identity\n",
    "\n",
    "We can modify this expression by using a version of the [push-through matrix identity](https://en.wikipedia.org/wiki/Woodbury_matrix_identity#Discussion):\n",
    "$$ (\\lambda I + U V)^{-1} U = U (\\lambda I + V U)^{-1} $$\n",
    "where $U \\in \\mathbb{R}^{n \\times m}$ and $V \\in \\mathbb{R}^{m \\times n}$ and $\\lambda \\neq 0$"
   ]
  },
  {
   "cell_type": "markdown",
   "metadata": {
    "slideshow": {
     "slide_type": "fragment"
    }
   },
   "source": [
    "Proof sketch: Start with $U (\\lambda I + V U) = (\\lambda I + U V) U$ and multiply both sides by $(\\lambda I + V U)^{-1}$ on the right and $(\\lambda I + U V)^{-1}$ on the left.\n"
   ]
  },
  {
   "cell_type": "markdown",
   "metadata": {
    "slideshow": {
     "slide_type": "slide"
    }
   },
   "source": [
    "# Normal Equations: Dual Form\n",
    "\n",
    "We can apply the identity $(\\lambda I + U V)^{-1} U = U (\\lambda I + V U)^{-1}$ to the normal equations with $U=\\Phi^\\top$ and $V=\\Phi$.\n",
    "\n",
    "$$ \\bs{\\theta} = (\\Phi^\\top \\Phi + \\lambda I)^{-1} \\Phi^\\top \\bs{y}$$\n",
    "\n",
    "to obtain the *dual* form:\n",
    "\n",
    "$$ \\bs{\\theta} = \\Phi^\\top (\\Phi \\Phi^\\top + \\lambda I)^{-1} \\bs{y}.$$\n",
    "\n",
    "The first approach takes $O(p^3)$ time; the second is $O(n^3)$ and is faster when $p > n$."
   ]
  },
  {
   "cell_type": "markdown",
   "metadata": {
    "slideshow": {
     "slide_type": "slide"
    }
   },
   "source": [
    "# Feature Representations for Parameter $\\theta$\n",
    "\n",
    "An interesting corollary of the dual form\n",
    "$$ \\bs{\\theta} = \\Phi^\\top \\underbrace{(\\Phi \\Phi^\\top + \\lambda I)^{-1} \\bs{y}}_\\alpha$$\n",
    "is that the optimal $\\bs{\\theta}$ is a linear combination of the $n$ training set features:\n",
    "$$ \\bs{\\theta} = \\sum_{i=1}^n \\alpha_i \\phi(\\bs{x}^{(i)}). $$"
   ]
  },
  {
   "cell_type": "markdown",
   "metadata": {
    "slideshow": {
     "slide_type": "fragment"
    }
   },
   "source": [
    "Here, the weights $\\alpha_i$ are derived from $(\\Phi \\Phi^\\top + \\lambda I)^{-1} \\bs{y}$ and equal\n",
    "$$\\alpha_i = \\sum_{j=1}^n L_{ij} \\bs{y}_j$$\n",
    "where $L = (\\Phi \\Phi^\\top + \\lambda I)^{-1}.$"
   ]
  },
  {
   "cell_type": "markdown",
   "metadata": {
    "slideshow": {
     "slide_type": "slide"
    }
   },
   "source": [
    "# Predictions From Features\n",
    "\n",
    "Consider now a prediction $\\bs{\\phi}(\\bs{x'})^\\top \\bs{\\theta}$ at a new input $\\bs{x'}$:\n",
    "$$\\bs{\\phi}(\\bs{x'})^\\top \\bs{\\theta} = \\sum_{i=1}^n \\alpha_i \\ \\bs{\\phi}(\\bs{x'})^\\top \\bs{\\phi}(\\bs{x}^{(i)}).$$\n",
    "\n",
    "The **crucial observation** is that the features $\\phi(x)$ are never used directly in this equation. **Only their dot product is used!**\n",
    "\n",
    "This observation will be at the heart of a powerful new idea called *the kernel trick*."
   ]
  },
  {
   "cell_type": "markdown",
   "metadata": {
    "slideshow": {
     "slide_type": "slide"
    }
   },
   "source": [
    "# Learning From Feature Products\n",
    "\n",
    "**We also don't need features $\\phi$ for learning $\\theta$**, just their dot product! \n",
    "First, recall that each row $i$ of $\\Phi$ is the $i$-th featurized input $\\phi(x^{(i)})^\\top$."
   ]
  },
  {
   "cell_type": "markdown",
   "metadata": {
    "slideshow": {
     "slide_type": "fragment"
    }
   },
   "source": [
    "Thus $K = \\Phi \\Phi^\\top$ is a matrix of all dot products between all the $\\bs{\\phi}(\\bs{x}^{(i)})$\n",
    "$$K_{ij} = \\bs{\\phi}(\\bs{x}^{(i)})^\\top \\bs{\\phi}(\\bs{x}^{(j)}).$$"
   ]
  },
  {
   "cell_type": "markdown",
   "metadata": {
    "slideshow": {
     "slide_type": "fragment"
    }
   },
   "source": [
    "We can compute $\\alpha = (K+\\lambda I)^{-1}y$ and use it for predictions\n",
    "$$\\bs{\\phi}(\\bs{x'})^\\top \\bs{\\theta} = \\sum_{i=1}^n \\alpha_i \\bs{\\phi}(\\bs{x'})^\\top \\bs{\\phi}(\\bs{x}^{(i)}).$$\n",
    "and all this only requires dot products, not features $\\phi$! **But this sounds strange as how could we compute the inner product between feature vectors without knowing the feature map $\\phi$?**\n",
    "\n",
    "***So far so good except the following two problems:***\n",
    "1. How do we construction the feature map in the first place? \n",
    "2. We have to compute inner products in the feature space and it could be much more expensive if the feature space is higher dimension (most of the cases). So what is the point?"
   ]
  },
  {
   "cell_type": "markdown",
   "metadata": {
    "slideshow": {
     "slide_type": "slide"
    }
   },
   "source": [
    "# The Kernel Trick to Bypass $\\phi^T(x)\\phi(z)$\n",
    "\n",
    "The above observations hint at a powerful new idea -- if we can compute dot products of features $\\phi(x)$ efficiently, then we will be able to use high-dimensional features easily.\n",
    "\n",
    "It turns our that we can do this for many ML algorithms -- we call this the Kernel Trick."
   ]
  },
  {
   "cell_type": "markdown",
   "metadata": {
    "slideshow": {
     "slide_type": "slide"
    }
   },
   "source": [
    "\n",
    "# Part 2: From feature map to Kernel: An Example\n",
    "\n",
    "Many ML algorithms can be written down as optimization problems in which the features $\\bs{\\phi}(\\bs{x})$ only appear as dot products $\\bs{\\phi}(\\bs{x})^\\top \\bs{\\phi}(\\bs{z})$ that can be computed efficiently via a kernel without the need of knowing $\\bs{\\phi}$."
   ]
  },
  {
   "cell_type": "markdown",
   "metadata": {
    "slideshow": {
     "slide_type": "slide"
    }
   },
   "source": [
    "# Polynomial features I\n",
    "\n",
    "Can we compute the dot product $\\bs{\\phi}(\\bs{x})^\\top \\bs{\\phi}(x')$ of polynomial features $\\bs{\\phi}(\\bs{x})$ more efficiently than using the standard definition of a dot product? Let's look at an example.\n",
    "\n",
    "To start, consider polynomial features $\\bs{\\phi} : \\mathbb{R}^d \\to \\mathbb{R}^{d^2}$ of the form\n",
    "\n",
    "$$ \\bs{\\phi}(\\bs{x})_{ij} = x_i x_j \\;\\text{ for $i,j \\in \\{1,2,\\ldots,d\\}$}. $$ \n"
   ]
  },
  {
   "cell_type": "markdown",
   "metadata": {
    "slideshow": {
     "slide_type": "subslide"
    }
   },
   "source": [
    "For $d=3$ this looks like\n",
    "$$ \\small \\bs{\\phi}(\\bs{x}) = \\begin{bmatrix}\n",
    "x_1 x_1 \\\\\n",
    "x_1 x_2 \\\\\n",
    "x_1 x_3 \\\\\n",
    "x_2 x_1 \\\\\n",
    "x_2 x_1 \\\\\n",
    "x_2 x_2 \\\\\n",
    "x_3 x_3 \\\\\n",
    "x_3 x_1 \\\\\n",
    "x_3 x_2 \\\\\n",
    "x_3 x_3 \\\\\n",
    "\\end{bmatrix}.\n",
    "$$\n"
   ]
  },
  {
   "cell_type": "markdown",
   "metadata": {
    "slideshow": {
     "slide_type": "subslide"
    }
   },
   "source": [
    "The product of $x$ and $z$ in feature space equals:\n",
    "$$ \\bs{\\phi}(\\bs{x})^\\top \\bs{\\phi}(\\bs{z}) = \\sum_{i=1}^d \\sum_{j=1}^d x_i x_j z_i z_j $$\n",
    "Computing this dot product invovles the sum over $d^2$ terms and takes $O(d^2)$ time. \n"
   ]
  },
  {
   "cell_type": "markdown",
   "metadata": {
    "slideshow": {
     "slide_type": "subslide"
    }
   },
   "source": [
    "An altenative way of computing the dot product $\\bs{\\phi}(\\bs{x})^\\top \\bs{\\phi}(\\bs{z})$ is to instead compute $(\\bs{x}^\\top \\bs{z})^2$. One can check that this has the same result:\n",
    "\\begin{align*}\n",
    "(\\bs{x}^\\top \\bs{z})^2 & = (\\sum_{i=1}^d x_i z_i)^2 \\\\\n",
    "& = (\\sum_{i=1}^d x_i z_i) \\cdot (\\sum_{j=1}^d x_j z_j) \\\\\n",
    "& = \\sum_{i=1}^d \\sum_{j=1}^d x_i z_i x_j z_j \\\\\n",
    "& = \\bs{\\phi}(\\bs{x})^\\top \\bs{\\phi}(\\bs{z})\n",
    "\\end{align*}\n",
    "\n",
    "However, computing $(\\bs{x}^\\top \\bs{z})^2$ can be done in only $O(d)$ time!"
   ]
  },
  {
   "cell_type": "markdown",
   "metadata": {
    "slideshow": {
     "slide_type": "subslide"
    }
   },
   "source": [
    "This is a very powerful idea:\n",
    "* We can compute the dot product between $O(d^2)$ features in only $O(d)$ time.\n",
    "* We can use high-dimensional features within ML algorithms that only rely on dot products (like kernelized ridge regression) without incurring extra costs.\n",
    "* **We don't even need to know how to calculate, and hence knowning, $\\bs{\\phi}(\\bs{z})$ as we know $\\bs{\\phi}(\\bs{x})^\\top \\bs{\\phi}(\\bs{z}) = (\\bs{x}^\\top \\bs{z})^2$. Turning the argument around: if we define the inner product in the feature space as $\\bs{\\phi}(\\bs{x})^\\top \\bs{\\phi}(\\bs{z}) := (\\bs{x}^\\top \\bs{z})^2$, then we do not need to know the feature map $\\bs{\\phi}$ in all of our calculations as all we need are the inner products, which are given by $\\bs{x}^\\top \\bs{z}$**."
   ]
  },
  {
   "cell_type": "markdown",
   "metadata": {
    "slideshow": {
     "slide_type": "slide"
    }
   },
   "source": [
    "# Polynomial Features II\n",
    "\n",
    "The number of polynomial features $\\bs{\\phi}_p$ of degree $p$ when $x \\in \\mathbb{R}^d$ \n",
    "\n",
    "$$ \\bs{\\phi}_p(\\bs{x})_{i_1, i_2, \\ldots, i_p} = x_{i_1} x_{i_2} \\cdots x_{i_p} \\;\\text{ for $i_1, i_2,  \\ldots, i_p \\in \\{1,2,\\ldots,d\\}$} $$\n",
    "\n",
    "scales as $O(d^p)$. \n"
   ]
  },
  {
   "cell_type": "markdown",
   "metadata": {
    "slideshow": {
     "slide_type": "fragment"
    }
   },
   "source": [
    "*However, we can compute the dot product $\\bs{\\phi}_p(\\bs{x})^\\top \\bs{\\phi}_p(\\bs{z})$ in this feature space in only $O(d)$ time for any $p$ as:\n",
    "$$\\bs{\\phi}_p(\\bs{x})^\\top \\bs{\\phi}_p(\\bs{z}) = (\\bs{x}^\\top \\bs{z})^p.$$\n",
    "\n",
    "* As we will see below, the right hand side is a kernel and we have constructed kernel from feature transformation. The key to efficiency is the bypass the feature map and go directly with kernel, and **this is known as the kernel trick**. We will see this below."
   ]
  },
  {
   "cell_type": "markdown",
   "metadata": {
    "slideshow": {
     "slide_type": "slide"
    }
   },
   "source": [
    "# Algorithm: Kernelized Polynomial Ridge Regression\n",
    "\n",
    "* __Type__: Supervised learning (Regression)\n",
    "* __Model family__: Polynomials.\n",
    "* __Objective function__: $L2$-regularized ridge regression.\n",
    "* __Optimizer__: Normal equations (dual form).\n",
    "* __Probabilistic interpretation__: No simple interpretation!"
   ]
  },
  {
   "cell_type": "markdown",
   "metadata": {
    "slideshow": {
     "slide_type": "slide"
    }
   },
   "source": [
    "# The Kernel Trick: General Idea\n",
    "\n",
    "Many types of features $\\bs{\\phi}(\\bs{x})$ have the property that their dot product $\\bs{\\phi}(\\bs{x})^\\top \\bs{\\phi}(\\bs{z})$ can be computed more efficiently than if we had to form these features explicitly."
   ]
  },
  {
   "cell_type": "markdown",
   "metadata": {
    "slideshow": {
     "slide_type": "fragment"
    }
   },
   "source": [
    "Also, we will see that many algorithms in machine learning can be written down as optimization problems in which the features $\\bs{\\phi}(\\bs{x})$ only appear as dot products $\\bs{\\phi}(\\bs{x})^\\top \\bs{\\phi}(\\bs{z})$.\n",
    "\n",
    "***\n",
    "The problem with the above approach are the following:\n",
    "1. We have to come up with a feature map\n",
    "2. We then have to map all the data points to the feature space, which is high dimensions.\n",
    "\n",
    "***Luckily, with the kernel trick that we discuss next, we can step over these two problems altogether.***\n",
    "***"
   ]
  },
  {
   "cell_type": "markdown",
   "metadata": {
    "slideshow": {
     "slide_type": "fragment"
    }
   },
   "source": [
    "The ***Kernel Trick*** means that we can use complex non-linear features, without knowing them, within  these algorithms with little additional computational cost."
   ]
  },
  {
   "cell_type": "markdown",
   "metadata": {
    "slideshow": {
     "slide_type": "subslide"
    }
   },
   "source": [
    "Examples of algorithms in which we can use the Kernel trick:\n",
    "* Supervised learning algorithms: linear regression, logistic regression, support vector machines, etc.\n",
    "* Unsupervised learning algorithms: PCA, density estimation.\n",
    "\n",
    "We will look at more examples shortly."
   ]
  },
  {
   "cell_type": "markdown",
   "metadata": {
    "slideshow": {
     "slide_type": "slide"
    }
   },
   "source": [
    "\n",
    "# Part 3: The Kernel Trick in SVMs\n",
    "\n",
    "Many ML algorithms can be written down as optimization problems in which the features $\\phi(x)$ only appear as dot products $\\phi(x)^\\top \\phi(z)$ that can be computed efficiently.\n",
    "\n",
    "We will now see how SVMs can benefit from the Kernel Trick as well."
   ]
  },
  {
   "cell_type": "markdown",
   "metadata": {
    "slideshow": {
     "slide_type": "slide"
    }
   },
   "source": [
    "# Review: Binary Classification\n",
    "\n",
    "Consider a training dataset $\\mathcal{D} = \\{(\\bs{x}^{(1)}, {y}^{(1)}), (\\bs{x}^{(2)}, {y}^{(2)}), \\ldots, (\\bs{x}^{(n)}, {y}^{(n)})\\}$.\n",
    "\n",
    "We distinguish between two types of supervised learning problems depnding on the targets $y^{(i)}$. \n",
    "\n",
    "1. __Regression__: The target variable $y \\in \\mathcal{Y}$ is continuous:  $\\mathcal{Y} \\subseteq \\mathbb{R}$.\n",
    "2. __Binary Classification__: The target variable $y$ is discrete and takes on one of $K=2$ possible values.\n",
    "\n",
    "In this lecture, we assume $\\mathcal{Y} = \\{-1, +1\\}$."
   ]
  },
  {
   "cell_type": "markdown",
   "metadata": {
    "slideshow": {
     "slide_type": "slide"
    }
   },
   "source": [
    "# SVM in feature space\n",
    "\n",
    "We will consider models of the form\n",
    "\n",
    "\\begin{align*}\n",
    "f_\\theta(\\bs{x}) = \\bs{\\theta}^\\top \\bs{\\phi}(\\bs{x}) + \\theta_0\n",
    "\\end{align*}\n",
    "\n",
    "where $\\bs{x}$ is the input and $y \\in \\{-1, 1\\}$ is the target."
   ]
  },
  {
   "cell_type": "markdown",
   "metadata": {
    "slideshow": {
     "slide_type": "slide"
    }
   },
   "source": [
    "# Primal and Dual Formulations in the feature space\n",
    "\n",
    "Recall that the the max-margin hyperplane can be formualted as the solution to the following *primal* optimization problem.\n",
    "\\begin{align*}\n",
    "\\min_{\\bs{\\theta},\\theta_0, \\xi}\\; & \\frac{1}{2}||\\bs{\\theta}||^2 + C \\sum_{i=1}^n \\xi_i \\;  \\\\\n",
    "\\text{subject to } \\; & {y}^{(i)}(\\bs{\\theta}^\\top \\bs{\\phi}(\\bs{x}^{(i)})+\\theta_0)\\geq 1 - \\xi_i \\; \\text{for all $i$} \\\\\n",
    "& \\xi_i \\geq 0\n",
    "\\end{align*}"
   ]
  },
  {
   "cell_type": "markdown",
   "metadata": {
    "slideshow": {
     "slide_type": "subslide"
    }
   },
   "source": [
    "The solution to this problem also happens to be given by the following *dual* problem:\n",
    "\\begin{align*}\n",
    "\\max_{\\lambda} & \\sum_{i=1}^n \\lambda_i - \\frac{1}{2} \\sum_{i=1}^n \\sum_{k=1}^n \\lambda_i \\lambda_k {y}^{(i)} {y}^{(k)} \\bs{\\phi}(\\bs{x}^{(i)})^\\top \\bs{\\phi}(\\bs{x}^{(k)})  \\\\\n",
    "\\text{subject to } \\; & \\sum_{i=1}^n \\lambda_i {y}^{(i)} = 0 \\\\\n",
    "& C \\geq \\lambda_i \\geq 0 \\; \\text{for all $i$}\n",
    "\\end{align*}"
   ]
  },
  {
   "cell_type": "markdown",
   "metadata": {
    "slideshow": {
     "slide_type": "slide"
    }
   },
   "source": [
    "# Primal Solution\n",
    "\n",
    "We can obtain a primal solution from the dual via the following equation:\n",
    "$$\n",
    "\\bs{\\theta}^* = \\sum_{i=1}^n \\lambda_i^* {y}^{(i)} \\bs{\\phi}(\\bs{x}^{(i)}).\n",
    "$$\n",
    "\n",
    "The score at a new point $x'$ will equal\n",
    "$$\n",
    "\\bs{\\theta}^\\top \\bs{\\phi}(x') + \\theta_0= \\sum_{i=1}^n \\lambda_i^* {y}^{(i)} \\bs{\\phi}(\\bs{x}^{(i)})^\\top \\bs{\\phi}(x') + \\theta_0.\n",
    "$$"
   ]
  },
  {
   "cell_type": "markdown",
   "metadata": {
    "slideshow": {
     "slide_type": "slide"
    }
   },
   "source": [
    "# Construct kernel from feature map\n",
    "\n",
    "More generally, given features $\\bs{\\phi}(\\bs{x})$, suppose that we have a function $K : \\mathcal{X} \\times \\mathcal{X} \\to \\mathbb{R}$ that outputs dot products between vectors in $\\mathcal{X}$\n",
    "\n",
    "$$ K(\\bs{x}, \\bs{z}) = \\bs{\\phi}(\\bs{x})^\\top \\bs{\\phi}(\\bs{z}). $$\n",
    "\n",
    "We will call $K$ the  *kernel* function."
   ]
  },
  {
   "cell_type": "markdown",
   "metadata": {
    "slideshow": {
     "slide_type": "fragment"
    }
   },
   "source": [
    "Recall that an example of a useful kernel function is\n",
    "$$K(\\bs{x},\\bs{z}) = (\\bs{x} \\cdot \\bs{z})^p$$\n",
    "because it computes the dot product of polynomial features of degree $p$."
   ]
  },
  {
   "cell_type": "markdown",
   "metadata": {
    "slideshow": {
     "slide_type": "subslide"
    }
   },
   "source": [
    "Then notice that we can rewrite the dual of the SVM in the feature space as\n",
    "\\begin{align*}\n",
    "\\max_{\\lambda} & \\sum_{i=1}^n \\lambda_i - \\frac{1}{2} \\sum_{i=1}^n \\sum_{k=1}^n \\lambda_i \\lambda_k {y}^{(i)} {y}^{(k)} K(\\bs{x}^{(i)}, \\bs{x}^{(k)})  \\\\\n",
    "\\text{subject to } \\; & \\sum_{i=1}^n \\lambda_i {y}^{(i)} = 0 \\\\\n",
    "& C \\geq \\lambda_i \\geq 0 \\; \\text{for all $i$}\n",
    "\\end{align*}\n",
    "and predictions at a new point $x'$ are given by \n",
    "\\begin{align*}\n",
    "\\bs{\\theta}^\\top \\bs{\\phi}(\\bs{x'}) + \\theta_0 = \\sum_{i=1}^n \\lambda_i^* {y}^{(i)} K(\\bs{x}^{(i)}, \\bs{x'}) + \\theta_0.\n",
    "\\end{align*}"
   ]
  },
  {
   "cell_type": "markdown",
   "metadata": {
    "slideshow": {
     "slide_type": "fragment"
    }
   },
   "source": [
    "**This shows that the whole computation depends ONLY on the kernel, NOT the feature map. Consequently, we can perform SVM in the feature space without actually going there and the cost is pretty the same as the SVM in the original space as all we need is to evaluate the kernels at all pairs (we need pairwise inner product in the original space anyway).**"
   ]
  },
  {
   "cell_type": "markdown",
   "metadata": {
    "slideshow": {
     "slide_type": "slide"
    }
   },
   "source": [
    "# Algorithm: Kernelized Support Vector Machine Classification (Dual Form)\n",
    "\n",
    "* __Type__: Supervised learning (binary classification)\n",
    "* __Model family__: Non-linear decision boundaries.\n",
    "* __Objective function__: Dual of SVM optimization problem.\n",
    "* __Optimizer__: Sequential minimial optimization.\n",
    "* __Probabilistic interpretation__: No simple interpretation!"
   ]
  },
  {
   "cell_type": "markdown",
   "metadata": {
    "slideshow": {
     "slide_type": "slide"
    }
   },
   "source": [
    "\n",
    "# Part 4: Types of Kernels\n",
    "\n",
    "Now that we saw the kernel trick, let's look at several examples of kernels."
   ]
  },
  {
   "cell_type": "markdown",
   "metadata": {
    "slideshow": {
     "slide_type": "slide"
    }
   },
   "source": [
    "# Definition: Kernels\n",
    "\n",
    "The *kernel* corresponding to features $\\phi(x)$ is a function $K : \\mathcal{X} \\times \\mathcal{X} \\to \\mathbb{R}$ that outputs dot products between vectors in $\\mathcal{X}$\n",
    "$$ K(\\bs{x}, \\bs{z}) = \\bs{\\phi}(\\bs{x})^\\top \\bs{\\phi}(\\bs{z}). $$\n",
    "\n",
    "We will also consider general functions $K : \\mathcal{X} \\times \\mathcal{X} \\to \\mathbb{R}$ and call these *kernel functions*."
   ]
  },
  {
   "cell_type": "markdown",
   "metadata": {
    "slideshow": {
     "slide_type": "subslide"
    }
   },
   "source": [
    "***Kernels have various intepretations***:\n",
    "* The dot product or geometrical angle between $\\bs{x}$ and $\\bs{z}$\n",
    "* A notion of similarity between $\\bs{x}$ and $\\bs{z}$"
   ]
  },
  {
   "cell_type": "markdown",
   "metadata": {
    "slideshow": {
     "slide_type": "subslide"
    }
   },
   "source": [
    "In order to illustrate kernels, we will use this dataset."
   ]
  },
  {
   "cell_type": "code",
   "execution_count": 1,
   "metadata": {
    "slideshow": {
     "slide_type": "fragment"
    }
   },
   "outputs": [
    {
     "data": {
      "text/plain": [
       "(-3.0, 3.0)"
      ]
     },
     "execution_count": 1,
     "metadata": {},
     "output_type": "execute_result"
    },
    {
     "data": {
      "image/png": "[encoded data removed]",
      "text/plain": [
       "<Figure size 432x288 with 1 Axes>"
      ]
     },
     "metadata": {
      "needs_background": "light"
     },
     "output_type": "display_data"
    }
   ],
   "source": [
    "# https://scikit-learn.org/stable/auto_examples/svm/plot_svm_kernels.html\n",
    "import numpy as np\n",
    "import matplotlib.pyplot as plt\n",
    "from sklearn import svm\n",
    "\n",
    "# Our dataset and targets\n",
    "X = np.c_[(.4, -.7), (-1.5, -1), (-1.4, -.9), (-1.3, -1.2), (-1.1, -.2), (-1.2, -.4), (-.5, 1.2), (-1.5, 2.1), (1, 1),\n",
    "          (1.3, .8), (1.2, .5), (.2, -2), (.5, -2.4), (.2, -2.3), (0, -2.7), (1.3, 2.1)].T\n",
    "Y = [0] * 8 + [1] * 8\n",
    "\n",
    "x_min, x_max = -3, 3\n",
    "y_min, y_max = -3, 3\n",
    "plt.scatter(X[:, 0], X[:, 1], c=Y, zorder=10, cmap=plt.cm.Paired, edgecolors='k', s=80)\n",
    "plt.xlim(x_min, x_max)\n",
    "plt.ylim(y_min, y_max)"
   ]
  },
  {
   "cell_type": "markdown",
   "metadata": {
    "slideshow": {
     "slide_type": "slide"
    }
   },
   "source": [
    "# Example: Linear Kernel\n",
    "\n",
    "The simplest kind of kernel that exists is called the linear kernel.\n",
    "This simply corresponds to dot product multiplication of the features:\n",
    "$$K(\\bs{x},\\bs{z}) = \\bs{x}^\\top \\bs{z}$$\n",
    "\n",
    "Applied to an SVM, this corresponds to a linear decision boundary."
   ]
  },
  {
   "cell_type": "markdown",
   "metadata": {
    "slideshow": {
     "slide_type": "subslide"
    }
   },
   "source": [
    "Below is an example of how we can use the SVM implementation in `sklearn` with a linear kernel.\n",
    "\n",
    "Internally, this solves the dual SVM optimization problem in the feature space ***without going there*** (thanks to the kernel trick)."
   ]
  },
  {
   "cell_type": "code",
   "execution_count": 2,
   "metadata": {
    "slideshow": {
     "slide_type": "fragment"
    }
   },
   "outputs": [
    {
     "name": "stderr",
     "output_type": "stream",
     "text": [
      "/workspace/HaiNguyen/Source/skitlearn/lib/python3.6/site-packages/ipykernel_launcher.py:13: MatplotlibDeprecationWarning: shading='flat' when X and Y have the same dimensions as C is deprecated since 3.3.  Either specify the corners of the quadrilaterals with X and Y, or pass shading='auto', 'nearest' or 'gouraud', or set rcParams['pcolor.shading'].  This will become an error two minor releases later.\n",
      "  del sys.path[0]\n"
     ]
    },
    {
     "data": {
      "text/plain": [
       "(-3.0, 3.0)"
      ]
     },
     "execution_count": 2,
     "metadata": {},
     "output_type": "execute_result"
    },
    {
     "data": {
      "image/png": "[encoded data removed]",
      "text/plain": [
       "<Figure size 432x288 with 1 Axes>"
      ]
     },
     "metadata": {
      "needs_background": "light"
     },
     "output_type": "display_data"
    }
   ],
   "source": [
    "# https://scikit-learn.org/stable/auto_examples/svm/plot_svm_kernels.html\n",
    "clf = svm.SVC(kernel='linear', gamma=2)\n",
    "clf.fit(X, Y)\n",
    "\n",
    "# plot the line, the points, and the nearest vectors to the plane\n",
    "plt.scatter(clf.support_vectors_[:, 0], clf.support_vectors_[:, 1], s=80, facecolors='none', zorder=10, edgecolors='k')\n",
    "plt.scatter(X[:, 0], X[:, 1], c=Y, zorder=10, cmap=plt.cm.Paired, edgecolors='k')\n",
    "XX, YY = np.mgrid[x_min:x_max:200j, y_min:y_max:200j]\n",
    "Z = clf.decision_function(np.c_[XX.ravel(), YY.ravel()])\n",
    "\n",
    "# Put the result into a color plot\n",
    "Z = Z.reshape(XX.shape)\n",
    "plt.pcolormesh(XX, YY, Z > 0, cmap=plt.cm.Paired)\n",
    "plt.contour(XX, YY, Z, colors=['k', 'k', 'k'], linestyles=['--', '-', '--'],levels=[-.5, 0, .5])\n",
    "plt.xlim(x_min, x_max)\n",
    "plt.ylim(y_min, y_max)"
   ]
  },
  {
   "cell_type": "markdown",
   "metadata": {
    "slideshow": {
     "slide_type": "slide"
    }
   },
   "source": [
    "# Example: Polynomial Kernel\n",
    "\n",
    "A more interesting example is the polynomial kernel of degree $p$, of which we have already seen a simple example:\n",
    "$$K(\\bs{x},\\bs{z}) = (\\bs{x}^\\top \\bs{z} + c)^p.$$\n",
    "\n",
    "This corresponds to a mapping to a feature space of dimension $d+p \\choose p$ that has all monomials $x_{i_1}x_{i_2}\\cdots x_{i_p}$ of degree at most $p$."
   ]
  },
  {
   "cell_type": "markdown",
   "metadata": {
    "slideshow": {
     "slide_type": "subslide"
    }
   },
   "source": [
    "For $d=3$ this feature map looks like\n",
    "$$ \\small \\bs{\\phi}(\\bs{x}) = \\begin{bmatrix}\n",
    "x_1 x_1 \\\\\n",
    "x_1 x_2 \\\\\n",
    "x_1 x_3 \\\\\n",
    "x_2 x_1 \\\\\n",
    "x_2 x_1 \\\\\n",
    "x_2 x_2 \\\\\n",
    "x_3 x_3 \\\\\n",
    "x_3 x_1 \\\\\n",
    "x_3 x_2 \\\\\n",
    "x_3 x_3 \\\\\n",
    "\\sqrt{2}c x_1 \\\\\n",
    "\\sqrt{2}c x_2 \\\\\n",
    "\\sqrt{2}c x_3 \\\\\n",
    "c\n",
    "\\end{bmatrix}.\n",
    "$$"
   ]
  },
  {
   "cell_type": "markdown",
   "metadata": {
    "slideshow": {
     "slide_type": "subslide"
    }
   },
   "source": [
    "The polynomial kernel allows us to compute dot products in a $O(d^p)$-dimensional space in time $O(d)$.\n",
    "\n",
    "Let's see how it would be implemented in `sklearn`."
   ]
  },
  {
   "cell_type": "code",
   "execution_count": 3,
   "metadata": {
    "slideshow": {
     "slide_type": "fragment"
    }
   },
   "outputs": [
    {
     "name": "stderr",
     "output_type": "stream",
     "text": [
      "/workspace/HaiNguyen/Source/skitlearn/lib/python3.6/site-packages/ipykernel_launcher.py:13: MatplotlibDeprecationWarning: shading='flat' when X and Y have the same dimensions as C is deprecated since 3.3.  Either specify the corners of the quadrilaterals with X and Y, or pass shading='auto', 'nearest' or 'gouraud', or set rcParams['pcolor.shading'].  This will become an error two minor releases later.\n",
      "  del sys.path[0]\n"
     ]
    },
    {
     "data": {
      "text/plain": [
       "(-3.0, 3.0)"
      ]
     },
     "execution_count": 3,
     "metadata": {},
     "output_type": "execute_result"
    },
    {
     "data": {
      "image/png": "[encoded data removed]",
      "text/plain": [
       "<Figure size 432x288 with 1 Axes>"
      ]
     },
     "metadata": {
      "needs_background": "light"
     },
     "output_type": "display_data"
    }
   ],
   "source": [
    "# https://scikit-learn.org/stable/auto_examples/svm/plot_svm_kernels.html\n",
    "clf = svm.SVC(kernel='poly', degree=3, gamma=2)\n",
    "clf.fit(X, Y)\n",
    "\n",
    "# plot the line, the points, and the nearest vectors to the plane\n",
    "plt.scatter(clf.support_vectors_[:, 0], clf.support_vectors_[:, 1], s=80, facecolors='none', zorder=10, edgecolors='k')\n",
    "plt.scatter(X[:, 0], X[:, 1], c=Y, zorder=10, cmap=plt.cm.Paired, edgecolors='k')\n",
    "XX, YY = np.mgrid[x_min:x_max:200j, y_min:y_max:200j]\n",
    "Z = clf.decision_function(np.c_[XX.ravel(), YY.ravel()])\n",
    "\n",
    "# Put the result into a color plot\n",
    "Z = Z.reshape(XX.shape)\n",
    "plt.pcolormesh(XX, YY, Z > 0, cmap=plt.cm.Paired)\n",
    "plt.contour(XX, YY, Z, colors=['k', 'k', 'k'], linestyles=['--', '-', '--'],levels=[-.5, 0, .5])\n",
    "plt.xlim(x_min, x_max)\n",
    "plt.ylim(y_min, y_max)"
   ]
  },
  {
   "cell_type": "markdown",
   "metadata": {
    "slideshow": {
     "slide_type": "slide"
    }
   },
   "source": [
    "# Example: Radial Basis Function Kernel\n",
    "\n",
    "Another example is the Radial Basis Function (RBF; sometimes called Gaussian) kernel\n",
    "$$K(\\bs{x},\\bs{z}) = \\exp \\left(-\\frac{||\\bs{x} - \\bs{z}||^2}{2\\sigma^2}\\right),$$\n",
    "where $\\sigma$ is a hyper-parameter. It's easiest to understand this kernel by viewing it as a similarity measure."
   ]
  },
  {
   "cell_type": "markdown",
   "metadata": {
    "slideshow": {
     "slide_type": "subslide"
    }
   },
   "source": [
    "We can show that this kernel corresponds to an *infinite-dimensional* feature map and the limit of the polynomial kernel as $p \\to \\infty$. \n",
    "\n",
    "To see why that's intuitively the case, consider the Taylor expansion\n",
    "\n",
    "$$\n",
    "\\exp \\left(-\\frac{||\\bs{x} - \\bs{z}||^2}{2\\sigma^2}\\right) \\approx 1 - \\frac{||\\bs{x} - \\bs{z}||^2}{2\\sigma^2} + \\frac{||\\bs{x} - \\bs{z}||^4}{2! \\cdot 4\\sigma^4} - \\frac{||\\bs{x} - \\bs{z}||^6}{3! \\cdot 8\\sigma^6} + \\ldots\n",
    "$$\n",
    "\n",
    "\n",
    "Each term on the right hand side can be expanded into a polynomial."
   ]
  },
  {
   "cell_type": "markdown",
   "metadata": {
    "slideshow": {
     "slide_type": "subslide"
    }
   },
   "source": [
    "We can look at the `sklearn` implementation again."
   ]
  },
  {
   "cell_type": "code",
   "execution_count": 4,
   "metadata": {
    "slideshow": {
     "slide_type": "fragment"
    }
   },
   "outputs": [
    {
     "name": "stderr",
     "output_type": "stream",
     "text": [
      "/workspace/HaiNguyen/Source/skitlearn/lib/python3.6/site-packages/ipykernel_launcher.py:13: MatplotlibDeprecationWarning: shading='flat' when X and Y have the same dimensions as C is deprecated since 3.3.  Either specify the corners of the quadrilaterals with X and Y, or pass shading='auto', 'nearest' or 'gouraud', or set rcParams['pcolor.shading'].  This will become an error two minor releases later.\n",
      "  del sys.path[0]\n"
     ]
    },
    {
     "data": {
      "text/plain": [
       "(-3.0, 3.0)"
      ]
     },
     "execution_count": 4,
     "metadata": {},
     "output_type": "execute_result"
    },
    {
     "data": {
      "image/png": "[encoded data removed]",
      "text/plain": [
       "<Figure size 432x288 with 1 Axes>"
      ]
     },
     "metadata": {
      "needs_background": "light"
     },
     "output_type": "display_data"
    }
   ],
   "source": [
    "# https://scikit-learn.org/stable/auto_examples/svm/plot_svm_kernels.html\n",
    "clf = svm.SVC(kernel='rbf', gamma=.5)\n",
    "clf.fit(X, Y)\n",
    "\n",
    "# plot the line, the points, and the nearest vectors to the plane\n",
    "plt.scatter(clf.support_vectors_[:, 0], clf.support_vectors_[:, 1], s=80, facecolors='none', zorder=10, edgecolors='k')\n",
    "plt.scatter(X[:, 0], X[:, 1], c=Y, zorder=10, cmap=plt.cm.Paired, edgecolors='k')\n",
    "XX, YY = np.mgrid[x_min:x_max:200j, y_min:y_max:200j]\n",
    "Z = clf.decision_function(np.c_[XX.ravel(), YY.ravel()])\n",
    "\n",
    "# Put the result into a color plot\n",
    "Z = Z.reshape(XX.shape)\n",
    "plt.pcolormesh(XX, YY, Z > 0, cmap=plt.cm.Paired)\n",
    "plt.contour(XX, YY, Z, colors=['k', 'k', 'k'], linestyles=['--', '-', '--'],levels=[-.5, 0, .5])\n",
    "plt.xlim(x_min, x_max)\n",
    "plt.ylim(y_min, y_max)"
   ]
  },
  {
   "cell_type": "markdown",
   "metadata": {
    "slideshow": {
     "slide_type": "slide"
    }
   },
   "source": [
    "# Conditions for $K$ to be a Kernel?\n",
    "\n",
    "We've seen that for many features $\\bs{\\phi}$ we can define a kernel function $K : \\mathcal{X} \\times \\mathcal{X} \\to \\mathbb{R}$ that efficiently computes $\\bs{\\phi}(\\bs{x})^\\top \\bs{\\phi}(\\bs{x})$."
   ]
  },
  {
   "cell_type": "markdown",
   "metadata": {
    "slideshow": {
     "slide_type": "fragment"
    }
   },
   "source": [
    "Suppose now that we use some kernel function $K : \\mathcal{X} \\times \\mathcal{X} \\to \\mathbb{R}$ in an ML algorithm. Is there an implicit feature mapping $\\bs{\\phi}$ that corresponds to using K?"
   ]
  },
  {
   "cell_type": "markdown",
   "metadata": {
    "slideshow": {
     "slide_type": "subslide"
    }
   },
   "source": [
    "Let's start by ***finding a necessary condition*** for $K : \\mathcal{X} \\times \\mathcal{X} \\to \\mathbb{R}$ to be associated with a feature map."
   ]
  },
  {
   "cell_type": "markdown",
   "metadata": {
    "slideshow": {
     "slide_type": "fragment"
    }
   },
   "source": [
    "Suppose that $K$ is a kernel for some feature map $\\bs{\\phi}$, and consider an arbitrary set of $n$ points $\\{\\bs{x}^{(1)}, \\bs{x}^{(2)}, \\ldots, \\bs{x}^{(n)}\\}$.\n",
    "\n",
    "Consider the matrix $L \\in \\mathbb{R}^{n\\times n}$ defined as $L_{ij} = K(\\bs{x}^{(i)}, \\bs{x}^{(j)}) = \\bs{\\phi}(\\bs{x}^{(i)})^\\top \\bs{\\phi}(\\bs{x}^{(j)})$. We claim that $L$ must be symmetric and positive semi-definite.\n"
   ]
  },
  {
   "cell_type": "markdown",
   "metadata": {
    "slideshow": {
     "slide_type": "subslide"
    }
   },
   "source": [
    "Indeed, it $L$ is symmetric because the dot product $\\bs{\\phi}(\\bs{x}^{(i)})^\\top \\bs{\\phi}(\\bs{x}^{(j)})$ is symmetric. Moreover, for any $z$,\n",
    "\n",
    "\\begin{align*}\n",
    "\\bs{z}^\\top L \\bs{z}\n",
    "& = \\sum_{i=1}^n \\sum_{j=1}^n z_i L_{ij} z_j \n",
    " = \\sum_{i=1}^n \\sum_{j=1}^n z_i \\bs{\\phi}(\\bs{x}^{(i)})^\\top \\bs{\\phi}(\\bs{x}^{(j)}) z_j \\\\\n",
    "& = \\sum_{i=1}^n \\sum_{j=1}^n z_i (\\sum_{k=1}^n \\bs{\\phi}(\\bs{x}^{(i)})_k \\bs{\\phi}(\\bs{x}^{(j)})_k ) z_j \\\\\n",
    "& = \\sum_{k=1}^n \\sum_{i=1}^n \\sum_{j=1}^n z_i \\bs{\\phi}(\\bs{x}^{(i)})_k \\bs{\\phi}(\\bs{x}^{(j)})_k z_j \\\\\n",
    "& = \\sum_{k=1}^n  \\left( \\sum_{i=1}^nz_i \\bs{\\phi}(\\bs{x}^{(i)})_k \\right)^2 \\geq 0\n",
    "\\end{align*}\n",
    "\n",
    "**Thus if $K$ is a kernel, $L$ is necessary positive semidefinite for any $n$ points $x^{(i)}$**. ***It turns out that this is also a sufficient condition for a Mercer kernel.***"
   ]
  },
  {
   "cell_type": "markdown",
   "metadata": {
    "slideshow": {
     "slide_type": "slide"
    }
   },
   "source": [
    "# Mercer's Theorem (A simplified version)\n",
    "\n",
    "If $K$ is a kernel, $L$ is necessary positive semi-definite for any set of $n$ points $\\bs{x}^{(i)}$. It turns out that it is is also a sufficent condition."
   ]
  },
  {
   "cell_type": "markdown",
   "metadata": {},
   "source": [
    "__Definition (Mercer Kernel).__ $K(\\bs{x}, \\bs{y})$ is a Mercer kernel if:\n",
    "1. $K(\\bs{x},\\bs{y}) = K(\\bs{y},\\bs{x})$\n",
    "2. For any set $\\{\\bs{x}^{(1)}, \\bs{x}^{(2)}, \\ldots, \\bs{x}^{(n)}\\}$ of size $n \\geq 1$, the matrix $L$ defined as $L_{ij} = K(\\bs{x}^{(i)}, \\bs{x}^{(j)})$ is symmetric and positive semi-definite\n",
    "\n",
    "***This resembles the definition of an inner product, and this should not be a surprise as it is our desire that $K(\\bs{x},\\bs{y})$ is an inner product in the feature space, i.e. $K(\\bs{x},\\bs{y}) = \\bs{\\phi}^T(\\bs{x})\\bs{\\phi}(\\bs{y})$.***"
   ]
  },
  {
   "cell_type": "markdown",
   "metadata": {
    "slideshow": {
     "slide_type": "fragment"
    }
   },
   "source": [
    "__Theorem.__ (Mercer) Let $K: \\mathcal{X} \\times \\mathcal{X} \\to \\mathbb{R}$ be a kernel function. There exists a mapping $\\bs{\\phi}$ associated with $K$ if and only if for any $n$ and any dataset $\\{\\bs{x}^{(1)}, \\bs{x}^{(2)}, \\ldots, \\bs{x}^{(n)}\\}$ of size $n \\geq 1$, the matrix $L$ defined as $L_{ij} = K(\\bs{x}^{(i)}, \\bs{x}^{(j)})$ is symmetric and positive semi-definite.\n",
    "\n",
    "***Thus, for any Mercer kernel, there is an associated feature map. The important point in the kernel approach is that we do not need to know how the feature map looks like, and yet can still solve the problem in the feature space.***"
   ]
  },
  {
   "cell_type": "markdown",
   "metadata": {
    "slideshow": {
     "slide_type": "slide"
    }
   },
   "source": [
    "# Pros and Cons of Kernels\n",
    "\n",
    "Are kernels a free lunch? Not quite.\n",
    "* Kernels allow us to use features $\\bs{\\phi}$ of very large dimension $d$."
   ]
  },
  {
   "cell_type": "markdown",
   "metadata": {
    "slideshow": {
     "slide_type": "fragment"
    }
   },
   "source": [
    "*  However computation is at least $O(n^2)$, where $n$ is the dataset size. We need to compute distances $K(\\bs{x}^{(i)}, \\bs{x}^{(j)})$, for all $i,j$."
   ]
  },
  {
   "cell_type": "markdown",
   "metadata": {
    "slideshow": {
     "slide_type": "fragment"
    }
   },
   "source": [
    "* Approximate solutions can be found more quickly, but in practice kernel methods are not used with today's massive datasets."
   ]
  },
  {
   "cell_type": "markdown",
   "metadata": {
    "slideshow": {
     "slide_type": "fragment"
    }
   },
   "source": [
    "* However, on small and medium-sized data, kernel methods will be at least as good as **neural nets** and probably much easier to train."
   ]
  },
  {
   "cell_type": "markdown",
   "metadata": {
    "slideshow": {
     "slide_type": "slide"
    }
   },
   "source": [
    "# Summary: Kernels\n",
    "\n",
    "* A kernel is a function $K: \\mathcal{X} \\times \\mathcal{X} \\to [0,\\infty]$ that defines a notion of similarity over pairs of vectors in $\\mathcal{X}$."
   ]
  },
  {
   "cell_type": "markdown",
   "metadata": {
    "slideshow": {
     "slide_type": "fragment"
    }
   },
   "source": [
    "* Kernels are often associated with high-dimensional features $\\bs{\\phi}$ and implicitly map inputs to this feature space."
   ]
  },
  {
   "cell_type": "markdown",
   "metadata": {
    "slideshow": {
     "slide_type": "fragment"
    }
   },
   "source": [
    "* Kernels can be incorporated into many machine learning algorithms, which enables them to learn highly nonlinear models."
   ]
  },
  {
   "cell_type": "markdown",
   "metadata": {
    "slideshow": {
     "slide_type": "subslide"
    }
   },
   "source": [
    "Examples of algorithms in which we can use kernels include:\n",
    "* ***Supervised learning algorithms***: linear regression, logistic regression, support vector machines, etc.\n",
    "* ***Unsupervised learning algorithms***: PCA, density estimation.\n",
    "\n",
    "Kernels are very powerful because they can be used throughout machine learning. "
   ]
  }
 ],
 "metadata": {
  "accelerator": "GPU",
  "celltoolbar": "Slideshow",
  "colab": {
   "collapsed_sections": [],
   "name": "neural-ode.ipynb",
   "provenance": []
  },
  "kernelspec": {
   "display_name": "Python 3 (ipykernel)",
   "language": "python",
   "name": "python3"
  },
  "language_info": {
   "codemirror_mode": {
    "name": "ipython",
    "version": 3
   },
   "file_extension": ".py",
   "mimetype": "text/x-python",
   "name": "python",
   "nbconvert_exporter": "python",
   "pygments_lexer": "ipython3",
   "version": "3.8.8"
  },
  "rise": {
   "controlsTutorial": false,
   "height": 900,
   "help": false,
   "margin": 0,
   "maxScale": 2,
   "minScale": 0.2,
   "progress": true,
   "scroll": true,
   "theme": "simple",
   "width": 1200
  },
  "vscode": {
   "interpreter": {
    "hash": "21be62648f8e3839c3b4ce05d43053c0ccba5ecc90dec2be15f843391ed2568c"
   }
  }
 },
 "nbformat": 4,
 "nbformat_minor": 1
}
