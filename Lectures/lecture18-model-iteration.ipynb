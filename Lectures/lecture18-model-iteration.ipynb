{
 "cells": [
  {
   "cell_type": "markdown",
   "metadata": {
    "colab_type": "text",
    "id": "i_f5u2x9nn6I",
    "slideshow": {
     "slide_type": "slide"
    }
   },
   "source": [
    "# Lecture 18: Model Iteration and Improvement\n",
    "\n",
    "Adapted from Applied Machine Learning Lecture Notes of Volodymyr Kuleshov, Cornel Tech\n",
    "\n",
    "__Instructor Tan Bui__"
   ]
  },
  {
   "cell_type": "markdown",
   "metadata": {
    "slideshow": {
     "slide_type": "slide"
    }
   },
   "source": [
    "# Practical Considerations When Applying Machine Learning\n",
    "\n",
    "Suppose you trained an image classifier with 80% accuracy. What's next?"
   ]
  },
  {
   "cell_type": "markdown",
   "metadata": {
    "slideshow": {
     "slide_type": "fragment"
    }
   },
   "source": [
    "* Add more data?\n",
    "* Train the algorithm for longer?\n",
    "* Use a bigger model?\n",
    "* Add regularization?\n",
    "* Add new features?"
   ]
  },
  {
   "cell_type": "markdown",
   "metadata": {
    "slideshow": {
     "slide_type": "fragment"
    }
   },
   "source": [
    "We will next learn how to prioritize these decisions when applying ML."
   ]
  },
  {
   "cell_type": "markdown",
   "metadata": {
    "slideshow": {
     "slide_type": "slide"
    }
   },
   "source": [
    "# Fast & Data-Driven Model Iteration\n",
    "\n",
    "The key to building great ML systems is to be *data-driven*:\n",
    "* First, establish train, dev, and test sets and performance metrics.\n",
    "* Then, build a quick prototype and look at its performance.\n",
    "* Quickly iterate on the model, fixing the *actual errors* you see.\n",
    "\n",
    "This process can compensate for an initial lack of domain expertise."
   ]
  },
  {
   "cell_type": "markdown",
   "metadata": {
    "slideshow": {
     "slide_type": "slide"
    }
   },
   "source": [
    "# Part 1: Error Analysis\n",
    "\n",
    "A crucial part of understanding model performance is to systematically examine its errors.\n",
    "\n",
    "Error analysis is a formal process by which this can be done."
   ]
  },
  {
   "cell_type": "markdown",
   "metadata": {
    "slideshow": {
     "slide_type": "slide"
    }
   },
   "source": [
    "# Review: Model Development Workflow\n",
    "\n",
    "The machine learning development workflow has three steps:\n",
    "1. __Training:__ Try a new model and fit it on the training set."
   ]
  },
  {
   "cell_type": "markdown",
   "metadata": {
    "slideshow": {
     "slide_type": "fragment"
    }
   },
   "source": [
    "2. __Model Selection__: Estimate performance on the development set using metrics. Based on results, try a new model idea in step #1."
   ]
  },
  {
   "cell_type": "markdown",
   "metadata": {
    "slideshow": {
     "slide_type": "fragment"
    }
   },
   "source": [
    "3. __Evaluation__: Finally, estimate real-world performance on test set."
   ]
  },
  {
   "cell_type": "markdown",
   "metadata": {
    "slideshow": {
     "slide_type": "skip"
    }
   },
   "source": [
    "# Review: Datasets for Model Development\n",
    "\n",
    "When developing machine learning models, it is customary to work with three datasets:\n",
    "* __Training set__: Data on which we train the models.\n",
    "* __Development set__ (validation or hold-out set): Data used for tuning models.\n",
    "* __Test set__: Data for evaluating the final performance of our model."
   ]
  },
  {
   "cell_type": "markdown",
   "metadata": {
    "slideshow": {
     "slide_type": "skip"
    }
   },
   "source": [
    "# How to Analyze Models\n",
    "\n",
    "How do we iterate on a model given its results on the develoment set?"
   ]
  },
  {
   "cell_type": "markdown",
   "metadata": {
    "slideshow": {
     "slide_type": "skip"
    }
   },
   "source": [
    "* Error analysis (this presentation)\n",
    "* Analyzing overfitting and underfitting (later)\n",
    "* Analyzing distributional changes (next lecture)\n",
    "\n",
    "And many more types of analyses!"
   ]
  },
  {
   "cell_type": "markdown",
   "metadata": {
    "slideshow": {
     "slide_type": "slide"
    }
   },
   "source": [
    "# Prioritizng Model Improvements: An Example\n",
    "\n",
    "Suppose you trained an image classifier over animal photos.\n",
    "* You hear anecdotes that some dogs are misclassified as cats.\n",
    "* You have the option to integrate with a commercial dog classifier, which will take a month to implement.\n",
    "* Should you move forward with the integration?"
   ]
  },
  {
   "cell_type": "markdown",
   "metadata": {
    "slideshow": {
     "slide_type": "fragment"
    }
   },
   "source": [
    "The key to this decision is to closely examine *actual performance*."
   ]
  },
  {
   "cell_type": "markdown",
   "metadata": {
    "slideshow": {
     "slide_type": "subslide"
    }
   },
   "source": [
    "Suppose you need to decide if it's worth fixing a certain type of error.\n",
    "\n",
    "* First, collect ~100 random dev set examples that were *misclassified*.\n",
    "* Look at these examples, and count how many have that error.\n",
    "\n",
    "If 5% of misclassified examples have that problem, it's probably not important. If 50% do, then it's important."
   ]
  },
  {
   "cell_type": "markdown",
   "metadata": {
    "slideshow": {
     "slide_type": "slide"
    }
   },
   "source": [
    "# Error Analysis\n",
    "\n",
    "Error analysis systematically identifies the most common errors made by the model."
   ]
  },
  {
   "cell_type": "markdown",
   "metadata": {
    "slideshow": {
     "slide_type": "fragment"
    }
   },
   "source": [
    "1. Collect a random subset of misclassified dev set examples.\n",
    "2. Manually examine them; identify the most common types or *categories* of errors.\n",
    "3. Count \\% of points affected by each error categories.\n",
    "\n",
    "You should prioritize the most common error categories."
   ]
  },
  {
   "cell_type": "markdown",
   "metadata": {
    "slideshow": {
     "slide_type": "skip"
    }
   },
   "source": [
    "# Error Categories\n",
    "\n",
    "Error analysis involves classifying errors into *categories*.\n",
    "* A category is a systematic error made by the model.\n",
    "* Categories can come from intuition, but ideally they are constructed by manually examining the data."
   ]
  },
  {
   "cell_type": "markdown",
   "metadata": {
    "slideshow": {
     "slide_type": "slide"
    }
   },
   "source": [
    "# Error Analysis: An Example\n",
    "\n",
    "Suppose you just trained a new image classifier.\n",
    "* After looking at the first 20-30 errors, you realize they are all due to images being either *blurry*, *flipped*, or *mislabeled*.\n",
    "* These become the error categories."
   ]
  },
  {
   "cell_type": "markdown",
   "metadata": {
    "slideshow": {
     "slide_type": "subslide"
    }
   },
   "source": [
    "We then go through through the random subset of errors and assign them to categories.\n",
    "\n",
    "$ $     | Blurry | Flipped | Mislabeled\n",
    "--------|--------|---------|-----------\n",
    "Image 1 | X      | X       |        \n",
    "Image 2 |        | X       |       \n",
    "Image 3 |        |         | X      \n",
    "...     |        |         |       \n",
    "__Total__   | 20%    | 50%     | 30%\n",
    "\n",
    "We know that the most important fix is to correct for flipped images."
   ]
  },
  {
   "cell_type": "markdown",
   "metadata": {
    "slideshow": {
     "slide_type": "skip"
    }
   },
   "source": [
    "# Mislabeled Data\n",
    "\n",
    "Real-world data is often messy, and labels are not always correct.\n",
    "* __Scenario 1__: 10% error, of which 0.4% is due to labeling and 9.6% to other causes. No need to relabel.\n",
    "* __Scenario 2__: 2% error, of which 0.4% is due to labeling and 1.6% to other causes. Important to relabel!\n",
    "* These errors can be identified as part of error analysis\n",
    "* The prevalence of these errors tells us if we should fix them\n",
    "\n",
    "It's important to fix labeling issues if they prevent us from measuring model error."
   ]
  },
  {
   "cell_type": "markdown",
   "metadata": {
    "slideshow": {
     "slide_type": "slide"
    }
   },
   "source": [
    "# Development Set Size\n",
    "\n",
    "How big should the dev set size be? Error analysis suggests a lower bound.\n",
    "* You should have at least ~50-100 mislabeled errors to analyze.\n",
    "* If model has error of $\\epsilon$, we want a dev size of ~$100/\\epsilon$.\n",
    "    * e.g., for 5% error, we want a dev set of size ~2,000.\n",
    "\n",
    "Also, remember to periodically update the dev set to minimize overfitting."
   ]
  },
  {
   "cell_type": "markdown",
   "metadata": {
    "slideshow": {
     "slide_type": "slide"
    }
   },
   "source": [
    "# Error Analysis on the Training Set\n",
    "\n",
    "Should we perform error analysis on the dev set or the training set?"
   ]
  },
  {
   "cell_type": "markdown",
   "metadata": {
    "slideshow": {
     "slide_type": "fragment"
    }
   },
   "source": [
    "* Ultimately, we are interested in errors that will occur in production. This is best estimated on the dev set."
   ]
  },
  {
   "cell_type": "markdown",
   "metadata": {
    "slideshow": {
     "slide_type": "fragment"
    }
   },
   "source": [
    "* However, if a model makes errors on the training set, it will make them on the dev set as well. \n",
    "\n",
    "Hence, analyzing and fixing training set errors is also important."
   ]
  },
  {
   "cell_type": "markdown",
   "metadata": {
    "slideshow": {
     "slide_type": "slide"
    }
   },
   "source": [
    "# Error Analysis: Another Example\n",
    "\n",
    "Let's look at another example of error analysis on a small toy dataset."
   ]
  },
  {
   "cell_type": "markdown",
   "metadata": {
    "slideshow": {
     "slide_type": "subslide"
    }
   },
   "source": [
    "We will use the `sklearn` digits dataset, a downscaled version of MNIST."
   ]
  },
  {
   "cell_type": "code",
   "execution_count": 2,
   "metadata": {
    "slideshow": {
     "slide_type": "fragment"
    }
   },
   "outputs": [],
   "source": [
    "from sklearn.datasets import load_digits\n",
    "digits = load_digits()"
   ]
  },
  {
   "cell_type": "markdown",
   "metadata": {
    "slideshow": {
     "slide_type": "subslide"
    }
   },
   "source": [
    "We can visualize these digits as follows:"
   ]
  },
  {
   "cell_type": "code",
   "execution_count": 3,
   "metadata": {
    "slideshow": {
     "slide_type": "fragment"
    }
   },
   "outputs": [
    {
     "data": {
      "text/plain": [
       "<Figure size 576x1152 with 0 Axes>"
      ]
     },
     "metadata": {},
     "output_type": "display_data"
    },
    {
     "data": {
      "image/png": "[encoded data removed]",
      "text/plain": [
       "<Figure size 432x288 with 10 Axes>"
      ]
     },
     "metadata": {
      "needs_background": "light"
     },
     "output_type": "display_data"
    }
   ],
   "source": [
    "from matplotlib import pyplot as plt\n",
    "\n",
    "plt.figure(figsize=(8,16))\n",
    "_, axes = plt.subplots(2, 5)\n",
    "images_and_labels = list(zip(digits.images, digits.target))\n",
    "for ax, (image, label) in zip(axes.flatten(), images_and_labels[:10]):\n",
    "    ax.set_axis_off()\n",
    "    ax.imshow(image, cmap=plt.cm.gray_r, interpolation='nearest')\n",
    "    ax.set_title('Digit %i' % label)"
   ]
  },
  {
   "cell_type": "markdown",
   "metadata": {
    "slideshow": {
     "slide_type": "subslide"
    }
   },
   "source": [
    "Let's separate this data into two equal-sized training and dev sets."
   ]
  },
  {
   "cell_type": "code",
   "execution_count": 4,
   "metadata": {
    "slideshow": {
     "slide_type": "fragment"
    }
   },
   "outputs": [],
   "source": [
    "# https://scikit-learn.org/stable/auto_examples/classification/plot_digits_classification.html\n",
    "from sklearn.model_selection import train_test_split\n",
    "\n",
    "# Split data into train and test subsets\n",
    "n_samples = len(digits.images)\n",
    "data = digits.images.reshape((n_samples, -1))\n",
    "X_train, X_dev, y_train, y_dev = train_test_split(\n",
    "    data, digits.target, test_size=0.5, shuffle=False)"
   ]
  },
  {
   "cell_type": "markdown",
   "metadata": {
    "slideshow": {
     "slide_type": "subslide"
    }
   },
   "source": [
    "We can train a simple Softmax model on this data."
   ]
  },
  {
   "cell_type": "code",
   "execution_count": 5,
   "metadata": {
    "slideshow": {
     "slide_type": "fragment"
    }
   },
   "outputs": [],
   "source": [
    "# https://scikit-learn.org/stable/auto_examples/classification/plot_digits_classification.html\n",
    "from sklearn.linear_model import LogisticRegression\n",
    "classifier = LogisticRegression(max_iter=1e7)\n",
    "\n",
    "# We learn the digits on the first half of the digits\n",
    "classifier.fit(X_train, y_train)\n",
    "\n",
    "# Now predict the value of the digit on the second half:\n",
    "predicted = classifier.predict(X_dev)"
   ]
  },
  {
   "cell_type": "markdown",
   "metadata": {
    "slideshow": {
     "slide_type": "subslide"
    }
   },
   "source": [
    "It achieves the following accuracy."
   ]
  },
  {
   "cell_type": "code",
   "execution_count": 6,
   "metadata": {
    "slideshow": {
     "slide_type": "fragment"
    }
   },
   "outputs": [
    {
     "data": {
      "text/plain": [
       "0.9332591768631813"
      ]
     },
     "execution_count": 6,
     "metadata": {},
     "output_type": "execute_result"
    }
   ],
   "source": [
    "(predicted == y_dev).mean()"
   ]
  },
  {
   "cell_type": "markdown",
   "metadata": {
    "slideshow": {
     "slide_type": "subslide"
    }
   },
   "source": [
    "We hypothesize that certain digits are misclassified more than others."
   ]
  },
  {
   "cell_type": "code",
   "execution_count": 7,
   "metadata": {
    "slideshow": {
     "slide_type": "fragment"
    }
   },
   "outputs": [
    {
     "data": {
      "text/plain": [
       "(array([ 3., 11.,  2., 14.,  7.,  4.,  1.,  4.,  9.,  5.]),\n",
       " array([0. , 0.9, 1.8, 2.7, 3.6, 4.5, 5.4, 6.3, 7.2, 8.1, 9. ]),\n",
       " <BarContainer object of 10 artists>)"
      ]
     },
     "execution_count": 7,
     "metadata": {},
     "output_type": "execute_result"
    },
    {
     "data": {
      "image/png": "[encoded data removed]",
      "text/plain": [
       "<Figure size 432x288 with 1 Axes>"
      ]
     },
     "metadata": {
      "needs_background": "light"
     },
     "output_type": "display_data"
    }
   ],
   "source": [
    "# these dev set digits are classified incorrectly\n",
    "X_error = X_dev[predicted != y_dev]\n",
    "y_error = y_dev[predicted != y_dev]\n",
    "p_error = predicted[predicted != y_dev]\n",
    "\n",
    "# these dev set digits are classified correctly\n",
    "X_corr = X_dev[predicted == y_dev]\n",
    "y_corr = y_dev[predicted == y_dev]\n",
    "p_corr = predicted[predicted == y_dev]\n",
    "\n",
    "# show the histogram\n",
    "plt.xticks(range(10))\n",
    "plt.hist(y_error)"
   ]
  },
  {
   "cell_type": "markdown",
   "metadata": {
    "slideshow": {
     "slide_type": "subslide"
    }
   },
   "source": [
    "The most common misclassified digit is a 3.\n",
    "\n",
    "We can investigate the issue by looking at a subset of misclassified 3's (top row) and compare them to correctly classified 3's (bottom row)."
   ]
  },
  {
   "cell_type": "code",
   "execution_count": 13,
   "metadata": {
    "slideshow": {
     "slide_type": "fragment"
    }
   },
   "outputs": [
    {
     "data": {
      "text/plain": [
       "<Figure size 576x1152 with 0 Axes>"
      ]
     },
     "metadata": {},
     "output_type": "display_data"
    },
    {
     "data": {
      "image/png": "[encoded data removed]",
      "text/plain": [
       "<Figure size 432x288 with 16 Axes>"
      ]
     },
     "metadata": {
      "needs_background": "light"
     },
     "output_type": "display_data"
    }
   ],
   "source": [
    "plt.figure(figsize=(8,16))\n",
    "_, axes = plt.subplots(2, 8)\n",
    "\n",
    "# these images are classified incorrectly\n",
    "images_and_labels = list(zip(X_error[y_error==3], p_error[y_error==3]))\n",
    "for ax, (image, label) in zip(axes[0,:], images_and_labels[:8]):\n",
    "    ax.set_axis_off()\n",
    "    ax.imshow(image.reshape((8,8)), cmap=plt.cm.gray_r, interpolation='nearest')\n",
    "    ax.set_title('f(x)=%i' % label)\n",
    "\n",
    "# these images are classified correctly\n",
    "images_and_labels = list(zip(X_corr[y_corr==3], p_corr[y_corr==3]))    \n",
    "for ax, (image, label) in zip(axes[1,:], images_and_labels[:8]):\n",
    "    ax.set_axis_off()\n",
    "    ax.imshow(image.reshape((8,8)), cmap=plt.cm.gray_r, interpolation='nearest')\n",
    "    ax.set_title('f(x)=%i' % label) "
   ]
  },
  {
   "cell_type": "markdown",
   "metadata": {
    "slideshow": {
     "slide_type": "subslide"
    }
   },
   "source": [
    "We discover that the model is misclassifying a particular stlye of 3, and we can focus our efforts on this type of error."
   ]
  },
  {
   "cell_type": "markdown",
   "metadata": {
    "slideshow": {
     "slide_type": "slide"
    }
   },
   "source": [
    "# Limitations of Error Analysis\n",
    "\n",
    "The main limitations of error analysis include:\n",
    "1. It is particularly easy to overfit the dev set, since we prioritize fixing dev set errors.\n",
    "2. It can be laborious (but still important!)\n",
    "3. Certain bigger trends (e.g. overfitting the data) may be less obvious.\n",
    "\n",
    "Hence, we perform other analyses to explain and diagnose errors."
   ]
  },
  {
   "cell_type": "markdown",
   "metadata": {
    "slideshow": {
     "slide_type": "slide"
    }
   },
   "source": [
    "# Part 2: Bias/Variance Analysis\n",
    "\n",
    "Another way to understand the performance of the model is to examine the extent to which it's overfitting or underfitting the data. \n",
    "\n",
    "We refer to this as bias/variance analysis."
   ]
  },
  {
   "cell_type": "markdown",
   "metadata": {
    "slideshow": {
     "slide_type": "skip"
    }
   },
   "source": [
    "# Review: Error Analysis\n",
    "\n",
    "Error analysis systematically identifies the most common errors made by the model."
   ]
  },
  {
   "cell_type": "markdown",
   "metadata": {
    "slideshow": {
     "slide_type": "skip"
    }
   },
   "source": [
    "1. Collect a random subset of misclassified dev set examples.\n",
    "2. Manually examine them; identify the most common types or *categories* of errors.\n",
    "3. Count \\% of points affected by each error categories.\n",
    "\n",
    "You should prioritize the most common error categories."
   ]
  },
  {
   "cell_type": "markdown",
   "metadata": {
    "slideshow": {
     "slide_type": "slide"
    }
   },
   "source": [
    "# Review: Overfitting (Variance)\n",
    "\n",
    "Overfitting is one of the most common failure modes of machine learning.\n",
    "* A very expressive model (a high degree polynomial) fits the training dataset perfectly.\n",
    "* The model also makes wildly incorrect prediction outside this dataset, and doesn't generalize."
   ]
  },
  {
   "cell_type": "markdown",
   "metadata": {
    "slideshow": {
     "slide_type": "subslide"
    }
   },
   "source": [
    "Recall this example, where we randomly sample around a true function."
   ]
  },
  {
   "cell_type": "code",
   "execution_count": 108,
   "metadata": {
    "slideshow": {
     "slide_type": "-"
    }
   },
   "outputs": [
    {
     "data": {
      "text/plain": [
       "<matplotlib.collections.PathCollection at 0x1271c8828>"
      ]
     },
     "execution_count": 108,
     "metadata": {},
     "output_type": "execute_result"
    },
    {
     "data": {
      "image/png": "[encoded data removed]",
      "text/plain": [
       "<Figure size 432x288 with 1 Axes>"
      ]
     },
     "metadata": {
      "needs_background": "light"
     },
     "output_type": "display_data"
    }
   ],
   "source": [
    "import numpy as np\n",
    "np.random.seed(1)\n",
    "n_samples = 40\n",
    "true_fn = lambda X: np.cos(1.5 * np.pi * X)\n",
    "\n",
    "X = np.sort(np.random.rand(n_samples))\n",
    "y = true_fn(X) + np.random.randn(n_samples) * 0.1\n",
    "\n",
    "X_line = np.linspace(0, 1, 100)\n",
    "plt.plot(X_line, true_fn(X_line), label=\"True function\")\n",
    "plt.scatter(X, y, edgecolor='b', s=20, label=\"Samples\")"
   ]
  },
  {
   "cell_type": "markdown",
   "metadata": {
    "slideshow": {
     "slide_type": "subslide"
    }
   },
   "source": [
    "Below, we fit a high degree polynomial on random samples of 30 points from this dataset.\n",
    "\n",
    "Each small subset of the data that we train on results is a very different model."
   ]
  },
  {
   "cell_type": "code",
   "execution_count": 19,
   "metadata": {
    "slideshow": {
     "slide_type": "-"
    }
   },
   "outputs": [
    {
     "data": {
      "image/png": "[encoded data removed]",
      "text/plain": [
       "<Figure size 1008x360 with 3 Axes>"
      ]
     },
     "metadata": {
      "needs_background": "light"
     },
     "output_type": "display_data"
    }
   ],
   "source": [
    "from sklearn.pipeline import Pipeline\n",
    "from sklearn.preprocessing import PolynomialFeatures\n",
    "from sklearn.linear_model import LinearRegression\n",
    "\n",
    "n_plots, X_line = 3, np.linspace(0,1,20)\n",
    "plt.figure(figsize=(14, 5))\n",
    "for i in range(n_plots):\n",
    "    ax = plt.subplot(1, n_plots, i + 1)\n",
    "    random_idx = np.random.randint(0, 30, size=(30,))\n",
    "    X_random, y_random = X[random_idx], y[random_idx]\n",
    "\n",
    "    polynomial_features = PolynomialFeatures(degree= z, include_bias=False)\n",
    "    linear_regression = LinearRegression()\n",
    "    pipeline = Pipeline([(\"pf\", polynomial_features), (\"lr\", linear_regression)])\n",
    "    pipeline.fit(X_random[:, np.newaxis], y_random)\n",
    "\n",
    "    ax.plot(X_line, true_fn(X_line), label=\"True function\")    \n",
    "    ax.plot(X_line, pipeline.predict(X_line[:, np.newaxis]), label=\"Model\")\n",
    "    ax.scatter(X_random, y_random, edgecolor='b', s=20, label=\"Samples\", alpha=0.2)\n",
    "    ax.set_xlim((0, 1))\n",
    "    ax.set_ylim((-2, 2))\n",
    "    ax.legend(loc=\"best\")\n",
    "    ax.set_title('Random sample %d' % i)"
   ]
  },
  {
   "cell_type": "markdown",
   "metadata": {
    "slideshow": {
     "slide_type": "subslide"
    }
   },
   "source": [
    "An algorithm that has a tendency to overfit is also called __high variance__, because it outputs a predictive model that varies a lot if we slightly perturb the dataset."
   ]
  },
  {
   "cell_type": "markdown",
   "metadata": {
    "slideshow": {
     "slide_type": "slide"
    }
   },
   "source": [
    "# Review: Underfitting (Bias)\n",
    "\n",
    "Underfitting is another common problem in machine learning.\n",
    "* The model is too simple to fit the data well (e.g., approximating a high degree polynomial with linear regression).\n",
    "* As a result, the model is not accurate on training data and is not accurate on new data.\n",
    "\n",
    "Because the model cannot fit the data, we say it's __high bias__."
   ]
  },
  {
   "cell_type": "markdown",
   "metadata": {
    "slideshow": {
     "slide_type": "subslide"
    }
   },
   "source": [
    "We may compare overfitting vs underfitting on our polynomial dataset."
   ]
  },
  {
   "cell_type": "code",
   "execution_count": 73,
   "metadata": {
    "slideshow": {
     "slide_type": "fragment"
    }
   },
   "outputs": [
    {
     "data": {
      "image/png": "[encoded data removed]",
      "text/plain": [
       "<Figure size 1008x360 with 3 Axes>"
      ]
     },
     "metadata": {
      "needs_background": "light"
     },
     "output_type": "display_data"
    }
   ],
   "source": [
    "degrees = [1, 20, 5]\n",
    "titles = ['Underfitting', 'Overfitting', 'A Good Fit']\n",
    "plt.figure(figsize=(14, 5))\n",
    "for i in range(len(degrees)):\n",
    "    ax = plt.subplot(1, len(degrees), i + 1)\n",
    "\n",
    "    polynomial_features = PolynomialFeatures(degree=degrees[i], include_bias=False)\n",
    "    linear_regression = LinearRegression()\n",
    "    pipeline = Pipeline([(\"pf\", polynomial_features), (\"lr\", linear_regression)])\n",
    "    pipeline.fit(X[:, np.newaxis], y)\n",
    "\n",
    "    ax.plot(X_test, true_fn(X_test), label=\"True function\")    \n",
    "    ax.plot(X_test, pipeline.predict(X_test[:, np.newaxis]), label=\"Model\")\n",
    "    ax.scatter(X, y, edgecolor='b', s=20, label=\"Samples\", alpha=0.2)\n",
    "    ax.set_xlim((0, 1))\n",
    "    ax.set_ylim((-2, 2))\n",
    "    ax.legend(loc=\"best\")\n",
    "    ax.set_title(\"{} (Degree {})\".format(titles[i], degrees[i]))"
   ]
  },
  {
   "cell_type": "markdown",
   "metadata": {
    "slideshow": {
     "slide_type": "slide"
    }
   },
   "source": [
    "# On the Signficance of Bias and Variance\n",
    "\n",
    "Every error in machine learning is either underfitting (bias) or overfitting (variance).\n",
    "* __Bias__: Our model is not able to extract signal from data.\n",
    "* __Variance__: The signal doesn't generalize to new data.\n",
    "\n",
    "By definition, if we have no bias and variance, we have a perfect model. Hence, bias/variance is important to understand."
   ]
  },
  {
   "cell_type": "markdown",
   "metadata": {
    "slideshow": {
     "slide_type": "slide"
    }
   },
   "source": [
    "# Quantifying Bias and Variance\n",
    "\n",
    "We approximately quantify the bias and the variance of a model as follows.\n",
    "\n",
    "$$\\text{dev error} = (\\underbrace{\\text{dev error} - \\text{train error}}_\\text{variance}) + \\underbrace{\\text{train error}}_\\text{bias}$$"
   ]
  },
  {
   "cell_type": "markdown",
   "metadata": {
    "slideshow": {
     "slide_type": "fragment"
    }
   },
   "source": [
    "* The bias is simply the training error (can we even fit training data?)"
   ]
  },
  {
   "cell_type": "markdown",
   "metadata": {
    "slideshow": {
     "slide_type": "fragment"
    }
   },
   "source": [
    "* Variance is the extra error on the dev set (do we generalize to it?)"
   ]
  },
  {
   "cell_type": "markdown",
   "metadata": {
    "slideshow": {
     "slide_type": "skip"
    }
   },
   "source": [
    "It's important to consider both types of errors.\n",
    "* If a model has high training error, it will certainly have high generalization error.\n",
    "* As we fix training error, we need to ensure that it generalizes to new data.\n",
    "\n",
    "We can make different changes to the algorithm to address both of these issues."
   ]
  },
  {
   "cell_type": "markdown",
   "metadata": {
    "slideshow": {
     "slide_type": "slide"
    }
   },
   "source": [
    "# Diagnosing Bias and Variance\n",
    "\n",
    "We may use this observation to diagnose bias/variance in practice.\n",
    "* If the training error is high, we have high bias.\n",
    "* If dev error is much higher than training error, we have high variance."
   ]
  },
  {
   "cell_type": "markdown",
   "metadata": {
    "slideshow": {
     "slide_type": "subslide"
    }
   },
   "source": [
    "Consider the following example:\n",
    "* Our training set error is 15%.\n",
    "* Our dev set error is 16%.\n",
    "* Human error is 2%.\n",
    "\n",
    "This is a typical example of __high bias__ (underfitting)."
   ]
  },
  {
   "cell_type": "markdown",
   "metadata": {
    "slideshow": {
     "slide_type": "subslide"
    }
   },
   "source": [
    "Next, consider another example:\n",
    "* Our training set error is 4%.\n",
    "* Our dev set error is 12%.\n",
    "* Human error is 2%.\n",
    "\n",
    "This is an example of __high variance__ (overfitting)."
   ]
  },
  {
   "cell_type": "markdown",
   "metadata": {
    "slideshow": {
     "slide_type": "subslide"
    }
   },
   "source": [
    "Finally, suppose you see the following:\n",
    "* Our training set error is 2.5%.\n",
    "* Our dev set error is 3%.\n",
    "* Human error is 2%.\n",
    "\n",
    "This is a model that seems to work quite well!"
   ]
  },
  {
   "cell_type": "markdown",
   "metadata": {
    "slideshow": {
     "slide_type": "slide"
    }
   },
   "source": [
    "# Addressing Variance\n",
    "\n",
    "The best way to reduce variance is to __give the model more data__. \n",
    "* Overfitting occurs because we don't have enough data to fit an expressive model.\n",
    "* Hence, we add data and the memorized solution is no longer good.\n",
    "\n",
    "However, this may be not be feasible because of high costs for compute or data acquisition."
   ]
  },
  {
   "cell_type": "markdown",
   "metadata": {
    "slideshow": {
     "slide_type": "subslide"
    }
   },
   "source": [
    "Alternative options for reducing variance include:\n",
    "* __Add Regularization__: L2 regularization, dropout, early stopping (increases bias)\n",
    "* __Drop or Change Features__: Ideally, drop irrelevant ones (needs manual analysis)\n",
    "* __Reduce Model Size__: Decrease layer size, kernel complexity, etc. Regularization often works better."
   ]
  },
  {
   "cell_type": "markdown",
   "metadata": {
    "slideshow": {
     "slide_type": "slide"
    }
   },
   "source": [
    "# Addressing Bias\n",
    "\n",
    "The best way to reduce bias is to __increase the expressivity of the model__. \n",
    "* e.g., add more neural net layers, decrease kernel bandwidth, increase polynomial degree.\n",
    "* A bigger (more expressive) model will fit the data better.\n",
    "\n",
    "However, this may be not be feasible because of high costs for compute."
   ]
  },
  {
   "cell_type": "markdown",
   "metadata": {
    "slideshow": {
     "slide_type": "subslide"
    }
   },
   "source": [
    "Alternative options for reducing bias include:\n",
    "\n",
    "* __Add or Change Features__: Often based on manual analysis.\n",
    "* __Reduce Regularization__: Change dropout, train model longer (incrases variance).\n",
    "* __Adjust Model Architecture__: e.g., switch to ConvNets for image classification, which are more parameter-efficient than fully-connected networks (can also improve variance)"
   ]
  },
  {
   "cell_type": "markdown",
   "metadata": {
    "slideshow": {
     "slide_type": "subslide"
    }
   },
   "source": [
    "For both bias and variance reduction, we can use error analysis to guide our changes, e.g.:\n",
    "* To determine which features to add/remove.\n",
    "* To determine which additional data to collect."
   ]
  },
  {
   "cell_type": "markdown",
   "metadata": {
    "slideshow": {
     "slide_type": "slide"
    }
   },
   "source": [
    "# Bias/Variance Analysis: An Example\n",
    "\n",
    "Let's use our earlier example with the sklearn digits dataset to illustrate this approach."
   ]
  },
  {
   "cell_type": "markdown",
   "metadata": {
    "slideshow": {
     "slide_type": "subslide"
    }
   },
   "source": [
    "Recall our digits dataset from earlier:"
   ]
  },
  {
   "cell_type": "code",
   "execution_count": 3,
   "metadata": {
    "slideshow": {
     "slide_type": "fragment"
    }
   },
   "outputs": [
    {
     "data": {
      "text/plain": [
       "<Figure size 576x1152 with 0 Axes>"
      ]
     },
     "metadata": {},
     "output_type": "display_data"
    },
    {
     "data": {
      "image/png": "[encoded data removed]",
      "text/plain": [
       "<Figure size 432x288 with 10 Axes>"
      ]
     },
     "metadata": {
      "needs_background": "light"
     },
     "output_type": "display_data"
    }
   ],
   "source": [
    "from matplotlib import pyplot as plt\n",
    "\n",
    "plt.figure(figsize=(8,16))\n",
    "_, axes = plt.subplots(2, 5)\n",
    "images_and_labels = list(zip(digits.images, digits.target))\n",
    "for ax, (image, label) in zip(axes.flatten(), images_and_labels[:10]):\n",
    "    ax.set_axis_off()\n",
    "    ax.imshow(image, cmap=plt.cm.gray_r, interpolation='nearest')\n",
    "    ax.set_title('Digit %i' % label)"
   ]
  },
  {
   "cell_type": "markdown",
   "metadata": {
    "slideshow": {
     "slide_type": "subslide"
    }
   },
   "source": [
    "We can train a small fully-connected neural network on this data."
   ]
  },
  {
   "cell_type": "code",
   "execution_count": 52,
   "metadata": {
    "slideshow": {
     "slide_type": "fragment"
    }
   },
   "outputs": [],
   "source": [
    "# https://scikit-learn.org/stable/auto_examples/classification/plot_digits_classification.html\n",
    "from sklearn.neural_network import MLPClassifier\n",
    "classifier = MLPClassifier()\n",
    "\n",
    "# We learn the digits on the first half of the digits\n",
    "classifier.fit(X_train, y_train)\n",
    "\n",
    "# Now predict the value of the digit:\n",
    "predicted = classifier.predict(X_dev)\n",
    "predicted_train = classifier.predict(X_train)"
   ]
  },
  {
   "cell_type": "markdown",
   "metadata": {
    "slideshow": {
     "slide_type": "subslide"
    }
   },
   "source": [
    "It achieves the following accuracy."
   ]
  },
  {
   "cell_type": "code",
   "execution_count": 53,
   "metadata": {
    "slideshow": {
     "slide_type": "fragment"
    }
   },
   "outputs": [
    {
     "name": "stdout",
     "output_type": "stream",
     "text": [
      "Training set accuracy: 1.000 \n",
      "Development set accuracy: 0.937 \n"
     ]
    }
   ],
   "source": [
    "print('Training set accuracy: %.3f ' % (predicted_train == y_train).mean())\n",
    "print('Development set accuracy: %.3f ' % (predicted == y_dev).mean())"
   ]
  },
  {
   "cell_type": "markdown",
   "metadata": {
    "slideshow": {
     "slide_type": "subslide"
    }
   },
   "source": [
    "We have clearly memorized our dataset, and are overfitting. Let's increase regularization."
   ]
  },
  {
   "cell_type": "code",
   "execution_count": 103,
   "metadata": {
    "slideshow": {
     "slide_type": "fragment"
    }
   },
   "outputs": [],
   "source": [
    "classifier = MLPClassifier(max_iter=1000, alpha=1)\n",
    "\n",
    "# We learn the digits on the first half of the digits\n",
    "classifier.fit(X_train, y_train)\n",
    "\n",
    "# Now predict the value of the digit:\n",
    "predicted = classifier.predict(X_dev)\n",
    "predicted_train = classifier.predict(X_train)"
   ]
  },
  {
   "cell_type": "markdown",
   "metadata": {
    "slideshow": {
     "slide_type": "subslide"
    }
   },
   "source": [
    "By increasing L2 regularization (`alpha`), we improve performance by 1%.\n",
    "(Although we still somewhat overfit)"
   ]
  },
  {
   "cell_type": "code",
   "execution_count": 105,
   "metadata": {
    "slideshow": {
     "slide_type": "fragment"
    }
   },
   "outputs": [
    {
     "name": "stdout",
     "output_type": "stream",
     "text": [
      "Training set accuracy: 1.000 \n",
      "Development set accuracy: 0.947 \n"
     ]
    }
   ],
   "source": [
    "print('Training set accuracy: %.3f ' % (predicted_train == y_train).mean())\n",
    "print('Development set accuracy: %.3f ' % (predicted == y_dev).mean())"
   ]
  },
  {
   "cell_type": "markdown",
   "metadata": {
    "slideshow": {
     "slide_type": "slide"
    }
   },
   "source": [
    "# Error vs. Bias/Variance Analyses\n",
    "\n",
    "These two analyses reveal different types of problems:\n",
    "* __Systematic errors__ are found by error analysis (e.g., frequent errors on dog images because we lack training images of dogs)\n",
    "* __General errors__ are found by bias/variance analysis (e.g., we memorized the training set and don't generalize)"
   ]
  },
  {
   "cell_type": "markdown",
   "metadata": {
    "slideshow": {
     "slide_type": "subslide"
    }
   },
   "source": [
    "These two analyses also complement each other.\n",
    "* Bias/variance suggests which errors categories and which datasets (train, dev) are useful for error analysis.\n",
    "* Error analysis identifies specific ways of fixing high bias or high variance (e.g., which new features to add)"
   ]
  },
  {
   "cell_type": "markdown",
   "metadata": {
    "slideshow": {
     "slide_type": "slide"
    }
   },
   "source": [
    "# Bias/Variance Analysis vs Hyperparameter Search\n",
    "\n",
    "Bias/variance analyses also helps guide hyperparameter search\n",
    "* Hyperparamters are often chosen by grid or random search.\n",
    "* Bias/variance analysis provides intuition for where to  search.\n",
    "* For example, if we're overfitting, we need to search larger regularization values."
   ]
  },
  {
   "cell_type": "markdown",
   "metadata": {
    "slideshow": {
     "slide_type": "slide"
    }
   },
   "source": [
    "# Model Iteration Cycle\n",
    "\n",
    "In summary, ML model development can be seen as alternating between the following two steps:\n",
    "* __Reduce underfitting__ (e.g., increase model size)\n",
    "* __Reduce overfitting__ (e.g., give it more data)\n",
    "\n",
    "Error analysis guides specific changes in this process."
   ]
  },
  {
   "cell_type": "markdown",
   "metadata": {
    "slideshow": {
     "slide_type": "slide"
    }
   },
   "source": [
    "# Part 3: Baselines\n",
    "\n",
    "In order to understand model performance, we need to put it in context.\n",
    "\n",
    "Baselines represent a benchmark against which we compare performance."
   ]
  },
  {
   "cell_type": "markdown",
   "metadata": {
    "slideshow": {
     "slide_type": "slide"
    }
   },
   "source": [
    "# Motivation\n",
    "\n",
    "Suppose you train a regression model with a mean L1 error of 20.\n",
    "* If we simply output the average $y$ on every input and this gives us an error of 20, then we haven't learned anything.\n",
    "* In other cases, an error of 20 can be very good.\n",
    "\n",
    "Thus, we need to put our results in context by comparing to other models."
   ]
  },
  {
   "cell_type": "markdown",
   "metadata": {
    "slideshow": {
     "slide_type": "slide"
    }
   },
   "source": [
    "# Baselines\n",
    "\n",
    "A baseline is a another model against which we compare ourselves.\n",
    "* These are often simple toy models that serve as a sanity check\n",
    "* They also help us to interpret performance"
   ]
  },
  {
   "cell_type": "markdown",
   "metadata": {
    "slideshow": {
     "slide_type": "subslide"
    }
   },
   "source": [
    "Examples of baselines include:\n",
    "* Random guessing, constant or average predictions.\n",
    "* Simple models, such as interpretable trees or linear regression.\n",
    "* Older, previous-generation ML models.\n",
    "* Any classical approach that does not involve machine learning."
   ]
  },
  {
   "cell_type": "markdown",
   "metadata": {
    "slideshow": {
     "slide_type": "slide"
    }
   },
   "source": [
    "# Optimal Performance\n",
    "\n",
    "In practice, we also want to set a target upper bound on our performance.\n",
    "* The optimal error is often non-zero, e.g. even humans can't understand noisy speech.\n",
    "* It tells us whether the model can be further improved."
   ]
  },
  {
   "cell_type": "markdown",
   "metadata": {
    "slideshow": {
     "slide_type": "slide"
    }
   },
   "source": [
    "# Estimating the Optimal Error Rate\n",
    "\n",
    "There are different ways to compute an upper bound:\n",
    "* Manually ask human annotators to label some data.\n",
    "* Label data using crowdsourcing.\n",
    "* Use the expected performance levels of downstream applications."
   ]
  },
  {
   "cell_type": "markdown",
   "metadata": {
    "slideshow": {
     "slide_type": "slide"
    }
   },
   "source": [
    "# Quantifying Bias Using Optimal Error\n",
    "\n",
    "Our target optimal error helps us better quantify bias and variance:\n",
    "\n",
    "$$\\text{dev error} = (\\underbrace{\\text{dev error} - \\text{train error}}_\\text{variance}) + (\\underbrace{\\text{train error} - \\text{opt error}}_\\text{avoidable bias}) + \\underbrace{\\text{opt error}}_\\text{unavoidable bias}$$"
   ]
  },
  {
   "cell_type": "markdown",
   "metadata": {
    "slideshow": {
     "slide_type": "subslide"
    }
   },
   "source": [
    "Consider the following example:\n",
    "* Our training set error is 15%.\n",
    "* Our dev set error is 20%.\n",
    "* Ideal error is 14%.\n",
    "\n",
    "The bias is almost ideal. We have a variance problem."
   ]
  },
  {
   "cell_type": "markdown",
   "metadata": {
    "slideshow": {
     "slide_type": "subslide"
    }
   },
   "source": [
    "Next, consider this scenario:\n",
    "* Our training set error is 5%.\n",
    "* Our dev set error is 10%.\n",
    "* Ideal error is 7%.\n",
    "\n",
    "Training error is less than the ideal error! This means that we have overfit the training set. We have a variance problem."
   ]
  },
  {
   "cell_type": "markdown",
   "metadata": {
    "slideshow": {
     "slide_type": "subslide"
    }
   },
   "source": [
    "Finally, consider another example:\n",
    "* Our training set error is 8%.\n",
    "* Our dev set error is 9%.\n",
    "* Ideal error is 7%.\n",
    "\n",
    "We are close to being optimal!"
   ]
  },
  {
   "cell_type": "code",
   "execution_count": null,
   "metadata": {},
   "outputs": [],
   "source": []
  }
 ],
 "metadata": {
  "accelerator": "GPU",
  "celltoolbar": "Slideshow",
  "colab": {
   "collapsed_sections": [],
   "name": "neural-ode.ipynb",
   "provenance": []
  },
  "kernelspec": {
   "display_name": "Python 3 (ipykernel)",
   "language": "python",
   "name": "python3"
  },
  "language_info": {
   "codemirror_mode": {
    "name": "ipython",
    "version": 3
   },
   "file_extension": ".py",
   "mimetype": "text/x-python",
   "name": "python",
   "nbconvert_exporter": "python",
   "pygments_lexer": "ipython3",
   "version": "3.11.4"
  },
  "rise": {
   "controlsTutorial": false,
   "height": 900,
   "help": false,
   "margin": 0,
   "maxScale": 2,
   "minScale": 0.2,
   "progress": true,
   "scroll": true,
   "theme": "simple",
   "width": 1200
  }
 },
 "nbformat": 4,
 "nbformat_minor": 4
}
