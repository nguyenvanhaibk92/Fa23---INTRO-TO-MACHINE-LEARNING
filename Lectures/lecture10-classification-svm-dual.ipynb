{
 "cells": [
  {
   "cell_type": "markdown",
   "metadata": {
    "colab_type": "text",
    "id": "i_f5u2x9nn6I",
    "slideshow": {
     "slide_type": "slide"
    }
   },
   "source": [
    "\n",
    "# Lecture 10: Dual Formulation of Support Vector Machines\n",
    "Adapted from Applied Machine Learning Lecture Notes of Volodymyr Kuleshov, Cornel Tech\n",
    "\n",
    "__Instructor Tan Bui__\n",
    "\n",
    "\n",
    "\n",
    "\n",
    "$\\newcommand{\\bs}[1]{\\boldsymbol{#1}}$"
   ]
  },
  {
   "cell_type": "markdown",
   "metadata": {
    "slideshow": {
     "slide_type": "slide"
    }
   },
   "source": [
    "# Part 1: Lagrange Duality\n",
    "\n",
    "In this lecture, we continue looking at Support Vector Machines (SVMs), and define a new formulation of the max-margin problem.\n",
    "\n",
    "Before we do that, we start with a general concept -- Lagrange duality."
   ]
  },
  {
   "cell_type": "markdown",
   "metadata": {
    "slideshow": {
     "slide_type": "skip"
    }
   },
   "source": [
    "# Review: Components of A Supervised Machine Learning Problem\n",
    "\n",
    "At a high level, a supervised machine learning problem has the following structure:\n",
    "\n",
    "$$ \\underbrace{\\text{Training Dataset}}_\\text{Attributes + Features} + \\underbrace{\\text{Learning Algorithm}}_\\text{Model Class + Objective + Optimizer } \\to \\text{Predictive Model} $$"
   ]
  },
  {
   "cell_type": "markdown",
   "metadata": {
    "slideshow": {
     "slide_type": "slide"
    }
   },
   "source": [
    "# Review: Maximizing the Margin\n",
    "\n",
    "We saw that maximizing the margin of a linear model amounts to solving the following optimization problem.\n",
    "\\begin{align*}\n",
    "\\min_{\\bs{\\theta},\\theta_0} \\frac{1}{2}||\\bs{\\theta}||^2 \\; &  \\\\\n",
    "\\text{subject to } \\; & y^{(i)}((\\bs{x}^{(i)})^\\top\\bs{\\theta}+\\theta_0)\\geq 1 \\; \\text{for all $i$}\n",
    "\\end{align*}\n",
    "\n",
    "We are going to look at a different way of optimizing this objective. But first, we start by defining Lagrange duality.\n"
   ]
  },
  {
   "cell_type": "markdown",
   "metadata": {
    "slideshow": {
     "slide_type": "slide"
    }
   },
   "source": [
    "# Constrained Optimization Problems\n",
    "\n",
    "We will look at constrained optimization problems of the form\n",
    "\\begin{align*}\n",
    "\\min_{\\bs{\\theta} \\in \\mathbb{R}^d} \\; & J(\\bs{\\theta}) \\\\\n",
    "\\text{such that } \\; & c_k(\\bs{\\theta}) \\leq 0 \\text{ for $k =1,2,\\ldots,K$}\n",
    "\\end{align*}\n",
    "where $J(\\bs{\\theta})$ is the optimization objective and each $c_k(\\bs{\\theta}) : \\mathbb{R}^d \\to \\mathbb{R}$ is a constraint. Our goal is to find a small value of $J(\\bs{\\theta})$ such that the $c_k(\\bs{\\theta})$ are negative."
   ]
  },
  {
   "cell_type": "markdown",
   "metadata": {
    "slideshow": {
     "slide_type": "fragment"
    }
   },
   "source": [
    "Our goal is to find a small value of $J(\\theta)$ such that the $c_k(\\theta)$ are negative."
   ]
  },
  {
   "cell_type": "markdown",
   "metadata": {
    "slideshow": {
     "slide_type": "slide"
    }
   },
   "source": [
    "# Optimization with Penalties\n",
    "\n",
    "Another way of approaching the above goal is via: \n",
    "$$\\min_\\theta \\mathcal{L}(\\theta, \\bs{\\lambda}) = J(\\bs{\\theta}) + \\sum_{k=1}^K \\lambda_k c_k(\\bs{\\theta})$$\n",
    "for some positive vector of *Lagrangian multipliers* $\\bs{\\lambda} \\in [0, \\infty)^K$. We call $\\mathcal{L}(\\bs{\\theta}, \\lambda)$ the *Lagrangian*."
   ]
  },
  {
   "cell_type": "markdown",
   "metadata": {
    "slideshow": {
     "slide_type": "fragment"
    }
   },
   "source": [
    "* If $\\lambda_k \\geq 0$, then we penalize large values of $c_k$"
   ]
  },
  {
   "cell_type": "markdown",
   "metadata": {
    "slideshow": {
     "slide_type": "fragment"
    }
   },
   "source": [
    "* For large enough $\\lambda_k$, no $c_k$ will be positive --- a valid solution."
   ]
  },
  {
   "cell_type": "markdown",
   "metadata": {
    "slideshow": {
     "slide_type": "fragment"
    }
   },
   "source": [
    "Penalties are another way of enforcing constraints."
   ]
  },
  {
   "cell_type": "markdown",
   "metadata": {
    "slideshow": {
     "slide_type": "slide"
    }
   },
   "source": [
    "# Penalties vs. Constraints\n",
    "\n",
    "Penalties and constraints are closely related. Consider our constrained optimization problem:\n",
    "\\begin{align*}\n",
    "\\min_{\\bs{\\theta} \\in \\mathbb{R}^d} \\; & J(\\bs{\\theta}) \\\\\n",
    "\\text{such that } \\; & c_k(\\bs{\\theta}) \\leq 0 \\text{ for $k =1,2,\\ldots,K$}\n",
    "\\end{align*}"
   ]
  },
  {
   "cell_type": "markdown",
   "metadata": {
    "slideshow": {
     "slide_type": "fragment"
    }
   },
   "source": [
    "We define its *primal Lagrange form* to be\n",
    "$$\\min_{\\bs{\\theta} \\in \\mathbb{R}^d} \\mathcal{P}(\\bs{\\theta}) = \\min_{\\bs{\\theta} \\in \\mathbb{R}^d} \\max_{\\bs{\\lambda} \\geq 0} \\mathcal{L}(\\bs{\\theta}, \\bs{\\lambda}) = \\min_{\\bs{\\theta} \\in \\mathbb{R}^d} \\max_{\\bs{\\lambda} \\geq 0} \\left(J(\\bs{\\theta}) + \\sum_{k=1}^K \\lambda_k c_k(\\bs{\\theta}) \\right)$$"
   ]
  },
  {
   "cell_type": "markdown",
   "metadata": {
    "slideshow": {
     "slide_type": "fragment"
    }
   },
   "source": [
    "These two forms have the same optimum $\\bs{\\theta}^*$!"
   ]
  },
  {
   "cell_type": "markdown",
   "metadata": {
    "slideshow": {
     "slide_type": "subslide"
    }
   },
   "source": [
    "Why is this true? Consider again\n",
    "$$\\min_{\\bs{\\theta} \\in \\mathbb{R}^d} \\mathcal{P}(\\bs{\\theta}) = \\min_{\\bs{\\theta} \\in \\mathbb{R}^d} \\max_{\\bs{\\lambda} \\geq 0} \\mathcal{L}(\\bs{\\theta}, \\bs{\\lambda}) = \\min_{\\bs{\\theta} \\in \\mathbb{R}^d} \\max_{\\bs{\\lambda} \\geq 0} \\left(J(\\bs{\\theta}) + \\sum_{k=1}^K \\lambda_k c_k(\\bs{\\theta}) \\right)$$"
   ]
  },
  {
   "cell_type": "markdown",
   "metadata": {
    "slideshow": {
     "slide_type": "fragment"
    }
   },
   "source": [
    "* If a $c_k$ is violated ($c_k > 0$) then $\\max_{\\bs{\\lambda} \\geq 0} \\mathcal{L}(\\bs{\\theta}, \\bs{\\lambda})$ is $\\infty$ as $\\lambda_k \\to \\infty$."
   ]
  },
  {
   "cell_type": "markdown",
   "metadata": {
    "slideshow": {
     "slide_type": "fragment"
    }
   },
   "source": [
    "* If no $c_k$ is violated and $c_k < 0$ then the optimal $\\lambda_k = 0$ (any other value makes the objective smaller).\n",
    "    * If $c_k < 0$ for all $k$ then $\\lambda_k=0$ for all $k$ and\n",
    "    $$\\min_{\\bs{\\theta} \\in \\mathbb{R}^d} \\mathcal{P}(\\bs{\\theta}) = \\min_{\\bs{\\theta} \\in \\mathbb{R}^d} \\max_{\\bs{\\lambda} \\geq 0} \\mathcal{L}(\\bs{\\theta}, \\bs{\\lambda}) = \\min_{\\bs{\\theta} \\in \\mathbb{R}^d} J(\\bs{\\theta})$$"
   ]
  },
  {
   "cell_type": "markdown",
   "metadata": {
    "slideshow": {
     "slide_type": "fragment"
    }
   },
   "source": [
    "Thus, $\\min_{\\bs{\\theta} \\in \\mathbb{R}^d} \\mathcal{P}(\\bs{\\theta})$ is the solution to our initial optimization problem."
   ]
  },
  {
   "cell_type": "markdown",
   "metadata": {
    "slideshow": {
     "slide_type": "slide"
    }
   },
   "source": [
    "# Langrange Dual\n",
    "\n",
    "Now consider the following problem over $\\bs{\\lambda}\\geq 0$:\n",
    "$$\\max_{\\bs{\\lambda} \\geq 0}\\mathcal{D}(\\bs{\\lambda}) = \\max_{\\bs{\\lambda} \\geq 0} \\min_{\\bs{\\theta} \\in \\mathbb{R}^d} \\mathcal{L}(\\bs{\\theta}, \\bs{\\lambda}) = \\max_{\\bs{\\lambda} \\geq 0} \\min_{\\bs{\\theta} \\in \\mathbb{R}^d} \\left(J(\\bs{\\theta}) + \\sum_{k=1}^K \\lambda_k c_k(\\bs{\\theta}) \\right).$$\n",
    "\n",
    "We call this the *Lagrange dual* of the primal optimization problem $\\min_{\\bs{\\theta} \\in \\mathbb{R}^d} \\mathcal{P}(\\bs{\\theta})$. We can always construct a dual for the primal."
   ]
  },
  {
   "cell_type": "markdown",
   "metadata": {
    "slideshow": {
     "slide_type": "slide"
    }
   },
   "source": [
    "# Lagrange Duality\n",
    "\n",
    "The dual is interesting because we always have:\n",
    "$$ \\max_{\\bs{\\lambda} \\geq 0}\\mathcal{D}(\\bs{\\lambda}) = \\max_{\\bs{\\lambda} \\geq 0} \\min_{\\bs{\\theta} \\in \\mathbb{R}^d} \\leq \\min_{\\bs{\\theta} \\in \\mathbb{R}^d} \\max_{\\bs{\\lambda} \\geq 0} \\mathcal{L}(\\bs{\\theta}, \\bs{\\lambda}) = \\min_{\\bs{\\theta} \\in \\mathbb{R}^d} \\mathcal{P}(\\bs{\\theta})$$"
   ]
  },
  {
   "cell_type": "markdown",
   "metadata": {
    "slideshow": {
     "slide_type": "fragment"
    }
   },
   "source": [
    "Moreover, in many interesting cases, we have\n",
    "$$ \\max_{\\bs{\\lambda} \\geq 0}\\mathcal{D}(\\bs{\\lambda}) = \\min_{\\bs{\\theta} \\in \\mathbb{R}^d} \\mathcal{P}(\\bs{\\theta}).$$\n",
    "Thus, the primal and the dual are equivalent!\n"
   ]
  },
  {
   "cell_type": "markdown",
   "metadata": {
    "slideshow": {
     "slide_type": "slide"
    }
   },
   "source": [
    "# Example: Regularization\n",
    "\n",
    "Consider regularized supervised laerning problem with a penalty term:\n",
    "$$ \\min_{\\bs{\\theta} \\in \\bs{\\theta}} L(\\bs{\\theta}) + \\bs{\\lambda} \\cdot R(\\bs{\\theta}). $$"
   ]
  },
  {
   "cell_type": "markdown",
   "metadata": {
    "slideshow": {
     "slide_type": "fragment"
    }
   },
   "source": [
    "We may also enforce an explicit constraint on the complexity of the model:\n",
    "\\begin{align*}\n",
    "\\min_{\\bs{\\theta} \\in \\bs{\\theta}} \\; & L(\\bs{\\theta}) \\\\\n",
    "\\text{such that } \\; & R(\\bs{\\theta}) \\leq \\bs{\\lambda}'\n",
    "\\end{align*}\n",
    "We will not prove this, but solving this problem is equivalent so solving the penalized problem for some $\\bs{\\lambda} > 0$ that's different from $\\bs{\\lambda}'$. "
   ]
  },
  {
   "cell_type": "markdown",
   "metadata": {
    "slideshow": {
     "slide_type": "subslide"
    }
   },
   "source": [
    "In other words, we can regularize by explicitly enforcing $R(\\bs{\\theta})$ to be less than a value or we can penalize $R(\\bs{\\theta})$."
   ]
  },
  {
   "cell_type": "markdown",
   "metadata": {
    "slideshow": {
     "slide_type": "fragment"
    }
   },
   "source": [
    "We are now going to see another application of Lagrangians in the context of SVMs."
   ]
  },
  {
   "cell_type": "markdown",
   "metadata": {
    "slideshow": {
     "slide_type": "slide"
    }
   },
   "source": [
    "\n",
    "# Part 2: Dual Formulation of SVMs\n",
    "\n",
    "Let's now apply Lagrange duality to support vector machines."
   ]
  },
  {
   "cell_type": "markdown",
   "metadata": {
    "slideshow": {
     "slide_type": "slide"
    }
   },
   "source": [
    "# Review: Binary Classification\n",
    "\n",
    "Consider a training dataset $\\mathcal{D} = \\{(\\bs{x}^{(1)}, y^{(1)}), (\\bs{x}^{(2)}, y^{(2)}), \\ldots, (\\bs{x}^{(n)}, y^{(n)})\\}$.\n",
    "\n",
    "We distinguish between two types of supervised learning problems depnding on the targets $y^{(i)}$. \n",
    "\n",
    "1. __Regression__: The target variable $y \\in \\mathcal{Y}$ is continuous:  $\\mathcal{Y} \\subseteq \\mathbb{R}$.\n",
    "2. __Binary Classification__: The target variable $y$ is discrete and takes on one of $K=2$ possible values.\n",
    "\n",
    "In this lecture, we assume $\\mathcal{Y} = \\{-1, +1\\}$."
   ]
  },
  {
   "cell_type": "markdown",
   "metadata": {
    "slideshow": {
     "slide_type": "slide"
    }
   },
   "source": [
    "# Review: Linear Model Family\n",
    "\n",
    "In this lecture, we will work with linear models of the form:\n",
    "\\begin{align*}\n",
    "f_\\theta(x) & = \\theta_0 + \\theta_1 \\cdot x_1 + \\theta_2 \\cdot x_2 + ... + \\theta_d \\cdot x_d\n",
    "\\end{align*}\n",
    "where $x \\in \\mathbb{R}^d$ is a vector of features and $y \\in \\{-1, 1\\}$ is the target. The $\\theta_j$ are the *parameters* of the model.\n",
    "\n",
    "We can represent the model in a vectorized form\n",
    "\\begin{align*}\n",
    "f_\\theta(x) = \\bs{\\theta}^\\top \\bs{x} + \\theta_0.\n",
    "\\end{align*}"
   ]
  },
  {
   "cell_type": "markdown",
   "metadata": {
    "slideshow": {
     "slide_type": "slide"
    }
   },
   "source": [
    "# Review: Geometric Margin\n",
    "\n",
    "We define the {\\it{geometric}} margin $\\gamma^{(i)}$ with respect to a training example $(\\bs{x}^{(i)}, y^{(i)})$ as\n",
    "$$ \\gamma^{(i)} = y^{(i)}\\left( \\frac{\\bs{\\theta}^\\top \\bs{x}^{(i)} + \\theta_0}{||\\bs{\\theta}||} \\right). $$\n",
    "This also corresponds to the distance from $\\bs{x}^{(i)}$ to the hyperplane."
   ]
  },
  {
   "cell_type": "markdown",
   "metadata": {
    "slideshow": {
     "slide_type": "slide"
    }
   },
   "source": [
    "# Review: Maximizing the Margin\n",
    "\n",
    "We saw that maximizing the margin of a linear model amounts to solving the following optimization problem.\n",
    "\\begin{align*}\n",
    "\\min_{\\bs{\\theta},\\theta_0} \\frac{1}{2}||\\bs{\\theta}||^2 \\; &  \\\\\n",
    "\\text{subject to } \\; & y^{(i)}((\\bs{x}^{(i)})^\\top\\bs{\\theta}+\\theta_0)\\geq 1 \\; \\text{for all $i$}\n",
    "\\end{align*}\n",
    "\n",
    "We are going to look at a different way of optimizing this objective. But first, we start by defining Lagrange duality."
   ]
  },
  {
   "cell_type": "markdown",
   "metadata": {
    "slideshow": {
     "slide_type": "slide"
    }
   },
   "source": [
    "# Review: Penalties vs. Constraints\n",
    "\n",
    "Penalties and constraints are closely related. Consider our constrained optimization problem:\n",
    "\\begin{align*}\n",
    "\\min_{\\bs{\\theta} \\in \\mathbb{R}^d} \\; & J(\\bs{\\theta}) \\\\\n",
    "\\text{such that } \\; & c_k(\\bs{\\theta}) \\leq 0 \\text{ for $k =1,2,\\ldots,K$}\n",
    "\\end{align*}"
   ]
  },
  {
   "cell_type": "markdown",
   "metadata": {
    "slideshow": {
     "slide_type": "fragment"
    }
   },
   "source": [
    "We define its *primal Lagrange form* to be\n",
    "$$\\min_{\\bs{\\theta} \\in \\mathbb{R}^d} \\mathcal{P}(\\bs{\\theta}) = \\min_{\\bs{\\theta} \\in \\mathbb{R}^d} \\max_{\\bs{\\lambda} \\geq 0} \\mathcal{L}(\\bs{\\theta}, \\bs{\\lambda}) = \\min_{\\bs{\\theta} \\in \\mathbb{R}^d} \\max_{\\bs{\\lambda} \\geq 0} \\left(J(\\bs{\\theta}) + \\sum_{k=1}^K \\lambda_k c_k(\\bs{\\theta}) \\right)$$"
   ]
  },
  {
   "cell_type": "markdown",
   "metadata": {
    "slideshow": {
     "slide_type": "fragment"
    }
   },
   "source": [
    "These two forms have the same optimum $\\bs{\\theta}^*$!"
   ]
  },
  {
   "cell_type": "markdown",
   "metadata": {
    "slideshow": {
     "slide_type": "slide"
    }
   },
   "source": [
    "# The Lagrangian of the SVM Problem\n",
    "\n",
    "Consider the following objective, the Langrangian of the max-margin optimization problem.\n",
    "\n",
    "\\begin{align*}\n",
    "L(\\bs{\\theta}, \\theta_0, \\bs{\\bs{\\lambda}}) = \\frac{1}{2}||\\bs{\\theta}||^2 + \\sum_{i=1}^n \\lambda_i \\left(1-y^{(i)}((\\bs{x}^{(i)})^\\top\\bs{\\theta}+\\theta_0)\\right)\n",
    "\\end{align*}\n",
    "\n",
    "Intuitively, we have put each constraint inside the objective function and added a penalty $\\lambda_i$ to it.\n"
   ]
  },
  {
   "cell_type": "markdown",
   "metadata": {
    "slideshow": {
     "slide_type": "slide"
    }
   },
   "source": [
    "# Review: Langrange Dual\n",
    "\n",
    "Consider the following problem over $\\bs{\\lambda}\\geq 0$:\n",
    "$$\\max_{\\bs{\\lambda} \\geq 0}\\mathcal{D}(\\bs{\\bs{\\lambda}}) = \\max_{\\bs{\\lambda} \\geq 0} \\min_{\\bs{\\theta} \\in \\mathbb{R}^d} \\mathcal{L}(\\bs{\\theta}, \\bs{\\lambda}) = \\max_{\\bs{\\lambda} \\geq 0} \\min_{\\bs{\\theta} \\in \\mathbb{R}^d} \\left(J(\\bs{\\theta}) + \\sum_{k=1}^K \\lambda_k c_k(\\bs{\\theta}) \\right).$$\n",
    "\n",
    "We call this the *Lagrange dual* of the primal optimization problem $\\min_{\\bs{\\theta} \\in \\mathbb{R}^d} \\mathcal{P}(\\bs{\\theta})$. We can always construct a dual for the primal.\n"
   ]
  },
  {
   "cell_type": "markdown",
   "metadata": {
    "slideshow": {
     "slide_type": "slide"
    }
   },
   "source": [
    "# The Dual of the SVM Problem\n",
    "\n",
    "Consider optimizing the above Lagrangian over $\\bs{\\theta}, \\theta_0$ for any value of $\\bs{\\lambda}$.\n",
    "$$\\min_{\\bs{\\theta}, \\theta_0} L(\\bs{\\theta}, \\theta_0, \\bs{\\lambda}) = \\min_{\\bs{\\theta}, \\theta_0} \\left( \\frac{1}{2}||\\bs{\\theta}||^2 + \\sum_{i=1}^n \\lambda_i \\left(1-y^{(i)}((\\bs{x}^{(i)})^\\top\\bs{\\theta}+\\theta_0)\\right)\\right)$$\n",
    "This objective is quadratic in $\\bs{\\theta}$; hence it has a single minimum in $\\bs{\\theta}$."
   ]
  },
  {
   "cell_type": "markdown",
   "metadata": {
    "slideshow": {
     "slide_type": "fragment"
    }
   },
   "source": [
    "We can find it by setting the derivative to zero and solving for $\\bs{\\theta}, \\theta_0$. This yields:\n",
    "\\begin{align*}\n",
    "\\bs{\\theta} & = \\sum_{i=1}^n \\lambda_i y^{(i)} \\bs{x}^{(i)} \\\\\n",
    "0 & = \\sum_{i=1}^n \\lambda_i y^{(i)}\n",
    "\\end{align*}"
   ]
  },
  {
   "cell_type": "markdown",
   "metadata": {
    "slideshow": {
     "slide_type": "skip"
    }
   },
   "source": [
    "Substituting this into the Langrangian we obtain:\n",
    "\\begin{align*}\n",
    "L(\\lambda) = \\max_{\\bs{\\theta}, \\theta_0} L(\\bs{\\theta}, \\theta_0, \\bs{\\lambda}) & = \\sum_{i=1}^n \\lambda_i - \\frac{1}{2} \\sum_{i=1}^n \\sum_{k=1}^n \\lambda_i \\lambda_k y^{(i)} y^{(k)} (\\bs{x}^{(i)})^\\top \\bs{x}^{(k)}\n",
    "\\end{align*}\n",
    "as well as $0  = \\sum_{i=1}^n \\lambda_i y^{(i)}$ and $\\lambda_i \\geq 0$ for all $i$."
   ]
  },
  {
   "cell_type": "markdown",
   "metadata": {
    "slideshow": {
     "slide_type": "subslide"
    }
   },
   "source": [
    "Substituting this into the Langrangian we obtain the following expression for the dual $\\max_{\\lambda\\geq 0} \\mathcal{D}(\\lambda) = \\max_{\\lambda\\geq 0} \\min_{\\bs{\\theta}, \\theta_0} L(\\bs{\\theta}, \\theta_0, \\lambda)$:\n",
    "\\begin{align*}\n",
    "\\max_{\\lambda} & \\sum_{i=1}^n \\lambda_i - \\frac{1}{2} \\sum_{i=1}^n \\sum_{k=1}^n \\lambda_i \\lambda_k y^{(i)} y^{(k)} (\\bs{x}^{(i)})^\\top \\bs{x}^{(k)}  \\\\\n",
    "\\text{subject to } \\; & \\sum_{i=1}^n \\lambda_i y^{(i)} = 0 \\\\\n",
    "& \\lambda_i \\geq 0 \\; \\text{for all $i$}\n",
    "\\end{align*}\n"
   ]
  },
  {
   "cell_type": "markdown",
   "metadata": {
    "slideshow": {
     "slide_type": "slide"
    }
   },
   "source": [
    "# Lagrange Duality in SVMs\n",
    "\n",
    "Recall that in general, we have:\n",
    "$$ \\max_{\\lambda \\geq 0}\\mathcal{D}(\\lambda) = \\max_{\\lambda \\geq 0} \\min_{\\bs{\\theta} \\in \\mathbb{R}^d} \\leq \\min_{\\bs{\\theta} \\in \\mathbb{R}^d} \\max_{\\lambda \\geq 0} \\mathcal{L}(\\bs{\\theta}, \\lambda) = \\min_{\\bs{\\theta} \\in \\mathbb{R}^d} \\mathcal{P}(\\bs{\\theta})$$\n"
   ]
  },
  {
   "cell_type": "markdown",
   "metadata": {
    "slideshow": {
     "slide_type": "fragment"
    }
   },
   "source": [
    "In the case of the SVM problem, one can show that\n",
    "$$ \\max_{\\lambda \\geq 0}\\mathcal{D}(\\lambda) = \\min_{\\bs{\\theta} \\in \\mathbb{R}^d} \\mathcal{P}(\\bs{\\theta}).$$\n",
    "Thus, the primal and the dual are equivalent!"
   ]
  },
  {
   "cell_type": "markdown",
   "metadata": {
    "slideshow": {
     "slide_type": "slide"
    }
   },
   "source": [
    "# Properties of the Dual\n",
    "\n",
    "We can make several observations about the dual\n",
    "\\begin{align*}\n",
    "\\max_{\\lambda} & \\sum_{i=1}^n \\lambda_i - \\frac{1}{2} \\sum_{i=1}^n \\sum_{k=1}^n \\lambda_i \\lambda_k y^{(i)} y^{(k)} (\\bs{x}^{(i)})^\\top \\bs{x}^{(k)}  \\\\\n",
    "\\text{subject to } \\; & \\sum_{i=1}^n \\lambda_i y^{(i)} = 0 \\;\\text{and}\\; \\lambda_i \\geq 0 \\; \\text{for all $i$}\n",
    "\\end{align*}\n",
    "\n",
    "* This is a constrainted quadratic optimization problem.\n",
    "* The number of variables $\\lambda_i$ equals $n$, the number of data points.\n",
    "* Objective only depends on products $(\\bs{x}^{(i)})^\\top \\bs{x}^{(j)}$ (more on this soon!)"
   ]
  },
  {
   "cell_type": "markdown",
   "metadata": {
    "slideshow": {
     "slide_type": "slide"
    }
   },
   "source": [
    "# When to Solve the Dual\n",
    "\n",
    "When should we be solving the dual or the primal?\n",
    "* The dimensionality of the primal depends on the number of features. If we have a few features and many datapoints, we should use the primal.\n",
    "* Conversely, if we have a lot of features, but less datapoints, we want to use the dual.\n",
    "\n",
    "In the next lecture, we will see how we can use this property to solve machine learning problems with a very large number of features (even possibly infinite!)."
   ]
  },
  {
   "cell_type": "markdown",
   "metadata": {
    "slideshow": {
     "slide_type": "slide"
    }
   },
   "source": [
    "\n",
    "# Part 3: Practical Considerations for SVM Duals\n",
    "\n",
    "We continue our discussion of the dual formulation of the SVM with additional practical details about the dual formulation is defined an used."
   ]
  },
  {
   "cell_type": "markdown",
   "metadata": {
    "slideshow": {
     "slide_type": "slide"
    }
   },
   "source": [
    "# Review: Binary Classification\n",
    "\n",
    "Consider a training dataset $\\mathcal{D} = \\{(\\bs{x}^{(1)}, y^{(1)}), (\\bs{x}^{(2)}, y^{(2)}), \\ldots, (\\bs{x}^{(n)}, y^{(n)})\\}$.\n",
    "\n",
    "We distinguish between two types of supervised learning problems depnding on the targets $y^{(i)}$. \n",
    "\n",
    "1. __Regression__: The target variable $y \\in \\mathcal{Y}$ is continuous:  $\\mathcal{Y} \\subseteq \\mathbb{R}$.\n",
    "2. __Binary Classification__: The target variable $y$ is discrete and takes on one of $K=2$ possible values.\n",
    "\n",
    "In this lecture, we assume $\\mathcal{Y} = \\{-1, +1\\}$."
   ]
  },
  {
   "cell_type": "markdown",
   "metadata": {
    "slideshow": {
     "slide_type": "slide"
    }
   },
   "source": [
    "# Review: Primal and Dual Formulations\n",
    "\n",
    "Recall that the the max-margin hyperplane can be formualted as the solution to the following {\\it{primal}} optimization problem.\n",
    "\\begin{align*}\n",
    "\\min_{\\bs{\\theta},\\theta_0} \\frac{1}{2}||\\bs{\\theta}||^2 \\; &  \\\\\n",
    "\\text{subject to } \\; & y^{(i)}((\\bs{x}^{(i)})^\\top\\bs{\\theta}+\\theta_0)\\geq 1 \\; \\text{for all $i$}\n",
    "\\end{align*}\n"
   ]
  },
  {
   "cell_type": "markdown",
   "metadata": {
    "slideshow": {
     "slide_type": "subslide"
    }
   },
   "source": [
    "The solution to this problem also happens to be given by the following {\\it{dual}} problem:\n",
    "\\begin{align*}\n",
    "\\max_{\\lambda} & \\sum_{i=1}^n \\lambda_i - \\frac{1}{2} \\sum_{i=1}^n \\sum_{k=1}^n \\lambda_i \\lambda_k y^{(i)} y^{(k)} (\\bs{x}^{(i)})^\\top \\bs{x}^{(k)}  \\\\\n",
    "\\text{subject to } \\; & \\sum_{i=1}^n \\lambda_i y^{(i)} = 0 \\\\\n",
    "& \\lambda_i \\geq 0 \\; \\text{for all $i$}\n",
    "\\end{align*}"
   ]
  },
  {
   "cell_type": "markdown",
   "metadata": {
    "slideshow": {
     "slide_type": "slide"
    }
   },
   "source": [
    "# Review: Non-Separable Problems\n",
    "\n",
    "Our dual problem assumes that a linear hyperplane exists. However, what if the classes are non-separable? Then our optimization problem does not have a solution and we need to modify it."
   ]
  },
  {
   "cell_type": "markdown",
   "metadata": {
    "slideshow": {
     "slide_type": "fragment"
    }
   },
   "source": [
    "Our solution is going to be to make each constraint \"soft\", by introducing \"slack\" variables, which allow the constraint to be violated.\n",
    "$$\n",
    "y^{(i)}((\\bs{x}^{(i)})^\\top\\bs{\\theta}+\\theta_0)\\geq 1 - \\xi_i.\n",
    "$$"
   ]
  },
  {
   "cell_type": "markdown",
   "metadata": {
    "slideshow": {
     "slide_type": "subslide"
    }
   },
   "source": [
    "In the optimization problem, we assign a penalty $C$ to these slack variables to obtain:\n",
    "\\begin{align*}\n",
    "\\min_{\\bs{\\theta},\\theta_0, \\xi}\\; & \\frac{1}{2}||\\bs{\\theta}||^2 + C \\sum_{i=1}^n \\xi_i \\;  \\\\\n",
    "\\text{subject to } \\; & y^{(i)}((\\bs{x}^{(i)})^\\top\\bs{\\theta}+\\theta_0)\\geq 1 - \\xi_i \\; \\text{for all $i$} \\\\\n",
    "& \\xi_i \\geq 0\n",
    "\\end{align*}\n",
    "\n",
    "\n",
    "This is the primal problem. Let's now form its dual."
   ]
  },
  {
   "cell_type": "markdown",
   "metadata": {
    "slideshow": {
     "slide_type": "slide"
    }
   },
   "source": [
    "# Non-Separable Dual\n",
    "\n",
    "We can also formulate the dual to this problem. First, the Lagrangian $L(\\lambda, \\mu,\\theta,\\theta_0)$ equals\n",
    "\\begin{align*}\n",
    "\\frac{1}{2}||\\bs{\\theta}||^2 + C \\sum_{i=1}^n \\xi_i - \\sum_{i=1}^n \\lambda_i \\left(y^{(i)}((\\bs{x}^{(i)})^\\top\\bs{\\theta}+\\theta_0)- 1\\right) - \\sum_{i=1}^n \\mu_i\\xi_i.\n",
    "\\end{align*}\n",
    "\n",
    "\n",
    "The dual objective of this problem will equal \n",
    "$$\\mathcal{D}(\\lambda, \\mu) = \\min_{\\bs{\\theta},\\theta_0} L(\\lambda, \\mu,\\bs{\\theta},\\theta_0).$$"
   ]
  },
  {
   "cell_type": "markdown",
   "metadata": {
    "slideshow": {
     "slide_type": "subslide"
    }
   },
   "source": [
    "As earlier, we can solve for the optimal $\\theta, \\theta_0$ in closed form and plug back the resulting values into the objective. \n",
    "\n",
    "We can then show that the dual takes the following form:\n",
    "\\begin{align*}\n",
    "\\max_{\\lambda} & \\sum_{i=1}^n \\lambda_i - \\frac{1}{2} \\sum_{i=1}^n \\sum_{k=1}^n \\lambda_i \\lambda_k y^{(i)} y^{(k)} (\\bs{x}^{(i)})^\\top \\bs{x}^{(k)}  \\\\\n",
    "\\text{subject to } \\; & \\sum_{i=1}^n \\lambda_i y^{(i)} = 0 \\\\\n",
    "& C \\geq \\lambda_i \\geq 0 \\; \\text{for all $i$}\n",
    "\\end{align*}"
   ]
  },
  {
   "cell_type": "markdown",
   "metadata": {
    "slideshow": {
     "slide_type": "slide"
    }
   },
   "source": [
    "# Coordinate Descent\n",
    "\n",
    "Coordinate descent is a general way to optimize functions $f(x)$ of multiple variables $x \\in \\mathbb{R}^d$:\n",
    "\n",
    "1. Choose a dimension $j \\in \\{1,2,\\ldots,d\\}$.\n",
    "2. Optimize $f(x_1, x_2, \\ldots, x_j, \\ldots, x_d)$ over $x_j$ while keeping the other variables fixed."
   ]
  },
  {
   "cell_type": "markdown",
   "metadata": {
    "slideshow": {
     "slide_type": "subslide"
    }
   },
   "source": [
    "Here, we visualize coordinate descent applied to a 2D quadratic function.\n",
    "<center><img width=50% src=\"img/coordinate_descent.png\"></center>\n",
    "The red line shows the trajectory of coordinate descent. Each \"step\" in the trajectory is an iteration of the algorithm. Image from Wikipedia."
   ]
  },
  {
   "cell_type": "markdown",
   "metadata": {
    "slideshow": {
     "slide_type": "slide"
    }
   },
   "source": [
    "# Sequential Minimal Optimization\n",
    "\n",
    "We can apply a form of coordinate descent to solve the dual:\n",
    "\\begin{align*}\n",
    "\\max_{\\lambda} & \\sum_{i=1}^n \\lambda_i - \\frac{1}{2} \\sum_{i=1}^n \\sum_{k=1}^n \\lambda_i \\lambda_k y^{(i)} y^{(k)} (\\bs{x}^{(i)})^\\top \\bs{x}^{(k)}  \\\\\n",
    "\\text{subject to } \\; & \\sum_{i=1}^n \\lambda_i y^{(i)} = 0 \\;\\text{and}\\; C \\geq \\lambda_i \\geq 0 \\; \\text{for all $i$}\n",
    "\\end{align*}"
   ]
  },
  {
   "cell_type": "markdown",
   "metadata": {
    "slideshow": {
     "slide_type": "fragment"
    }
   },
   "source": [
    "A popular, efficient algorithm is Sequential Minimal Optimization (SMO):\n",
    "* Take a pair $\\lambda_i, \\lambda_j$, possibly using heuristics to guide choice of $i,j$.\n",
    "* Reoptimize over $\\lambda_i, \\lambda_j$ while keeping the other variables fixed.\n",
    "* Repeat the above until convergence."
   ]
  },
  {
   "cell_type": "markdown",
   "metadata": {
    "slideshow": {
     "slide_type": "slide"
    }
   },
   "source": [
    "# Obtaining a Primal Solution from the Dual\n",
    "\n",
    "Next, assuming we can solve the dual, how do we find a separating hyperplane $\\theta, \\theta_0$?"
   ]
  },
  {
   "cell_type": "markdown",
   "metadata": {
    "slideshow": {
     "slide_type": "fragment"
    }
   },
   "source": [
    "Recall that we already found an expression for the optimal $\\bs{\\theta}^*$ (in the separable case) as a function of $$\n",
    "\\bs{\\theta}^* = \\sum_{i=1}^n \\lambda_i y^{(i)} \\bs{x}^{(i)}.\n",
    "$$\n"
   ]
  },
  {
   "cell_type": "markdown",
   "metadata": {
    "slideshow": {
     "slide_type": "subslide"
    }
   },
   "source": [
    "Once we know $\\bs{\\theta}^*$ it easy to check that the solution to $\\theta_0$ is given by\n",
    "$$\n",
    "\\theta_0^* = -\\frac{\\max_{i:y^{(i)}=-1} (\\bs{\\theta}^*)^\\top \\bs{x}^{(i)} + \\min_{i:y^{(i)}=-1} (\\bs{\\theta}^*)^\\top \\bs{x}^{(i)}}{2}.\n",
    "$$"
   ]
  },
  {
   "cell_type": "markdown",
   "metadata": {
    "slideshow": {
     "slide_type": "slide"
    }
   },
   "source": [
    "# Support Vectors\n",
    "\n",
    "A powerful property of the SVM dual is that at the optimum, most variables $\\lambda_i$ are zero! Thus, $\\bs{\\theta}$ is a sum of a small number of points:\n",
    "$$\n",
    "\\bs{\\theta}^* = \\sum_{i=1}^n \\lambda_i y^{(i)} \\bs{x}^{(i)}.\n",
    "$$\n",
    "\n",
    "The points for which $\\lambda_i > 0$ are precisely the points that lie on the margin (are closest to the hyperplane). \n",
    "\n",
    "These are called *support vectors*."
   ]
  },
  {
   "cell_type": "markdown",
   "metadata": {
    "slideshow": {
     "slide_type": "slide"
    }
   },
   "source": [
    "# Notation and The Iris Dataset\n",
    "\n",
    "To demonstrate how to use the dual version of the SVM, we are going to again use the Iris flower dataset.\n",
    "\n",
    "We will look at the binary classificaiton version of this dataset."
   ]
  },
  {
   "cell_type": "code",
   "execution_count": 2,
   "metadata": {
    "slideshow": {
     "slide_type": "subslide"
    }
   },
   "outputs": [
    {
     "data": {
      "text/html": [
       "<div>\n",
       "<style scoped>\n",
       "    .dataframe tbody tr th:only-of-type {\n",
       "        vertical-align: middle;\n",
       "    }\n",
       "\n",
       "    .dataframe tbody tr th {\n",
       "        vertical-align: top;\n",
       "    }\n",
       "\n",
       "    .dataframe thead th {\n",
       "        text-align: right;\n",
       "    }\n",
       "</style>\n",
       "<table border=\"1\" class=\"dataframe\">\n",
       "  <thead>\n",
       "    <tr style=\"text-align: right;\">\n",
       "      <th></th>\n",
       "      <th>sepal length (cm)</th>\n",
       "      <th>sepal width (cm)</th>\n",
       "      <th>petal length (cm)</th>\n",
       "      <th>petal width (cm)</th>\n",
       "      <th>target</th>\n",
       "    </tr>\n",
       "  </thead>\n",
       "  <tbody>\n",
       "    <tr>\n",
       "      <th>0</th>\n",
       "      <td>5.1</td>\n",
       "      <td>3.5</td>\n",
       "      <td>1.4</td>\n",
       "      <td>0.2</td>\n",
       "      <td>-1</td>\n",
       "    </tr>\n",
       "    <tr>\n",
       "      <th>4</th>\n",
       "      <td>5.0</td>\n",
       "      <td>3.6</td>\n",
       "      <td>1.4</td>\n",
       "      <td>0.2</td>\n",
       "      <td>-1</td>\n",
       "    </tr>\n",
       "    <tr>\n",
       "      <th>8</th>\n",
       "      <td>4.4</td>\n",
       "      <td>2.9</td>\n",
       "      <td>1.4</td>\n",
       "      <td>0.2</td>\n",
       "      <td>-1</td>\n",
       "    </tr>\n",
       "    <tr>\n",
       "      <th>12</th>\n",
       "      <td>4.8</td>\n",
       "      <td>3.0</td>\n",
       "      <td>1.4</td>\n",
       "      <td>0.1</td>\n",
       "      <td>-1</td>\n",
       "    </tr>\n",
       "    <tr>\n",
       "      <th>16</th>\n",
       "      <td>5.4</td>\n",
       "      <td>3.9</td>\n",
       "      <td>1.3</td>\n",
       "      <td>0.4</td>\n",
       "      <td>-1</td>\n",
       "    </tr>\n",
       "  </tbody>\n",
       "</table>\n",
       "</div>"
      ],
      "text/plain": [
       "    sepal length (cm)  sepal width (cm)  petal length (cm)  petal width (cm)  \\\n",
       "0                 5.1               3.5                1.4               0.2   \n",
       "4                 5.0               3.6                1.4               0.2   \n",
       "8                 4.4               2.9                1.4               0.2   \n",
       "12                4.8               3.0                1.4               0.1   \n",
       "16                5.4               3.9                1.3               0.4   \n",
       "\n",
       "    target  \n",
       "0       -1  \n",
       "4       -1  \n",
       "8       -1  \n",
       "12      -1  \n",
       "16      -1  "
      ]
     },
     "execution_count": 2,
     "metadata": {},
     "output_type": "execute_result"
    }
   ],
   "source": [
    "import numpy as np\n",
    "import pandas as pd\n",
    "from sklearn import datasets\n",
    "\n",
    "# Load the Iris dataset\n",
    "iris = datasets.load_iris(as_frame=True)\n",
    "iris_X, iris_y = iris.data, iris.target\n",
    "\n",
    "# subsample to a third of the data points\n",
    "iris_X = iris_X.loc[::4]\n",
    "iris_y = iris_y.loc[::4]\n",
    "\n",
    "# create a binary classification dataset with labels +/- 1\n",
    "iris_y2 = iris_y.copy()\n",
    "iris_y2[iris_y2==2] = 1\n",
    "iris_y2[iris_y2==0] = -1\n",
    "\n",
    "# print part of the dataset\n",
    "pd.concat([iris_X, iris_y2], axis=1).head()"
   ]
  },
  {
   "cell_type": "markdown",
   "metadata": {
    "slideshow": {
     "slide_type": "subslide"
    }
   },
   "source": [
    "Let's visualize this dataset."
   ]
  },
  {
   "cell_type": "code",
   "execution_count": 3,
   "metadata": {
    "slideshow": {
     "slide_type": "fragment"
    }
   },
   "outputs": [
    {
     "data": {
      "text/plain": [
       "<matplotlib.legend.Legend at 0x120be94e0>"
      ]
     },
     "execution_count": 3,
     "metadata": {},
     "output_type": "execute_result"
    },
    {
     "data": {
      "image/png": "[encoded data removed]",
      "text/plain": [
       "<Figure size 864x288 with 1 Axes>"
      ]
     },
     "metadata": {
      "needs_background": "light"
     },
     "output_type": "display_data"
    }
   ],
   "source": [
    "# https://scikit-learn.org/stable/auto_examples/neighbors/plot_classification.html\n",
    "%matplotlib inline\n",
    "import matplotlib.pyplot as plt\n",
    "plt.rcParams['figure.figsize'] = [12, 4]\n",
    "import warnings\n",
    "warnings.filterwarnings(\"ignore\")\n",
    "\n",
    "# create 2d version of dataset and subsample it\n",
    "X = iris_X.to_numpy()[:,:2]\n",
    "x_min, x_max = X[:, 0].min() - .5, X[:, 0].max() + .5\n",
    "y_min, y_max = X[:, 1].min() - .5, X[:, 1].max() + .5\n",
    "xx, yy = np.meshgrid(np.arange(x_min, x_max, .02), np.arange(y_min, y_max, .02))\n",
    "\n",
    "# Plot also the training points\n",
    "p1 = plt.scatter(X[:, 0], X[:, 1], c=iris_y2, s=60, cmap=plt.cm.Paired)\n",
    "plt.xlabel('Petal Length')\n",
    "plt.ylabel('Petal Width')\n",
    "plt.legend(handles=p1.legend_elements()[0], labels=['Setosa', 'Not Setosa'], loc='lower right')"
   ]
  },
  {
   "cell_type": "markdown",
   "metadata": {
    "slideshow": {
     "slide_type": "subslide"
    }
   },
   "source": [
    "We can run the dual version of the SVM by importing an implementation from `sklearn`:"
   ]
  },
  {
   "cell_type": "code",
   "execution_count": 5,
   "metadata": {
    "slideshow": {
     "slide_type": "fragment"
    }
   },
   "outputs": [
    {
     "data": {
      "image/png": "[encoded data removed]",
      "text/plain": [
       "<Figure size 864x288 with 1 Axes>"
      ]
     },
     "metadata": {
      "needs_background": "light"
     },
     "output_type": "display_data"
    }
   ],
   "source": [
    "#https://scikit-learn.org/stable/auto_examples/svm/plot_separating_hyperplane.html\n",
    "from sklearn import svm\n",
    "\n",
    "# fit the model, don't regularize for illustration purposes\n",
    "clf = svm.SVC(kernel='linear', C=1000) # this optimizes the dual\n",
    "# clf = svm.LinearSVC() # this optimizes for the primal\n",
    "clf.fit(X, iris_y2)\n",
    "\n",
    "plt.scatter(X[:, 0], X[:, 1], c=iris_y2, s=30, cmap=plt.cm.Paired)\n",
    "Z = clf.decision_function(np.c_[xx.ravel(), yy.ravel()]).reshape(xx.shape)\n",
    "\n",
    "# plot decision boundary and margins\n",
    "plt.contour(xx, yy, Z, colors='k', levels=[-1, 0, 1], alpha=0.5,\n",
    "           linestyles=['--', '-', '--'])\n",
    "plt.scatter(clf.support_vectors_[:, 0], clf.support_vectors_[:, 1], s=100,\n",
    "           linewidth=1, facecolors='none', edgecolors='k')\n",
    "plt.xlim([4.6, 6])\n",
    "plt.ylim([2.25, 4])\n",
    "plt.show()"
   ]
  },
  {
   "cell_type": "markdown",
   "metadata": {
    "slideshow": {
     "slide_type": "slide"
    }
   },
   "source": [
    "# Algorithm: Support Vector Machine Classification (Dual Form)\n",
    "\n",
    "* __Type__: Supervised learning (binary classification)\n",
    "* __Model family__: Linear decision boundaries.\n",
    "* __Objective function__: Dual of SVM optimization problem.\n",
    "* __Optimizer__: Sequential minimial optimization.\n",
    "* __Probabilistic interpretation__: No simple interpretation!"
   ]
  }
 ],
 "metadata": {
  "accelerator": "GPU",
  "celltoolbar": "Slideshow",
  "colab": {
   "collapsed_sections": [],
   "name": "neural-ode.ipynb",
   "provenance": []
  },
  "kernelspec": {
   "display_name": "Python 3 (ipykernel)",
   "language": "python",
   "name": "python3"
  },
  "language_info": {
   "codemirror_mode": {
    "name": "ipython",
    "version": 3
   },
   "file_extension": ".py",
   "mimetype": "text/x-python",
   "name": "python",
   "nbconvert_exporter": "python",
   "pygments_lexer": "ipython3",
   "version": "3.8.8"
  },
  "rise": {
   "controlsTutorial": false,
   "height": 900,
   "help": false,
   "margin": 0,
   "maxScale": 2,
   "minScale": 0.2,
   "progress": true,
   "scroll": true,
   "theme": "simple",
   "width": 1200
  },
  "vscode": {
   "interpreter": {
    "hash": "21be62648f8e3839c3b4ce05d43053c0ccba5ecc90dec2be15f843391ed2568c"
   }
  }
 },
 "nbformat": 4,
 "nbformat_minor": 1
}
