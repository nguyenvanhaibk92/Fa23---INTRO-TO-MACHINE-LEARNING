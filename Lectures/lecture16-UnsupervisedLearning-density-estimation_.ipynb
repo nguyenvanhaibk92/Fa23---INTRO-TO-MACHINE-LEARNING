{
 "cells": [
  {
   "cell_type": "markdown",
   "metadata": {
    "colab_type": "text",
    "id": "i_f5u2x9nn6I",
    "slideshow": {
     "slide_type": "slide"
    }
   },
   "source": [
    "# Lecture 16: Density Estimation\n",
    "\n",
    "Adapted from Applied Machine Learning Lecture Notes of Volodymyr Kuleshov, Cornel Tech\n",
    "\n",
    "__Instructor Tan Bui__"
   ]
  },
  {
   "cell_type": "markdown",
   "metadata": {
    "slideshow": {
     "slide_type": "slide"
    }
   },
   "source": [
    "# Part 1: Unsupervised Probabilistic Models\n",
    "\n",
    "Density estimation is the problem of estimating a probability distribution from data.\n",
    "\n",
    "As a first step, we will introduce probabilistic models for unsupervised learning."
   ]
  },
  {
   "cell_type": "markdown",
   "metadata": {
    "slideshow": {
     "slide_type": "slide"
    }
   },
   "source": [
    "# Review: Unsupervised Learning\n",
    "\n",
    "We have a dataset *without* labels. Our goal is to learn something interesting about the structure of the data:\n",
    "* Clusters hidden in the dataset.\n",
    "* Outliers: particularly unusual and/or interesting datapoints.\n",
    "* Useful signal hidden in noise, e.g. human speech over a noisy phone."
   ]
  },
  {
   "cell_type": "markdown",
   "metadata": {
    "slideshow": {
     "slide_type": "skip"
    }
   },
   "source": [
    "# Components of an Unsupervised Learning Problem\n",
    "\n",
    "At a high level, an unsupervised machine learning problem has the following structure:\n",
    "\n",
    "$$ \\underbrace{\\text{Dataset}}_\\text{Attributes} + \\underbrace{\\text{Learning Algorithm}}_\\text{Model Class + Objective + Optimizer } \\to \\text{Unsupervised Model} $$\n",
    "\n",
    "The unsupervised model describes interesting structure in the data. For instance, it can identify interesting hidden clusters."
   ]
  },
  {
   "cell_type": "markdown",
   "metadata": {
    "slideshow": {
     "slide_type": "slide"
    }
   },
   "source": [
    "# Review: Data Distribution\n",
    "\n",
    "We will assume that the dataset is sampled from a probability distribution $P_\\text{data}$, which we will call the *data distribution*. We will denote this as\n",
    "$$x \\sim P_\\text{data}.$$\n",
    "\n",
    "The dataset $\\mathcal{D} = \\{x^{(i)} \\mid i = 1,2,...,n\\}$ consists of *independent and identicaly distributed* (IID) samples from $P_\\text{data}$."
   ]
  },
  {
   "cell_type": "markdown",
   "metadata": {
    "slideshow": {
     "slide_type": "slide"
    }
   },
   "source": [
    "# Review: Unsupervised Models\n",
    "\n",
    "We'll say that a model is a function\n",
    "$$ f : \\mathcal{X} \\to \\mathcal{S} $$\n",
    "that maps inputs $x \\in \\mathcal{X}$ to some notion of structure $s \\in \\mathcal{S}$.\n",
    "\n",
    "Structure can have many definitions (clusters, low-dimensional representations, etc.), and we will see many examples."
   ]
  },
  {
   "cell_type": "markdown",
   "metadata": {
    "slideshow": {
     "slide_type": "fragment"
    }
   },
   "source": [
    "Often, models have *parameters* $\\theta \\in \\Theta$ living in a set $\\Theta$. We will then write the model as\n",
    "$$ f_\\theta : \\mathcal{X} \\to \\mathcal{S} $$\n",
    "to denote that it's parametrized by $\\theta$."
   ]
  },
  {
   "cell_type": "markdown",
   "metadata": {
    "slideshow": {
     "slide_type": "slide"
    }
   },
   "source": [
    "# Unsupervised Probabilistic Models\n",
    "\n",
    "An unsupervised probabilistic model is a probability distribution\n",
    "$$P(x) : \\mathcal{X} \\to [0,1].$$\n",
    "This model can approximate the data distribution $P_\\text{data}$."
   ]
  },
  {
   "cell_type": "markdown",
   "metadata": {
    "slideshow": {
     "slide_type": "fragment"
    }
   },
   "source": [
    "Probabilistic models also have *parameters* $\\theta \\in \\Theta$, which we denote as\n",
    "$$P_\\theta(x) : \\mathcal{X} \\to [0,1].$$"
   ]
  },
  {
   "cell_type": "markdown",
   "metadata": {
    "slideshow": {
     "slide_type": "slide"
    }
   },
   "source": [
    "# Why Use Probabilistic Models?\n",
    "\n",
    "There are many tasks that we can solve with a good model $P_\\theta$.\n",
    "1. Generation: sample new objects from $P_\\theta$, such as images.\n",
    "2. Representation learning: find interesting structure in $P_\\text{data}$\n",
    "3. Density estimation: approximate $P_\\theta \\approx P_\\text{data}$ and use it to solve any downstream task (generation, clustering, outlier detection, etc.).\n",
    "\n",
    "We are going to be interested in the latter."
   ]
  },
  {
   "cell_type": "markdown",
   "metadata": {
    "slideshow": {
     "slide_type": "slide"
    }
   },
   "source": [
    "# Kullback-Leibler Divergence\n",
    "\n",
    "In order to approximate $P_\\text{data}$ with $P_\\theta$, we need a measure of distance between distributions."
   ]
  },
  {
   "cell_type": "markdown",
   "metadata": {
    "slideshow": {
     "slide_type": "fragment"
    }
   },
   "source": [
    "A standard measure of similarity between distributions is the *Kullback-Leibler (KL) divergence* between two distributions $p$ and $q$, defined as\n",
    "$$\n",
    "D(p \\| q) = \\sum_{{\\bf x}} p({\\bf x}) \\log \\frac{p({\\bf x})}{q({\\bf x})}.\n",
    "$$"
   ]
  },
  {
   "cell_type": "markdown",
   "metadata": {
    "slideshow": {
     "slide_type": "subslide"
    }
   },
   "source": [
    "#### Observations:\n",
    "* $D(p \\, \\| \\, q) \\geq 0$ for all $p, q$, with equality if and only if $p= q$. Proof:\n",
    "\n",
    "\\begin{align*}\n",
    "\tD(p \\| q) = \\mathbb{E}_{x\\sim p}{-\\log \\frac{q({\\bf x})}{p({\\bf x})}} & \\geq -\\log \\left( \\mathbb{E}_{x\\sim p} {\\frac{q({\\bf x})}{p({\\bf x})}} \\right) \\\\ = &\n",
    "\t-\\log \\left( \\sum_{{\\bf x}} p({\\bf x}) \\frac{q({\\bf x})}{p({\\bf x})} \\right)\n",
    "\t=\n",
    "\t0\n",
    "\\end{align*}\n",
    "where in the first line we used [Jensen's inequality](https://en.wikipedia.org/wiki/Jensen%27s_inequality)"
   ]
  },
  {
   "cell_type": "markdown",
   "metadata": {
    "slideshow": {
     "slide_type": "fragment"
    }
   },
   "source": [
    "* The KL-divergence is *asymmetric*, i.e., $D(p \\| q) \\neq D(q \\| p)$"
   ]
  },
  {
   "cell_type": "markdown",
   "metadata": {
    "slideshow": {
     "slide_type": "skip"
    }
   },
   "source": [
    "# Learning Models Using KL Divergence\n",
    "\n",
    "We may now learn a probabilistic model $P_\\theta(x)$ that approximates $P_\\text{data}(x)$ via the KL divergence:\n",
    "\\begin{align*}\n",
    "D(P_{\\textrm{data}} \\mid \\mid {P_\\theta}) & = \\mathbb{E}_{x \\sim P_{\\textrm{data}}}{\\log\\left(\n",
    "\\frac{P_{\\textrm{data}}(x)}{P_\\theta(x)}\n",
    "\\right)} \\\\ & = \\sum_{{x}} P_{\\textrm{data}}({x}) \\log \\frac{P_{\\textrm{data}}({x})}{P_\\theta(x)}\n",
    "\\end{align*}\n",
    "\n",
    "Note that $D(P_{\\textrm{data}} \\mid \\mid {P_\\theta})=0$ iff the two distributions are the same."
   ]
  },
  {
   "cell_type": "markdown",
   "metadata": {},
   "source": [
    "$\\newcommand{\\x}{x} $\n",
    "$\\newcommand{\\ex}[2]{\\mathbb{E}_{#1 \\sim #2}}$\n",
    "$\\newcommand{\\en}[2]{D(#1 \\mid \\mid #2)}$\n",
    "\n"
   ]
  },
  {
   "cell_type": "markdown",
   "metadata": {},
   "source": [
    "$\\renewcommand{\\x}{x} $\n",
    "$\\renewcommand{\\ex}[2]{\\mathbb{E}_{#1 \\sim #2}}$\n",
    "$\\renewcommand{\\en}[2]{D(#1 \\mid \\mid #2)}$"
   ]
  },
  {
   "cell_type": "markdown",
   "metadata": {
    "slideshow": {
     "slide_type": "slide"
    }
   },
   "source": [
    "# From KL Divergence to Log Likelihood\n",
    "\n",
    "We can learn $P_\\theta$ that approximates $P_\\text{data}$ by minimizing $D(P_{\\textrm{data}} \\mid \\mid {P_\\theta})$. This objective further simplifies as:\n",
    "\n",
    "\\begin{align*}\n",
    "\\en{P_{\\textrm{data}}}{P_\\theta} &=& \\ex{\\x}{P_{\\textrm{data}}}{\\log\\left(\n",
    "\\frac{P_{\\textrm{data}}(\\x)}{P_\\theta(\\x)}\n",
    "\\right)} \\\\\n",
    "&=& \n",
    "%-\\bH(P_{\\textrm{data}}) \n",
    "\\ex{\\x}{P_{\\textrm{data}}}{\\log P_{\\textrm{data}}(\\x)}\n",
    "- \\ex{\\x}{P_{\\textrm{data}}}{\\log P_\\theta(\\x)}\n",
    "\\end{align*}\n"
   ]
  },
  {
   "cell_type": "markdown",
   "metadata": {
    "slideshow": {
     "slide_type": "subslide"
    }
   },
   "source": [
    "The first term does not depend on $P_\\theta$: minimizing KL divergence is equivalent to maximizing the expected log-likelihood.\n",
    "\\begin{align*}\n",
    "\\arg\\min_{P_\\theta} \\en{P_{\\textrm{data}}}{P_\\theta} & = \\arg\\min_{P_\\theta} - \\ex{\\x}{P_{\\textrm{data}}}{\\log P_\\theta(\\x)} \\\\ & = \\arg\\max_{P_\\theta} \\ex{\\x}{P_{\\textrm{data}}}{\\log P_\\theta(\\x)}\n",
    "\\end{align*}"
   ]
  },
  {
   "cell_type": "markdown",
   "metadata": {
    "slideshow": {
     "slide_type": "fragment"
    }
   },
   "source": [
    "* This asks that $P_\\theta$ assign high probability to instances sampled from $P_{\\textrm{data}}$, so as to reflect the true distribution."
   ]
  },
  {
   "cell_type": "markdown",
   "metadata": {
    "slideshow": {
     "slide_type": "skip"
    }
   },
   "source": [
    "* Because of $\\log$, samples $\\x$ where $P_\\theta(\\x) \\approx 0$ weigh heavily in the objective.\n"
   ]
  },
  {
   "cell_type": "markdown",
   "metadata": {
    "slideshow": {
     "slide_type": "fragment"
    }
   },
   "source": [
    "Problem: In general we do not know $P_{\\textrm{data}}$, hence expected value is intractable."
   ]
  },
  {
   "cell_type": "markdown",
   "metadata": {},
   "source": [
    "$\\newcommand{\\exd}[2]{\\mathbb{E}_{#1 \\sim #2}}$\n",
    "$\\newcommand{\\cd}{\\mathcal{D}}$\n",
    "\n",
    "$\\renewcommand{\\exd}[2]{\\mathbb{E}_{#1 \\sim #2}}$\n",
    "$\\renewcommand{\\cd}{\\mathcal{D}}$"
   ]
  },
  {
   "cell_type": "markdown",
   "metadata": {
    "slideshow": {
     "slide_type": "slide"
    }
   },
   "source": [
    "# Maximum Likelihood Estimation\n",
    "\n",
    "\n",
    "\n",
    "Applying, Monte Carlo estimation, we may approximate the expected log-likelihood\n",
    "$$\n",
    "\\ex{\\x}{P_{\\textrm{data}}}{\\log P_\\theta(\\x)}\n",
    "$$\n",
    "with the *empirical log-likelihood*:\n",
    "$$\n",
    "\\exd{\\cd}{P_\\theta(\\x)} = \\frac{1}{|\\cd|}\\sum_{\\x\\in \\cd} \\log P_\\theta(\\x)\n",
    "$$"
   ]
  },
  {
   "cell_type": "markdown",
   "metadata": {
    "slideshow": {
     "slide_type": "fragment"
    }
   },
   "source": [
    "Maximum likelihood learning is then:\n",
    "\n",
    "$$\n",
    "\\max_{P_\\theta} \\hspace{2mm} \\frac{1}{|\\cd|}\\sum_{\\x\\in \\cd} \\log P_\\theta(\\x).\n",
    "$$\n",
    "<!-- Equivalently, we maximize probability of the data under model $P_\\theta((x^{(1)}, y^{(1)}), \\cdots, (x^{(n)}, y^{(n)})) = \\prod_{\\x\\in \\cd} P_\\theta(\\x)$ -->"
   ]
  },
  {
   "cell_type": "markdown",
   "metadata": {
    "slideshow": {
     "slide_type": "slide"
    }
   },
   "source": [
    "# Example: Flipping a Random Coin\n",
    "\n",
    "How should we choose $P_\\theta(x)$ if 3 out of 5 coin tosses are heads? Let's apply maximum likelihood learning."
   ]
  },
  {
   "cell_type": "markdown",
   "metadata": {
    "slideshow": {
     "slide_type": "fragment"
    }
   },
   "source": [
    "* Our model is $P_\\theta(x=H)=\\theta$ and $P_\\theta(x=T)=1-\\theta$\n",
    "\n",
    "* Our data is: $\\cd=\\{H,H,T,H,T\\}$ \n",
    "* The likelihood of the data is $\\prod_{i} P_\\theta(x_i)=\\theta \\cdot \\theta \\cdot (1-\\theta) \\cdot \\theta \\cdot (1-\\theta)$."
   ]
  },
  {
   "cell_type": "markdown",
   "metadata": {
    "slideshow": {
     "slide_type": "subslide"
    }
   },
   "source": [
    "We optimize for $\\theta$ which makes $\\cd$ most likely. What is the solution in this case?\n"
   ]
  },
  {
   "cell_type": "markdown",
   "metadata": {
    "slideshow": {
     "slide_type": "slide"
    }
   },
   "source": [
    "\n",
    "# Part 2: Kernel Density Estimation\n",
    "\n",
    "Next, let's look at a first example of probabilistic models and how they are used to perform density estimation."
   ]
  },
  {
   "cell_type": "markdown",
   "metadata": {
    "slideshow": {
     "slide_type": "slide"
    }
   },
   "source": [
    "# Review: Data Distribution\n",
    "\n",
    "We will assume that the dataset is sampled from a probability distribution $\\mathbb{P}$, which we will call the *data distribution*. We will denote this as\n",
    "$$x \\sim P_\\text{data}.$$\n",
    "\n",
    "The dataset $\\mathcal{D} = \\{x^{(i)} \\mid i = 1,2,...,n\\}$ consists of *independent and identicaly distributed* (IID) samples from $P_\\text{data}$."
   ]
  },
  {
   "cell_type": "markdown",
   "metadata": {
    "slideshow": {
     "slide_type": "slide"
    }
   },
   "source": [
    "# Review: Unsupervised Probabilistic Models\n",
    "\n",
    "An unsupervised probabilistic model is a probability distribution\n",
    "$$P_\\theta(x) : \\mathcal{X} \\to [0,1].$$\n",
    "This model can approximate the data distribution $P_\\text{data}$. It may have parameters $\\theta$."
   ]
  },
  {
   "cell_type": "markdown",
   "metadata": {
    "slideshow": {
     "slide_type": "slide"
    }
   },
   "source": [
    "# Density Estimation\n",
    "\n",
    "The problem of density estimation is to approximate the data distribution $P_\\text{data}$ with the model $P$.\n",
    "$$ P \\approx P_\\text{data}. $$"
   ]
  },
  {
   "cell_type": "markdown",
   "metadata": {
    "slideshow": {
     "slide_type": "fragment"
    }
   },
   "source": [
    "It's also a general learning task. We can solve many downstream tasks using a good model $P$:\n",
    "* Outlier and novelty detection\n",
    "* Generating new samples $x$\n",
    "* Visualizing and understanding the structure of $P_\\text{data}$"
   ]
  },
  {
   "cell_type": "markdown",
   "metadata": {
    "slideshow": {
     "slide_type": "slide"
    }
   },
   "source": [
    "# Histogram Density Estimation\n",
    "\n",
    "Perhaps the simplest approach to density estimation is by forming a histogram.\n",
    "\n",
    "A histogram partitions the input space $x$ into a $d$-dimensional grid and counts the number of points in each cell."
   ]
  },
  {
   "cell_type": "markdown",
   "metadata": {
    "slideshow": {
     "slide_type": "subslide"
    }
   },
   "source": [
    "This is best illustrated by an example. \n",
    "\n",
    "Let's start by creating a simple 1D dataset coming from a mixture of two Gaussians:\n",
    "\n",
    "$$P_\\text{data}(x) = 0.3 \\cdot \\mathcal{N}(x ; \\mu=0, \\sigma=1) + 0.7 \\cdot \\mathcal{N}(x ; \\mu=5, \\sigma=1)$$"
   ]
  },
  {
   "cell_type": "code",
   "execution_count": null,
   "metadata": {
    "slideshow": {
     "slide_type": "fragment"
    }
   },
   "outputs": [
    {
     "name": "stdout",
     "output_type": "stream",
     "text": [
      "[ 1.62434536 -0.61175641 -0.52817175 -1.07296862  0.86540763 -2.3015387\n",
      "  6.74481176  4.2387931   5.3190391   4.75062962  6.46210794  2.93985929\n",
      "  4.6775828   4.61594565  6.13376944  3.90010873  4.82757179  4.12214158\n",
      "  5.04221375  5.58281521]\n"
     ]
    }
   ],
   "source": [
    "# https://scikit-learn.org/stable/auto_examples/neighbors/plot_kde_1d.html\n",
    "import numpy as np\n",
    "np.random.seed(1)\n",
    "\n",
    "N = 20 # number of points\n",
    "# concat samples from two Gaussians:\n",
    "X = np.concatenate((\n",
    "    np.random.normal(0, 1, int(0.3 * N)), \n",
    "    np.random.normal(5, 1, int(0.7 * N))\n",
    "))[:, np.newaxis]\n",
    "bins = np.linspace(-5, 10, 10) # locations of the bins\n",
    "\n",
    "# print out X\n",
    "print(X.flatten())"
   ]
  },
  {
   "cell_type": "markdown",
   "metadata": {
    "slideshow": {
     "slide_type": "subslide"
    }
   },
   "source": [
    "We can now estimate the density using a histogram."
   ]
  },
  {
   "cell_type": "code",
   "execution_count": null,
   "metadata": {
    "slideshow": {
     "slide_type": "fragment"
    }
   },
   "outputs": [
    {
     "data": {
      "text/plain": [
       "(-0.02, 0.25)"
      ]
     },
     "execution_count": 3,
     "metadata": {},
     "output_type": "execute_result"
    },
    {
     "data": {
      "image/png": "[encoded data removed]",
      "text/plain": [
       "<Figure size 432x288 with 1 Axes>"
      ]
     },
     "metadata": {
      "needs_background": "light"
     },
     "output_type": "display_data"
    }
   ],
   "source": [
    "import matplotlib.pyplot as plt\n",
    "\n",
    "plt.hist(X[:, 0], bins=bins, density=True) # plot the histogram\n",
    "plt.plot(X[:, 0], np.full(X.shape[0], -0.01), '.k', markersize=10) # plot the points in X\n",
    "plt.xlim(-4, 9)\n",
    "plt.ylim(-0.02, 0.25)"
   ]
  },
  {
   "cell_type": "markdown",
   "metadata": {
    "slideshow": {
     "slide_type": "slide"
    }
   },
   "source": [
    "# Limitations of Histograms\n",
    "\n",
    "Histogram-based methods have a number of shortcomings.\n",
    "* The number of grid cells increases exponentially with dimension $d$.\n",
    "* The histogram is not \"smooth\".\n",
    "* The shape of the histogram depends on the bin positions.\n",
    "\n",
    "We will now try to address the last two limitations."
   ]
  },
  {
   "cell_type": "markdown",
   "metadata": {
    "slideshow": {
     "slide_type": "subslide"
    }
   },
   "source": [
    "Let's also visualize what we mean when we say that shape of the histogram depends on the histogram bins."
   ]
  },
  {
   "cell_type": "code",
   "execution_count": null,
   "metadata": {
    "slideshow": {
     "slide_type": "fragment"
    }
   },
   "outputs": [
    {
     "data": {
      "image/png": "[encoded data removed]",
      "text/plain": [
       "<Figure size 864x288 with 2 Axes>"
      ]
     },
     "metadata": {
      "needs_background": "light"
     },
     "output_type": "display_data"
    }
   ],
   "source": [
    "fig, ax = plt.subplots(1, 2, sharex=True, sharey=True, figsize=(12,4))\n",
    "ax[0].hist(X[:, 0], bins=bins, density=True) # plot the histogram\n",
    "ax[1].hist(X[:, 0], bins=bins+0.75, density=True) # plot the histogram with bin centers shifted by 0.75\n",
    "for axi in ax.ravel():\n",
    "    axi.plot(X[:, 0], np.full(X.shape[0], -0.01), '.k', markersize=10) # plot the points in X\n",
    "    axi.set_xlim(-4, 9)\n",
    "    axi.set_ylim(-0.02, 0.3)"
   ]
  },
  {
   "cell_type": "markdown",
   "metadata": {
    "slideshow": {
     "slide_type": "slide"
    }
   },
   "source": [
    "# Kernel Density Estimation: Idea\n",
    "\n",
    "Kernel density estimation (KDE) is a different approach to histogram estimation.\n",
    "* A histogram has $b$ bins of width $\\delta$ at fixed positions.\n",
    "* KDE effectively places a bin of with $\\delta$ at each $x \\in \\mathcal{X}$.\n",
    "* To obtain $P(x)$, we count the % of points that fall in the bin centered at $x$."
   ]
  },
  {
   "cell_type": "markdown",
   "metadata": {
    "slideshow": {
     "slide_type": "slide"
    }
   },
   "source": [
    "# Tophat Kernel Density Estimation\n",
    "\n",
    "The simplest form of this strategy (Tophat KDE) assumes a model of the form\n",
    "$$P_\\delta(x) = \\frac{N(x; \\delta)}{n},$$\n",
    "where\n",
    "$$ N(x; \\delta) = |\\{x^{(i)} : ||x^{(i)} - x || \\leq \\delta/2\\}|, $$\n",
    "is the number of points that are within a bin of with $\\delta$ centered at $x$."
   ]
  },
  {
   "cell_type": "markdown",
   "metadata": {
    "slideshow": {
     "slide_type": "subslide"
    }
   },
   "source": [
    "This is best understood via a picture."
   ]
  },
  {
   "cell_type": "code",
   "execution_count": null,
   "metadata": {
    "slideshow": {
     "slide_type": "fragment"
    }
   },
   "outputs": [
    {
     "data": {
      "text/plain": [
       "(-0.02, 0.32)"
      ]
     },
     "execution_count": 5,
     "metadata": {},
     "output_type": "execute_result"
    },
    {
     "data": {
      "image/png": "[encoded data removed]",
      "text/plain": [
       "<Figure size 432x288 with 1 Axes>"
      ]
     },
     "metadata": {
      "needs_background": "light"
     },
     "output_type": "display_data"
    }
   ],
   "source": [
    "from sklearn.neighbors import KernelDensity\n",
    "\n",
    "kde = KernelDensity(kernel='tophat', bandwidth=0.75).fit(X) # fit a KDE model\n",
    "x_ticks = np.linspace(-5, 10, 1000)[:, np.newaxis] # choose 1000 points on x-axis\n",
    "log_density = kde.score_samples(x_ticks) # compute density at 1000 points\n",
    "\n",
    "plt.fill(x_ticks[:, 0], np.exp(log_density)) # plot the density estimate\n",
    "plt.plot(X[:, 0], np.full(X.shape[0], -0.01), '.k', markersize=10) # plot the points in X\n",
    "plt.xlim(-4, 9)\n",
    "plt.ylim(-0.02, 0.32)"
   ]
  },
  {
   "cell_type": "markdown",
   "metadata": {
    "slideshow": {
     "slide_type": "subslide"
    }
   },
   "source": [
    "The above algorithm still has the problem of producing a density estimate that is not smooth.\n",
    "\n",
    "We are going to resolve this by replacing histogram counts with weighted averages."
   ]
  },
  {
   "cell_type": "markdown",
   "metadata": {
    "slideshow": {
     "slide_type": "slide"
    }
   },
   "source": [
    "# Review: Kernels\n",
    "\n",
    "A *kernel function* $K : \\mathcal{X} \\times \\mathcal{X} \\to [0, \\infty]$ maps pairs of vectors $x, z \\in \\mathcal{X}$ to a real-valued score $K(x,z)$.\n",
    "\n",
    "* A kernel represents the similarity between $x$ and $z$.\n",
    "* It also often encodes the dot product between $x$ and $z$ in some high-dimensional feature space\n",
    "\n",
    "We will use the first interpretation here."
   ]
  },
  {
   "cell_type": "markdown",
   "metadata": {
    "slideshow": {
     "slide_type": "slide"
    }
   },
   "source": [
    "# Kernel Density Estimation\n",
    "\n",
    "A kernelized density model $P$ takes the form:\n",
    "$$P(x) \\propto \\sum_{i=1}^n K(x, x^{(i)}).$$\n",
    "This can be interpreted in different ways:\n",
    "* We count the number of points \"near\" $x$, but each $x^{(i)}$ has a weight $K(x, x^{(i)})$ that depends on similarity between $x, x^{(i)}$.\n",
    "* We place a \"micro-density\" $K(x, x^{(i)})$ at each $x^{(i)}$; the final density $P(x)$ is their sum."
   ]
  },
  {
   "cell_type": "markdown",
   "metadata": {
    "slideshow": {
     "slide_type": "slide"
    }
   },
   "source": [
    "# Types of Kernels\n",
    "\n",
    "We have seen several types of kernels in the context of support vector machines.\n",
    "\n",
    "There are additional kernels that are popular for density estimation."
   ]
  },
  {
   "cell_type": "markdown",
   "metadata": {
    "slideshow": {
     "slide_type": "subslide"
    }
   },
   "source": [
    "The following kernels are available in `scikit-learn`.\n",
    "* Gaussian kernel $K(x,z; \\delta) \\propto \\exp(-||x-z||^2/2\\delta^2)$\n",
    "* Tophat kernel $K(x,z; \\delta) = 1 \\text{ if } ||x-z|| \\leq \\delta/2$ else $0$.\n",
    "* Epanechnikov kernel $K(x,z; \\delta) \\propto 1 - ||x-z||^2/\\delta^2$\n",
    "* Exponential kernel $K(x,z; \\delta) \\propto \\exp(-||x-z||/\\delta)$\n",
    "* Linear kernel $K(x,z; \\delta) \\propto (1 - ||x-z||/\\delta)^+$"
   ]
  },
  {
   "cell_type": "markdown",
   "metadata": {
    "slideshow": {
     "slide_type": "subslide"
    }
   },
   "source": [
    "It's easier to understand these kernels by looking at a figure."
   ]
  },
  {
   "cell_type": "code",
   "execution_count": null,
   "metadata": {
    "slideshow": {
     "slide_type": "fragment"
    }
   },
   "outputs": [
    {
     "data": {
      "text/plain": [
       "Text(0.5, 1.0, 'Available Kernels')"
      ]
     },
     "execution_count": 6,
     "metadata": {},
     "output_type": "execute_result"
    },
    {
     "data": {
      "image/png": "[encoded data removed]",
      "text/plain": [
       "<Figure size 864x288 with 6 Axes>"
      ]
     },
     "metadata": {
      "needs_background": "light"
     },
     "output_type": "display_data"
    }
   ],
   "source": [
    "# https://scikit-learn.org/stable/auto_examples/neighbors/plot_kde_1d.html\n",
    "X_plot = np.linspace(-6, 6, 1000)[:, None]\n",
    "X_src = np.zeros((1, 1))\n",
    "\n",
    "fig, ax = plt.subplots(2, 3, sharex=True, sharey=True, figsize=(12,4))\n",
    "fig.subplots_adjust(left=0.05, right=0.95, hspace=0.05, wspace=0.05)\n",
    "\n",
    "def format_func(x, loc):\n",
    "    if x == 0:\n",
    "        return '0'\n",
    "    elif x == 1:\n",
    "        return '$\\delta/2$'\n",
    "    elif x == -1:\n",
    "        return '-$\\delta/2$'\n",
    "    else:\n",
    "        return '%i$\\delta$' % (int(x/2))\n",
    "\n",
    "for i, kernel in enumerate(['gaussian', 'tophat', 'epanechnikov',\n",
    "                            'exponential', 'linear', 'cosine']):\n",
    "    axi = ax.ravel()[i]\n",
    "    log_dens = KernelDensity(kernel=kernel).fit(X_src).score_samples(X_plot)\n",
    "    axi.fill(X_plot[:, 0], np.exp(log_dens), '-k', fc='#AAAAFF')\n",
    "    axi.text(-2.6, 0.95, kernel)\n",
    "\n",
    "    axi.xaxis.set_major_formatter(plt.FuncFormatter(format_func))\n",
    "    axi.xaxis.set_major_locator(plt.MultipleLocator(1))\n",
    "    axi.yaxis.set_major_locator(plt.NullLocator())\n",
    "\n",
    "    axi.set_ylim(0, 1.05)\n",
    "    axi.set_xlim(-2.9, 2.9)\n",
    "\n",
    "ax[0, 1].set_title('Available Kernels')\n"
   ]
  },
  {
   "cell_type": "markdown",
   "metadata": {
    "slideshow": {
     "slide_type": "slide"
    }
   },
   "source": [
    "# Kernel Density Estimation: Example\n",
    "\n",
    "Let's look at an example in the context of the 1D points we have seen earlier.\n",
    "\n",
    "We will fit a model of the form\n",
    "$$P(x) = \\sum_{i=1}^n K(x, x^{(i)})$$\n",
    "with a Gaussian kernel $K(x,z; \\delta) \\propto \\exp(-||x-z||^2/2\\delta^2)$."
   ]
  },
  {
   "cell_type": "code",
   "execution_count": null,
   "metadata": {
    "slideshow": {
     "slide_type": "subslide"
    }
   },
   "outputs": [
    {
     "data": {
      "text/plain": [
       "(-0.02, 0.32)"
      ]
     },
     "execution_count": 10,
     "metadata": {},
     "output_type": "execute_result"
    },
    {
     "data": {
      "image/png": "[encoded data removed]",
      "text/plain": [
       "<Figure size 864x288 with 1 Axes>"
      ]
     },
     "metadata": {
      "needs_background": "light"
     },
     "output_type": "display_data"
    }
   ],
   "source": [
    "from sklearn.neighbors import KernelDensity\n",
    "\n",
    "kde = KernelDensity(kernel='gaussian', bandwidth=0.75).fit(X) # fit a KDE model\n",
    "x_ticks = np.linspace(-5, 10, 1000)[:, np.newaxis] # choose 1000 points on x-axis\n",
    "log_density = kde.score_samples(x_ticks) # compute density at 1000 points\n",
    "gaussian_kernel = lambda z : lambda x: np.exp(-np.abs(x-z)**2/(0.75**2)) # gaussian kernel\n",
    "kernel_linspace = lambda x : np.linspace(x-1.2,x+1.2,30)\n",
    "\n",
    "plt.figure(figsize=(12,4))\n",
    "plt.plot(x_ticks[:, 0], np.exp(log_density)) # plot the density estimate\n",
    "plt.plot(X[:, 0], np.full(X.shape[0], -0.01), '.k', markersize=10) # plot the points in X\n",
    "plt.plot(kernel_linspace(4), 0.07*gaussian_kernel(4)(kernel_linspace(4)), '--', color='r', alpha=0.75)\n",
    "plt.plot(kernel_linspace(5), 0.07*gaussian_kernel(5)(kernel_linspace(5)), '--', color='r', alpha=0.75)\n",
    "plt.plot(kernel_linspace(1), 0.07*gaussian_kernel(1)(kernel_linspace(1)), '--', color='r', alpha=0.75)\n",
    "plt.xlim(-4, 9)\n",
    "plt.ylim(-0.02, 0.32)"
   ]
  },
  {
   "cell_type": "markdown",
   "metadata": {
    "slideshow": {
     "slide_type": "slide"
    }
   },
   "source": [
    "# KDE in Higher Dimensions\n",
    "\n",
    "In principle, kernel density estimation also works in higher dimensions.\n",
    "\n",
    "However, the number of datapoints needed for a good fit increases exponentially with the dimension, which limits the applications of this model in high dimensions."
   ]
  },
  {
   "cell_type": "markdown",
   "metadata": {
    "slideshow": {
     "slide_type": "slide"
    }
   },
   "source": [
    "# Choosing Hyperparameters\n",
    "\n",
    "Each kernel has a notion of \"bandwidth\" $\\delta$. This is a hyperparameter that controls the \"smoothness\" of the fit.\n",
    "* We can choose it using inspection or heuristics like we did for $K$ in $K$-Means.\n",
    "* Because we have a probabilistic model, we can also estimate likelihood on a holdout dataset (more on this later!)"
   ]
  },
  {
   "cell_type": "markdown",
   "metadata": {
    "slideshow": {
     "slide_type": "subslide"
    }
   },
   "source": [
    "Let's illustrate how the bandwidth affects smoothness via an example."
   ]
  },
  {
   "cell_type": "code",
   "execution_count": null,
   "metadata": {
    "slideshow": {
     "slide_type": "fragment"
    }
   },
   "outputs": [
    {
     "data": {
      "image/png": "[encoded data removed]",
      "text/plain": [
       "<Figure size 864x288 with 2 Axes>"
      ]
     },
     "metadata": {
      "needs_background": "light"
     },
     "output_type": "display_data"
    }
   ],
   "source": [
    "from sklearn.neighbors import KernelDensity\n",
    "\n",
    "kde1 = KernelDensity(kernel='gaussian', bandwidth=3).fit(X) # fit a KDE model\n",
    "kde2 = KernelDensity(kernel='gaussian', bandwidth=0.2).fit(X) # fit a KDE model\n",
    "\n",
    "fig, ax = plt.subplots(1, 2, sharex=True, sharey=True, figsize=(12,4))\n",
    "ax[0].fill(x_ticks[:, 0], np.exp(kde1.score_samples(x_ticks))) # plot the density estimate\n",
    "ax[1].fill(x_ticks[:, 0], np.exp(kde2.score_samples(x_ticks))) # plot the density estimate\n",
    "ax[0].set_title('Bandwidth Too High')\n",
    "ax[1].set_title('Bandwidth Too Low')\n",
    "\n",
    "for axi in ax.ravel():\n",
    "    axi.plot(X[:, 0], np.full(X.shape[0], -0.01), '.k', markersize=10) # plot the points in X\n",
    "    axi.set_xlim(-4, 9)\n",
    "    axi.set_ylim(-0.02, 0.4)"
   ]
  },
  {
   "cell_type": "markdown",
   "metadata": {
    "slideshow": {
     "slide_type": "slide"
    }
   },
   "source": [
    "# Algorithm: Kernel Density Estimation\n",
    "\n",
    "* __Type__: Unsupervised learning (density estimation).\n",
    "* __Model family__: Non-parametric. Sum of $n$ kernels.\n",
    "* __Objective function__: Log-likelihood to choose optimal bandwidth.\n",
    "* __Optimizer__: Grid search."
   ]
  },
  {
   "cell_type": "markdown",
   "metadata": {
    "slideshow": {
     "slide_type": "slide"
    }
   },
   "source": [
    "# Pros and Cons of KDE\n",
    "***\n",
    "Pros:\n",
    "* Can approximate any data distribution arbtrarily well.\n",
    "\n",
    "Cons:\n",
    "* Need to store entire dataset to make queries, which is computationally prohibitive.\n",
    "* Number of data needed scale exponentially with dimension (\"curse of dimensionality\").\n",
    "***"
   ]
  },
  {
   "cell_type": "markdown",
   "metadata": {
    "slideshow": {
     "slide_type": "slide"
    }
   },
   "source": [
    "\n",
    "# Part 3: Latent Variable Models\n",
    "\n",
    "Probabilistic models we have seen earlier often need to approximate complex distributions.\n",
    "\n",
    "In order to make our models more expressive, we introduce additional structure in the form of latent variables."
   ]
  },
  {
   "cell_type": "markdown",
   "metadata": {
    "slideshow": {
     "slide_type": "slide"
    }
   },
   "source": [
    "# Review: Probabilistic Models\n",
    "\n",
    "An unsupervised probabilistic model is a probability distribution\n",
    "$$P(x) : \\mathcal{X} \\to [0,1].$$\n",
    "This model can approximate the data distribution $P_\\text{data}$."
   ]
  },
  {
   "cell_type": "markdown",
   "metadata": {
    "slideshow": {
     "slide_type": "fragment"
    }
   },
   "source": [
    "Probabilistic models also have *parameters* $\\theta \\in \\Theta$, which we denote as\n",
    "$$P_\\theta(x) : \\mathcal{X} \\to [0,1].$$"
   ]
  },
  {
   "cell_type": "markdown",
   "metadata": {
    "slideshow": {
     "slide_type": "slide"
    }
   },
   "source": [
    "# Review: Maximum Likelihood\n",
    "\n",
    "\n",
    "In maximum likelihood learning, we maximize the *empirical log-likelihood*\n",
    "$$\n",
    "\\max_{P_\\theta} \\hspace{2mm} \\frac{1}{|\\cd|}\\sum_{\\x\\in \\cd} \\log P_\\theta(\\x),\n",
    "$$\n",
    "where $\\mathcal{D} = \\{x^{(i)} \\mid i = 1,2,...,n\\}$ is a dataset of *independent and identicaly distributed* (IID) samples from $P_\\text{data}$."
   ]
  },
  {
   "cell_type": "markdown",
   "metadata": {
    "slideshow": {
     "slide_type": "slide"
    }
   },
   "source": [
    "# Latent Variable Models: Motivation\n",
    "\n",
    "Consider the following dataset of human faces.\n",
    "\n",
    "<center><img width=30% src=\"img/celebA.png\"></center>\n",
    "\n",
    "* It contains variability due to gender, eye color, hair color, pose, etc.\n",
    "* However, unless these images are annotated, these factors of variation are not explicitly available (latent)."
   ]
  },
  {
   "cell_type": "markdown",
   "metadata": {
    "slideshow": {
     "slide_type": "fragment"
    }
   },
   "source": [
    "__Idea__: Explicitly model these factors using latent variables $z$ "
   ]
  },
  {
   "cell_type": "markdown",
   "metadata": {
    "slideshow": {
     "slide_type": "slide"
    }
   },
   "source": [
    "# Latent Variable Models: Definition\n",
    "\n",
    "An latent-variable model is a probability distribution\n",
    "$$P_\\theta(x, z) : \\mathcal{X} \\times \\mathcal{Z} \\to [0,1]$$\n",
    "\n",
    "containing two sets of variables:\n",
    "* Observed $x$ that represent the high-dimensional object we are trying to model.\n",
    "* Latent $z$ that are not in the training set, but can encode hidden structure in the data."
   ]
  },
  {
   "cell_type": "markdown",
   "metadata": {
    "slideshow": {
     "slide_type": "fragment"
    }
   },
   "source": [
    "This model defines a $P_\\theta(x) = \\sum_{z \\in \\mathcal{Z}} P_\\theta(x,z)$ that can approximate the data distribution $P_\\text{data}(x)$."
   ]
  },
  {
   "cell_type": "markdown",
   "metadata": {
    "slideshow": {
     "slide_type": "slide"
    }
   },
   "source": [
    "# Latent Variable Models (LVMs): Example\n",
    "\n",
    "Consider the following example of latent variables\n",
    "<center><img width=50% src=\"img/cartoonLVmodel.png\"></center>\n",
    "\n",
    "\n",
    "Only shaded variables $x$ are observed in the data (pixel values).\n",
    "Latent variables $z$ correspond to high level features\n",
    "* If $z$ is chosen properly, $\\Pr(x| z)$ is much simpler than $\\Pr(x)$\n",
    "* We can identify features via $\\Pr(z \\mid x)$, e.g., $\\Pr(\\text{eye color} = \\text{blue} | \\x)$"
   ]
  },
  {
   "cell_type": "markdown",
   "metadata": {
    "slideshow": {
     "slide_type": "slide"
    }
   },
   "source": [
    "# Mixtures of Gaussians\n",
    "\n",
    "A mixture of Gaussians is a probability distribution $P(x,z)$ that factorizes into two components:\n",
    "<center><img width=50% src=\"img/mogdensity_v3.png\"></center>\n",
    "\n",
    "* $P_\\theta(z)$ is a [categorical](https://en.wikipedia.org/wiki/Categorical_distribution) distribution, and $P_\\theta(z=k) = \\phi_k$.\n",
    "* $P_\\theta(x\\mid z=k)$ is a [multivariate Gaussian](https://en.wikipedia.org/wiki/Multivariate_normal_distribution) $\\mathcal{N}(x; \\mu_k, \\Sigma_k)$ with mean and covariance $\\mu_k, \\Sigma_k$."
   ]
  },
  {
   "cell_type": "markdown",
   "metadata": {
    "slideshow": {
     "slide_type": "subslide"
    }
   },
   "source": [
    "Thus, $P_\\theta(x,z)$ is a mixture of $K$ Gaussians:\n",
    "$$P_\\theta(x,z) = \\sum_{k=1}^K P_\\theta(z=k) P_\\theta(x|z=k) = \\sum_{k=1}^K \\phi_k \\mathcal{N}(x; \\mu_k, \\Sigma_k)$$"
   ]
  },
  {
   "cell_type": "markdown",
   "metadata": {
    "slideshow": {
     "slide_type": "subslide"
    }
   },
   "source": [
    "Mixtures of Gaussians fit more complex distributions than one Gaussian."
   ]
  },
  {
   "cell_type": "markdown",
   "metadata": {
    "slideshow": {
     "slide_type": "fragment"
    }
   },
   "source": [
    "\n",
    "Raw data | Single Gaussian | Mixture of Gaussians\n",
    "--|--|---\n",
    "<img width=90% src=\"img/oldfaithful_v2.png\"> | <img width=90% src=\"img/oldfSingle_v2.png\"> | <img width=90% src=\"img/oldfMOG_v2.png\">"
   ]
  },
  {
   "cell_type": "markdown",
   "metadata": {
    "slideshow": {
     "slide_type": "skip"
    }
   },
   "source": [
    "# Representational Power of LVMs\n",
    "\n",
    "An important reason for using LVMs is that they are more expressive models.\n",
    "\n",
    "<center><img width=50% src=\"img/mogdensity1d_v2.png\"></center>"
   ]
  },
  {
   "cell_type": "markdown",
   "metadata": {
    "slideshow": {
     "slide_type": "slide"
    }
   },
   "source": [
    "# Feature Representations from LVMs\n",
    "\n",
    "Given $P_\\theta(x,z)$ we can compute $P_\\theta(z|x)$ to find useful latent representations.\n",
    "\n",
    "<center><img width=70% src=\"img/dcgan_feats.png\"></center>"
   ]
  },
  {
   "cell_type": "markdown",
   "metadata": {
    "slideshow": {
     "slide_type": "subslide"
    }
   },
   "source": [
    "Latent variables are also useful to identify clusters in the data.\n",
    "\n",
    "<center><img width=50% src=\"img/aae_dim_reduc_2.png\"></center>"
   ]
  },
  {
   "cell_type": "markdown",
   "metadata": {
    "slideshow": {
     "slide_type": "slide"
    }
   },
   "source": [
    "# Learning Latent Variable Models\n",
    "\n",
    "We can learn latent variable models using maximum likelihood:\n",
    "\n",
    "$$\n",
    "\\sum_{\\x\\in \\cd} \\log P(\\x ; \\theta)  = \\sum_{\\x\\in \\cd} \\log \\sum_{z \\in \\mathcal{Z}}P(\\x, z; \\theta)\n",
    "$$"
   ]
  },
  {
   "cell_type": "markdown",
   "metadata": {
    "slideshow": {
     "slide_type": "fragment"
    }
   },
   "source": [
    "However, optimizing this objective is almost always intractable.\n",
    "* Consider a latent variable $z \\in \\{0,1\\}^{30}$, of thirty binary dimensions.\n",
    "* We need to sum over $2^{30} \\approx$ 1B possible values that $z$ can take.\n",
    "* For continuous variables we may need to solve an intractable integral $\\int P(x,z) dz$."
   ]
  },
  {
   "cell_type": "markdown",
   "metadata": {
    "slideshow": {
     "slide_type": "slide"
    }
   },
   "source": [
    "# Approximate Inference in LVMs\n",
    "\n",
    "In practice, we need to compute the likelihood objective (and its gradients) *approximately*.\n",
    "* This is called approximate inference. We will see examples soon.\n",
    "* The alternating algorithm for K-Means was a first simple example."
   ]
  },
  {
   "cell_type": "markdown",
   "metadata": {
    "slideshow": {
     "slide_type": "slide"
    }
   },
   "source": [
    "# Summary of LVMs\n",
    "\n",
    "Latent-variable models are an important class of machine learning models.\n",
    "* They can represent complex probability distributions\n",
    "* They can find unsupervised feature representations\n",
    "\n",
    "They also have drawbacks:\n",
    "* Learning these models is computationally intractable and requires approximate algorithms\n",
    "* Computing $P(z|x)$ to obtain latent features is also often intractable."
   ]
  }
 ],
 "metadata": {
  "accelerator": "GPU",
  "celltoolbar": "Slideshow",
  "colab": {
   "collapsed_sections": [],
   "name": "neural-ode.ipynb",
   "provenance": []
  },
  "kernelspec": {
   "display_name": "Python 3 (ipykernel)",
   "language": "python",
   "name": "python3"
  },
  "language_info": {
   "codemirror_mode": {
    "name": "ipython",
    "version": 3
   },
   "file_extension": ".py",
   "mimetype": "text/x-python",
   "name": "python",
   "nbconvert_exporter": "python",
   "pygments_lexer": "ipython3",
   "version": "3.11.4"
  },
  "rise": {
   "controlsTutorial": false,
   "height": 900,
   "help": false,
   "margin": 0,
   "maxScale": 2,
   "minScale": 0.2,
   "progress": true,
   "scroll": true,
   "theme": "simple",
   "width": 1200
  },
  "vscode": {
   "interpreter": {
    "hash": "21be62648f8e3839c3b4ce05d43053c0ccba5ecc90dec2be15f843391ed2568c"
   }
  }
 },
 "nbformat": 4,
 "nbformat_minor": 4
}
